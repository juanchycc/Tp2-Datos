{
 "cells": [
  {
   "cell_type": "code",
   "execution_count": null,
   "id": "b810311d",
   "metadata": {},
   "outputs": [],
   "source": [
    "import pandas as pd\n",
    "import seaborn as sns\n",
    "import matplotlib.pyplot as plot"
   ]
  },
  {
   "cell_type": "code",
   "execution_count": null,
   "id": "87755314",
   "metadata": {},
   "outputs": [],
   "source": [
    "train_values = pd.read_csv('train_values.csv')\n",
    "train_labels = pd.read_csv('train_labels.csv')\n",
    "test_values = pd.read_csv('test_values.csv')"
   ]
  },
  {
   "cell_type": "code",
   "execution_count": null,
   "id": "3b2e9945",
   "metadata": {},
   "outputs": [],
   "source": [
    "set_train = train_values.merge(train_labels)\n",
    "set_train.drop( columns=[\"building_id\"], inplace=True)\n",
    "set_train.head()"
   ]
  },
  {
   "cell_type": "markdown",
   "id": "4348adbd",
   "metadata": {},
   "source": [
    "Checkeamos la correlación entre las variables del set de datos"
   ]
  },
  {
   "cell_type": "code",
   "execution_count": null,
   "id": "d649104b",
   "metadata": {},
   "outputs": [],
   "source": [
    "set_train_correlation = set_train.corr()"
   ]
  },
  {
   "cell_type": "code",
   "execution_count": null,
   "id": "97bebed6",
   "metadata": {},
   "outputs": [],
   "source": [
    "plot.figure(figsize=(10,8))\n",
    "sns.heatmap(set_train_correlation)"
   ]
  },
  {
   "cell_type": "markdown",
   "id": "074db24e",
   "metadata": {},
   "source": [
    "Verificamos si tenemos algún valor nulo"
   ]
  },
  {
   "cell_type": "code",
   "execution_count": null,
   "id": "e64175e4",
   "metadata": {},
   "outputs": [],
   "source": [
    "set_train.isnull().any()"
   ]
  },
  {
   "cell_type": "markdown",
   "id": "8f3b4411",
   "metadata": {},
   "source": [
    "Análisis de datos"
   ]
  },
  {
   "cell_type": "code",
   "execution_count": null,
   "id": "c395b0ca",
   "metadata": {},
   "outputs": [],
   "source": [
    "set_train.info()"
   ]
  },
  {
   "cell_type": "markdown",
   "id": "d1f72325",
   "metadata": {},
   "source": [
    "Elimino las filas duplicadas, si es que las hay"
   ]
  },
  {
   "cell_type": "code",
   "execution_count": null,
   "id": "8c2310fc",
   "metadata": {},
   "outputs": [],
   "source": [
    "len_inicial=len(set_train)\n",
    "set_train=set_train.drop_duplicates(keep='last')\n",
    "len_final = len(set_train)"
   ]
  },
  {
   "cell_type": "markdown",
   "id": "8c561be0",
   "metadata": {},
   "source": [
    "Cantidad de filas duplicadas eliminadas"
   ]
  },
  {
   "cell_type": "code",
   "execution_count": null,
   "id": "eea57d05",
   "metadata": {},
   "outputs": [],
   "source": [
    "len_inicial-len_final"
   ]
  },
  {
   "cell_type": "markdown",
   "id": "1c456603",
   "metadata": {},
   "source": [
    "Evaluamos como varian las categoricas numericas, para buscar datos que puedan\n",
    "perturbar el analisis. (por lo tanto binario no se evalua, categorico tampoco)"
   ]
  },
  {
   "cell_type": "markdown",
   "id": "f4e9b1d7",
   "metadata": {},
   "source": [
    "Frecuencia de Geo Level 1, 2 y 3"
   ]
  },
  {
   "cell_type": "code",
   "execution_count": null,
   "id": "e49fd665",
   "metadata": {},
   "outputs": [],
   "source": [
    "set_train['geo_level_1_id'].plot.hist(bins=30,color='#B8243A')"
   ]
  },
  {
   "cell_type": "code",
   "execution_count": null,
   "id": "9b276a35",
   "metadata": {},
   "outputs": [],
   "source": [
    "set_train['geo_level_2_id'].plot.hist(bins=30,color='#B8243A')"
   ]
  },
  {
   "cell_type": "code",
   "execution_count": null,
   "id": "d6e77c5f",
   "metadata": {},
   "outputs": [],
   "source": [
    "set_train['geo_level_3_id'].plot.hist(bins=30,color='#B8243A')"
   ]
  },
  {
   "cell_type": "markdown",
   "id": "d72bfd1d",
   "metadata": {},
   "source": [
    "Frecuencia del Damage Grade"
   ]
  },
  {
   "cell_type": "code",
   "execution_count": null,
   "id": "8693143e",
   "metadata": {},
   "outputs": [],
   "source": [
    "ax = sns.countplot(x=set_train['damage_grade'],color='#B8243A')\n",
    "ax.set_title('Distribución del Damage Grade')"
   ]
  },
  {
   "cell_type": "markdown",
   "id": "32b9a643",
   "metadata": {},
   "source": [
    "Frecuencia de los valores de la Edad"
   ]
  },
  {
   "cell_type": "code",
   "execution_count": null,
   "id": "7c89b5fe",
   "metadata": {},
   "outputs": [],
   "source": [
    "set_train['age'].value_counts().sort_index().plot.bar(color='#B8243A', figsize=(10,5))"
   ]
  },
  {
   "cell_type": "markdown",
   "id": "e24fde63",
   "metadata": {},
   "source": [
    "Frecuencia de la cantidad de pisos"
   ]
  },
  {
   "cell_type": "code",
   "execution_count": null,
   "id": "9c3351db",
   "metadata": {},
   "outputs": [],
   "source": [
    "sns.countplot(x=set_train['count_floors_pre_eq'],color='#B8243A')"
   ]
  },
  {
   "cell_type": "code",
   "execution_count": null,
   "id": "b6aafe46",
   "metadata": {},
   "outputs": [],
   "source": [
    "set_train['count_floors_pre_eq'].value_counts()"
   ]
  },
  {
   "cell_type": "markdown",
   "id": "f1bef52f",
   "metadata": {},
   "source": [
    "Decidimos quedarnos con los datos que tienen una cantidad de pisos igual o menor a 7"
   ]
  },
  {
   "cell_type": "code",
   "execution_count": null,
   "id": "bb07e0bf",
   "metadata": {},
   "outputs": [],
   "source": [
    "set_train = set_train[set_train['count_floors_pre_eq'] <= 7]"
   ]
  },
  {
   "cell_type": "markdown",
   "id": "97986235",
   "metadata": {},
   "source": [
    "Frecuencia de las variables del área"
   ]
  },
  {
   "cell_type": "code",
   "execution_count": null,
   "id": "b7d21a0a",
   "metadata": {},
   "outputs": [],
   "source": [
    "set_train['area_percentage'].value_counts().sort_index().plot.bar(color='#B8243A', figsize=(20,5))"
   ]
  },
  {
   "cell_type": "markdown",
   "id": "27bbf2b1",
   "metadata": {},
   "source": [
    "Frecuencia de cantidad de familias, podemos observar que en la gran mayoría  de las construcciones vivía una sola familia"
   ]
  },
  {
   "cell_type": "code",
   "execution_count": null,
   "id": "ddd24931",
   "metadata": {},
   "outputs": [],
   "source": [
    "set_train['count_families'].value_counts().sort_index().plot.bar(color='#B8243A', figsize=(10,5))"
   ]
  },
  {
   "cell_type": "markdown",
   "id": "06c03be8",
   "metadata": {},
   "source": [
    "Analizamos la distribución del damage grade para las diferentes variables de la cantidad de familias"
   ]
  },
  {
   "cell_type": "code",
   "execution_count": null,
   "id": "61009a1b",
   "metadata": {},
   "outputs": [],
   "source": [
    "colores = [\"#E6DC4F\",\n",
    "           \"#DF7326\",\n",
    "           \"#C70244\"\n",
    "          ]\n",
    "a=set_train.groupby(['count_families','damage_grade']).size().reset_index()\n",
    "b=a.pivot(index='count_families',columns='damage_grade',values=0).reset_index()\n",
    "b.set_index('count_families',inplace=True)\n",
    "b.plot(kind='bar',stacked=True, color = colores, figsize=(10,5))"
   ]
  },
  {
   "cell_type": "markdown",
   "id": "9aa4f6b4",
   "metadata": {},
   "source": [
    "Frecuencia de las variables de la altura de las construcciones"
   ]
  },
  {
   "cell_type": "code",
   "execution_count": null,
   "id": "c1f23f2e",
   "metadata": {},
   "outputs": [],
   "source": [
    "#set_train['height_percentage'].plot.hist(bins=30,color='#F2AB6D')\n",
    "set_train['height_percentage'].value_counts().sort_index().plot.bar(color='#B8243A', figsize=(10,5))"
   ]
  },
  {
   "cell_type": "markdown",
   "id": "a3c07a4c",
   "metadata": {},
   "source": [
    "Frecuencia y cantidad de construcciones que tenían algún uso secundario"
   ]
  },
  {
   "cell_type": "code",
   "execution_count": null,
   "id": "a556dba1",
   "metadata": {},
   "outputs": [],
   "source": [
    "set_train.iloc[:, 27:38].sum().plot.bar(color='#B8243A', figsize=(10,5))\n",
    "#plot.xticks(rotation=55)"
   ]
  },
  {
   "cell_type": "code",
   "execution_count": null,
   "id": "a747fc15",
   "metadata": {},
   "outputs": [],
   "source": [
    "set_train.loc[set_train['area_percentage']<=50]['area_percentage'].value_counts().sort_index().plot.bar(color='#B8243A', figsize=(12,5))"
   ]
  },
  {
   "cell_type": "markdown",
   "id": "4d03e9ee",
   "metadata": {},
   "source": [
    "Frecuencia y distribución del Damage Grade según la Altura de la construcción"
   ]
  },
  {
   "cell_type": "code",
   "execution_count": null,
   "id": "fa71438b",
   "metadata": {},
   "outputs": [],
   "source": [
    "colores = [\"#E6DC4F\",\n",
    "           \"#DF7326\",\n",
    "           \"#C70244\"\n",
    "          ]\n",
    "a=set_train.groupby(['height_percentage','damage_grade']).size().reset_index()\n",
    "b=a.pivot(index='height_percentage',columns='damage_grade',values=0).reset_index()\n",
    "b.set_index('height_percentage',inplace=True)\n",
    "b.plot(kind='bar',stacked=True, color = colores, figsize=(10,5))"
   ]
  },
  {
   "cell_type": "markdown",
   "id": "b7a39809",
   "metadata": {},
   "source": [
    "Frecuencia y distribución del Damage Grade según el Área de la construcción"
   ]
  },
  {
   "cell_type": "code",
   "execution_count": null,
   "id": "3e046788",
   "metadata": {},
   "outputs": [],
   "source": [
    "a=set_train.groupby(['area_percentage','damage_grade']).size().reset_index()\n",
    "b=a.pivot(index='area_percentage',columns='damage_grade',values=0).reset_index()\n",
    "b.set_index('area_percentage',inplace=True)\n",
    "b.plot(kind='bar', stacked=True, color = colores, figsize=(15,10))"
   ]
  },
  {
   "cell_type": "code",
   "execution_count": null,
   "id": "4e355c6d",
   "metadata": {},
   "outputs": [],
   "source": [
    "a = 10"
   ]
  }
 ],
 "metadata": {
  "kernelspec": {
   "display_name": "Python 3",
   "language": "python",
   "name": "python3"
  },
  "language_info": {
   "codemirror_mode": {
    "name": "ipython",
    "version": 3
   },
   "file_extension": ".py",
   "mimetype": "text/x-python",
   "name": "python",
   "nbconvert_exporter": "python",
   "pygments_lexer": "ipython3",
   "version": "3.8.8"
  }
 },
 "nbformat": 4,
 "nbformat_minor": 5
}
