{
 "cells": [
  {
   "cell_type": "code",
   "execution_count": 72,
   "id": "a38f2b52",
   "metadata": {},
   "outputs": [],
   "source": [
    "import pandas as pd\n",
    "import matplotlib.pyplot as plt"
   ]
  },
  {
   "cell_type": "code",
   "execution_count": 73,
   "id": "f3ab689d",
   "metadata": {},
   "outputs": [],
   "source": [
    "train_values = pd.read_csv('train_values.csv')\n",
    "train_labels = pd.read_csv('train_labels.csv')\n",
    "test_values = pd.read_csv('test_values.csv',index_col='building_id')"
   ]
  },
  {
   "cell_type": "code",
   "execution_count": 74,
   "id": "682d53f3",
   "metadata": {},
   "outputs": [
    {
     "data": {
      "text/html": [
       "<div>\n",
       "<style scoped>\n",
       "    .dataframe tbody tr th:only-of-type {\n",
       "        vertical-align: middle;\n",
       "    }\n",
       "\n",
       "    .dataframe tbody tr th {\n",
       "        vertical-align: top;\n",
       "    }\n",
       "\n",
       "    .dataframe thead th {\n",
       "        text-align: right;\n",
       "    }\n",
       "</style>\n",
       "<table border=\"1\" class=\"dataframe\">\n",
       "  <thead>\n",
       "    <tr style=\"text-align: right;\">\n",
       "      <th></th>\n",
       "      <th>geo_level_1_id</th>\n",
       "      <th>geo_level_2_id</th>\n",
       "      <th>geo_level_3_id</th>\n",
       "      <th>count_floors_pre_eq</th>\n",
       "      <th>age</th>\n",
       "      <th>area_percentage</th>\n",
       "      <th>height_percentage</th>\n",
       "      <th>land_surface_condition</th>\n",
       "      <th>foundation_type</th>\n",
       "      <th>roof_type</th>\n",
       "      <th>...</th>\n",
       "      <th>has_secondary_use_hotel</th>\n",
       "      <th>has_secondary_use_rental</th>\n",
       "      <th>has_secondary_use_institution</th>\n",
       "      <th>has_secondary_use_school</th>\n",
       "      <th>has_secondary_use_industry</th>\n",
       "      <th>has_secondary_use_health_post</th>\n",
       "      <th>has_secondary_use_gov_office</th>\n",
       "      <th>has_secondary_use_use_police</th>\n",
       "      <th>has_secondary_use_other</th>\n",
       "      <th>damage_grade</th>\n",
       "    </tr>\n",
       "  </thead>\n",
       "  <tbody>\n",
       "    <tr>\n",
       "      <th>0</th>\n",
       "      <td>6</td>\n",
       "      <td>487</td>\n",
       "      <td>12198</td>\n",
       "      <td>2</td>\n",
       "      <td>30</td>\n",
       "      <td>6</td>\n",
       "      <td>5</td>\n",
       "      <td>t</td>\n",
       "      <td>r</td>\n",
       "      <td>n</td>\n",
       "      <td>...</td>\n",
       "      <td>0</td>\n",
       "      <td>0</td>\n",
       "      <td>0</td>\n",
       "      <td>0</td>\n",
       "      <td>0</td>\n",
       "      <td>0</td>\n",
       "      <td>0</td>\n",
       "      <td>0</td>\n",
       "      <td>0</td>\n",
       "      <td>3</td>\n",
       "    </tr>\n",
       "    <tr>\n",
       "      <th>1</th>\n",
       "      <td>8</td>\n",
       "      <td>900</td>\n",
       "      <td>2812</td>\n",
       "      <td>2</td>\n",
       "      <td>10</td>\n",
       "      <td>8</td>\n",
       "      <td>7</td>\n",
       "      <td>o</td>\n",
       "      <td>r</td>\n",
       "      <td>n</td>\n",
       "      <td>...</td>\n",
       "      <td>0</td>\n",
       "      <td>0</td>\n",
       "      <td>0</td>\n",
       "      <td>0</td>\n",
       "      <td>0</td>\n",
       "      <td>0</td>\n",
       "      <td>0</td>\n",
       "      <td>0</td>\n",
       "      <td>0</td>\n",
       "      <td>2</td>\n",
       "    </tr>\n",
       "    <tr>\n",
       "      <th>2</th>\n",
       "      <td>21</td>\n",
       "      <td>363</td>\n",
       "      <td>8973</td>\n",
       "      <td>2</td>\n",
       "      <td>10</td>\n",
       "      <td>5</td>\n",
       "      <td>5</td>\n",
       "      <td>t</td>\n",
       "      <td>r</td>\n",
       "      <td>n</td>\n",
       "      <td>...</td>\n",
       "      <td>0</td>\n",
       "      <td>0</td>\n",
       "      <td>0</td>\n",
       "      <td>0</td>\n",
       "      <td>0</td>\n",
       "      <td>0</td>\n",
       "      <td>0</td>\n",
       "      <td>0</td>\n",
       "      <td>0</td>\n",
       "      <td>3</td>\n",
       "    </tr>\n",
       "    <tr>\n",
       "      <th>3</th>\n",
       "      <td>22</td>\n",
       "      <td>418</td>\n",
       "      <td>10694</td>\n",
       "      <td>2</td>\n",
       "      <td>10</td>\n",
       "      <td>6</td>\n",
       "      <td>5</td>\n",
       "      <td>t</td>\n",
       "      <td>r</td>\n",
       "      <td>n</td>\n",
       "      <td>...</td>\n",
       "      <td>0</td>\n",
       "      <td>0</td>\n",
       "      <td>0</td>\n",
       "      <td>0</td>\n",
       "      <td>0</td>\n",
       "      <td>0</td>\n",
       "      <td>0</td>\n",
       "      <td>0</td>\n",
       "      <td>0</td>\n",
       "      <td>2</td>\n",
       "    </tr>\n",
       "    <tr>\n",
       "      <th>4</th>\n",
       "      <td>11</td>\n",
       "      <td>131</td>\n",
       "      <td>1488</td>\n",
       "      <td>3</td>\n",
       "      <td>30</td>\n",
       "      <td>8</td>\n",
       "      <td>9</td>\n",
       "      <td>t</td>\n",
       "      <td>r</td>\n",
       "      <td>n</td>\n",
       "      <td>...</td>\n",
       "      <td>0</td>\n",
       "      <td>0</td>\n",
       "      <td>0</td>\n",
       "      <td>0</td>\n",
       "      <td>0</td>\n",
       "      <td>0</td>\n",
       "      <td>0</td>\n",
       "      <td>0</td>\n",
       "      <td>0</td>\n",
       "      <td>3</td>\n",
       "    </tr>\n",
       "  </tbody>\n",
       "</table>\n",
       "<p>5 rows × 39 columns</p>\n",
       "</div>"
      ],
      "text/plain": [
       "   geo_level_1_id  geo_level_2_id  geo_level_3_id  count_floors_pre_eq  age  \\\n",
       "0               6             487           12198                    2   30   \n",
       "1               8             900            2812                    2   10   \n",
       "2              21             363            8973                    2   10   \n",
       "3              22             418           10694                    2   10   \n",
       "4              11             131            1488                    3   30   \n",
       "\n",
       "   area_percentage  height_percentage land_surface_condition foundation_type  \\\n",
       "0                6                  5                      t               r   \n",
       "1                8                  7                      o               r   \n",
       "2                5                  5                      t               r   \n",
       "3                6                  5                      t               r   \n",
       "4                8                  9                      t               r   \n",
       "\n",
       "  roof_type  ... has_secondary_use_hotel has_secondary_use_rental  \\\n",
       "0         n  ...                       0                        0   \n",
       "1         n  ...                       0                        0   \n",
       "2         n  ...                       0                        0   \n",
       "3         n  ...                       0                        0   \n",
       "4         n  ...                       0                        0   \n",
       "\n",
       "  has_secondary_use_institution has_secondary_use_school  \\\n",
       "0                             0                        0   \n",
       "1                             0                        0   \n",
       "2                             0                        0   \n",
       "3                             0                        0   \n",
       "4                             0                        0   \n",
       "\n",
       "   has_secondary_use_industry  has_secondary_use_health_post  \\\n",
       "0                           0                              0   \n",
       "1                           0                              0   \n",
       "2                           0                              0   \n",
       "3                           0                              0   \n",
       "4                           0                              0   \n",
       "\n",
       "   has_secondary_use_gov_office  has_secondary_use_use_police  \\\n",
       "0                             0                             0   \n",
       "1                             0                             0   \n",
       "2                             0                             0   \n",
       "3                             0                             0   \n",
       "4                             0                             0   \n",
       "\n",
       "   has_secondary_use_other  damage_grade  \n",
       "0                        0             3  \n",
       "1                        0             2  \n",
       "2                        0             3  \n",
       "3                        0             2  \n",
       "4                        0             3  \n",
       "\n",
       "[5 rows x 39 columns]"
      ]
     },
     "execution_count": 74,
     "metadata": {},
     "output_type": "execute_result"
    }
   ],
   "source": [
    "set_train = train_values.merge(train_labels)\n",
    "set_train.drop( columns=[\"building_id\"], inplace=True)\n",
    "set_train = set_train[set_train['count_floors_pre_eq'] <= 6]\n",
    "set_train.head()"
   ]
  },
  {
   "cell_type": "code",
   "execution_count": 75,
   "id": "2ae7485a",
   "metadata": {},
   "outputs": [],
   "source": [
    "#drop_columns = set_train.columns.values[26:38]\n",
    "#set_train.drop(columns= drop_columns, inplace = True)"
   ]
  },
  {
   "cell_type": "code",
   "execution_count": 76,
   "id": "92bf66c3",
   "metadata": {},
   "outputs": [
    {
     "data": {
      "image/png": "[encoded data removed]",
      "text/plain": [
       "<Figure size 432x288 with 1 Axes>"
      ]
     },
     "metadata": {
      "needs_background": "light"
     },
     "output_type": "display_data"
    }
   ],
   "source": [
    "materiales = set_train.iloc[:,14:25]\n",
    "materiales['damage_grade'] = set_train['damage_grade']\n",
    "vector_names = ['has_superstructure_rc_engineered','has_superstructure_cement_mortar_brick', 'has_superstructure_rc_non_engineered',\n",
    "               'has_superstructure_cement_mortar_stone','has_superstructure_other', 'has_superstructure_bamboo',\n",
    "                'has_superstructure_timber', \n",
    "                'has_superstructure_mud_mortar_brick', 'has_superstructure_mud_mortar_stone',\n",
    "                'has_superstructure_adobe_mud','has_superstructure_stone_flag']\n",
    "promedios = []\n",
    "for x in range(len(vector_names)):\n",
    "    aux = materiales.loc[materiales[vector_names[x]] == 1,:]\n",
    "    promedios.append(aux['damage_grade'].sum() / aux[vector_names[x]].sum())\n",
    "\n",
    "plt.bar(vector_names,promedios )\n",
    "plt.xticks(rotation=90)\n",
    "plt.show()"
   ]
  },
  {
   "cell_type": "code",
   "execution_count": 77,
   "id": "8da83860",
   "metadata": {},
   "outputs": [
    {
     "data": {
      "text/plain": [
       "<AxesSubplot:>"
      ]
     },
     "execution_count": 77,
     "metadata": {},
     "output_type": "execute_result"
    },
    {
     "data": {
      "image/png": "[encoded data removed]",
      "text/plain": [
       "<Figure size 432x288 with 1 Axes>"
      ]
     },
     "metadata": {
      "needs_background": "light"
     },
     "output_type": "display_data"
    }
   ],
   "source": [
    "set_train.iloc[:, 14:25].sum().plot.bar()"
   ]
  },
  {
   "cell_type": "code",
   "execution_count": 78,
   "id": "e24026c4",
   "metadata": {},
   "outputs": [],
   "source": [
    "values = [1, 0.9, 0.8, 0.7, 0.6, 0.5, 0.4, 0.3, 0.2, 0.1, 0.05]\n",
    "for i in range(11):\n",
    "    set_train.loc[:, [vector_names[i]]] = set_train.loc[:, [vector_names[i]]]*values[i]"
   ]
  },
  {
   "cell_type": "code",
   "execution_count": 79,
   "id": "b3978549",
   "metadata": {},
   "outputs": [
    {
     "data": {
      "text/plain": [
       "0    0.3\n",
       "1    0.2\n",
       "2    0.2\n",
       "3    1.1\n",
       "4    0.1\n",
       "Name: resistencia, dtype: float64"
      ]
     },
     "execution_count": 79,
     "metadata": {},
     "output_type": "execute_result"
    }
   ],
   "source": [
    "set_train['resistencia'] = 0\n",
    "for x in range(11):\n",
    "    set_train['resistencia'] += set_train[vector_names[x]]\n",
    "\n",
    "set_train['resistencia'].head()"
   ]
  },
  {
   "cell_type": "code",
   "execution_count": null,
   "id": "91ce6759",
   "metadata": {},
   "outputs": [],
   "source": []
  },
  {
   "cell_type": "code",
   "execution_count": 80,
   "id": "7b4df287",
   "metadata": {},
   "outputs": [],
   "source": [
    "land_surface_condition = pd.DataFrame()\n",
    "foundation_type = pd.DataFrame()"
   ]
  },
  {
   "cell_type": "code",
   "execution_count": 81,
   "id": "28f6c6b3",
   "metadata": {},
   "outputs": [],
   "source": [
    "land_surface_condition[['n', 'o', 't']]= pd.get_dummies(set_train['land_surface_condition'])\n",
    "foundation_type[['h', 'i', 'r', 'u', 'w']]= pd.get_dummies(set_train['foundation_type'])"
   ]
  },
  {
   "cell_type": "code",
   "execution_count": 82,
   "id": "82b9a8be",
   "metadata": {},
   "outputs": [],
   "source": [
    "land_surface_condition['n']  = land_surface_condition['n'] * land_surface_condition['n'].mean()\n",
    "land_surface_condition['o']  = land_surface_condition['o'] * land_surface_condition['o'].mean()\n",
    "land_surface_condition['t']  = land_surface_condition['t'] * land_surface_condition['t'].mean()"
   ]
  },
  {
   "cell_type": "code",
   "execution_count": 83,
   "id": "855bbd75",
   "metadata": {},
   "outputs": [],
   "source": [
    "foundation_type['h'] = foundation_type['h'] * foundation_type['h'].mean()\n",
    "foundation_type['i'] = foundation_type['i'] * foundation_type['i'].mean()\n",
    "foundation_type['r'] = foundation_type['r'] * foundation_type['r'].mean()\n",
    "foundation_type['u'] = foundation_type['u'] * foundation_type['u'].mean()\n",
    "foundation_type['w'] = foundation_type['w'] * foundation_type['w'].mean()"
   ]
  },
  {
   "cell_type": "code",
   "execution_count": 84,
   "id": "e376b08a",
   "metadata": {},
   "outputs": [],
   "source": [
    "set_train['land_surface_condition'] = land_surface_condition['n'] + land_surface_condition['o'] + land_surface_condition['t']\n",
    "set_train['foundation_type'] = foundation_type['h'] + foundation_type['i'] + foundation_type['r'] + foundation_type['u'] + foundation_type['w']\n",
    "\n",
    "set_train['base_condition'] = set_train['land_surface_condition'] + set_train['foundation_type']"
   ]
  },
  {
   "cell_type": "code",
   "execution_count": 85,
   "id": "75e0852f",
   "metadata": {},
   "outputs": [],
   "source": [
    "roof_type = pd.DataFrame()\n",
    "ground_floor_type = pd.DataFrame()\n",
    "other_floor_type = pd.DataFrame()"
   ]
  },
  {
   "cell_type": "code",
   "execution_count": 86,
   "id": "1cee3673",
   "metadata": {},
   "outputs": [],
   "source": [
    "roof_type[['n','q','x']] = pd.get_dummies(set_train['roof_type']) \n",
    "ground_floor_type[['f','m','v','x','z']] = pd.get_dummies(set_train['ground_floor_type'])\n",
    "other_floor_type[['j','q','s','x']] = pd.get_dummies(set_train['other_floor_type'])"
   ]
  },
  {
   "cell_type": "code",
   "execution_count": 87,
   "id": "8b0ab779",
   "metadata": {},
   "outputs": [],
   "source": [
    "roof_type['n'] = roof_type['n'] * roof_type['n'].mean()\n",
    "roof_type['q'] = roof_type['q'] * roof_type['q'].mean()\n",
    "roof_type['x'] = roof_type['x'] * roof_type['x'].mean()"
   ]
  },
  {
   "cell_type": "code",
   "execution_count": 88,
   "id": "18aad9d0",
   "metadata": {},
   "outputs": [],
   "source": [
    "ground_floor_type['f'] = ground_floor_type['f'] * ground_floor_type['f'].mean()\n",
    "ground_floor_type['m'] = ground_floor_type['m'] * ground_floor_type['m'].mean()\n",
    "ground_floor_type['v'] = ground_floor_type['v'] * ground_floor_type['v'].mean()\n",
    "ground_floor_type['x'] = ground_floor_type['x'] * ground_floor_type['x'].mean()\n",
    "ground_floor_type['z'] = ground_floor_type['z'] * ground_floor_type['z'].mean()"
   ]
  },
  {
   "cell_type": "code",
   "execution_count": 89,
   "id": "415107c1",
   "metadata": {},
   "outputs": [],
   "source": [
    "other_floor_type['j'] = other_floor_type['j'] * other_floor_type['j'].mean()\n",
    "other_floor_type['q'] = other_floor_type['q'] * other_floor_type['q'].mean()\n",
    "other_floor_type['s'] = other_floor_type['s'] * other_floor_type['s'].mean()\n",
    "other_floor_type['x'] = other_floor_type['x'] * other_floor_type['x'].mean()"
   ]
  },
  {
   "cell_type": "code",
   "execution_count": 90,
   "id": "3a8ded2c",
   "metadata": {},
   "outputs": [],
   "source": [
    "roof_type['sum'] = roof_type['n'] + roof_type['q'] + roof_type['x']\n",
    "ground_floor_type['sum'] = ground_floor_type['f'] + ground_floor_type['m'] + ground_floor_type['v']\\\n",
    "                           + ground_floor_type['x'] + ground_floor_type['z']\n",
    "other_floor_type['sum'] = other_floor_type['j'] + other_floor_type['q'] + other_floor_type['s']\\\n",
    "                             + other_floor_type['x']\n",
    "set_train['construction_type'] = roof_type['sum'] + ground_floor_type['sum'] + other_floor_type['sum']"
   ]
  },
  {
   "cell_type": "code",
   "execution_count": 91,
   "id": "06a967f5",
   "metadata": {},
   "outputs": [],
   "source": [
    "columnas_seleccionadas = ['age',\n",
    "                         'geo_level_1_id',\n",
    "                         'area_percentage',\n",
    "                         'count_floors_pre_eq',\n",
    "                         'geo_level_2_id',\n",
    "                         'height_percentage',\n",
    "                         'base_condition',\n",
    "                         'construction_type',\n",
    "                         'resistencia',\n",
    "                         'damage_grade']\n",
    "set_train[columnas_seleccionadas].to_csv('data_set.csv')"
   ]
  },
  {
   "cell_type": "code",
   "execution_count": null,
   "id": "32ec2677",
   "metadata": {},
   "outputs": [],
   "source": []
  }
 ],
 "metadata": {
  "kernelspec": {
   "display_name": "Python 3",
   "language": "python",
   "name": "python3"
  },
  "language_info": {
   "codemirror_mode": {
    "name": "ipython",
    "version": 3
   },
   "file_extension": ".py",
   "mimetype": "text/x-python",
   "name": "python",
   "nbconvert_exporter": "python",
   "pygments_lexer": "ipython3",
   "version": "3.8.5"
  }
 },
 "nbformat": 4,
 "nbformat_minor": 5
}
