{
 "cells": [
  {
   "cell_type": "code",
   "execution_count": 1,
   "metadata": {},
   "outputs": [],
   "source": [
    "from sklearn.ensemble import RandomForestClassifier\n",
    "from sklearn.metrics import f1_score\n",
    "import pandas as pd\n",
    "import numpy as np\n",
    "%matplotlib inline\n",
    "import matplotlib.pyplot as plt\n",
    "from sklearn import tree\n",
    "from sklearn.model_selection import train_test_split\n",
    "from xgboost import XGBClassifier\n",
    "import seaborn as sns\n",
    "from datetime import datetime\n",
    "from sklearn.model_selection import RandomizedSearchCV, GridSearchCV\n",
    "from sklearn.model_selection import cross_validate,KFold\n",
    "from sklearn.metrics import roc_auc_score\n",
    "from sklearn.model_selection import StratifiedKFold\n",
    "import warnings\n",
    "warnings.filterwarnings('ignore')"
   ]
  },
  {
   "cell_type": "code",
   "execution_count": 2,
   "metadata": {},
   "outputs": [],
   "source": [
    "def encoding(values, columnData, setDatos):\n",
    "    df = pd.DataFrame()\n",
    "    column = columnData\n",
    "    if(setDatos=='set_train'):\n",
    "        df[values] = pd.get_dummies(set_train[column])\n",
    "    else:\n",
    "        df[values] = pd.get_dummies(test_values[column])\n",
    "    df['sumatory'] = 0\n",
    "    for i in range(len(values)):\n",
    "        df['sumatory'] += df[values[i]] * df[values[i]].mean()\n",
    "    \n",
    "    return df['sumatory']"
   ]
  },
  {
   "cell_type": "code",
   "execution_count": 3,
   "metadata": {},
   "outputs": [],
   "source": [
    "train_values = pd.read_csv('train_values.csv')\n",
    "train_labels = pd.read_csv('train_labels.csv')\n",
    "test_values = pd.read_csv('test_values.csv',index_col='building_id')"
   ]
  },
  {
   "cell_type": "code",
   "execution_count": 4,
   "metadata": {},
   "outputs": [],
   "source": [
    "set_train = train_values.merge(train_labels)\n",
    "set_train.drop( columns=[\"building_id\"], inplace=True)\n",
    "#set_train = set_train[set_train['count_floors_pre_eq'] <= 6]\n",
    "#set_train = set_train[set_train['age'] <= 200]"
   ]
  },
  {
   "cell_type": "code",
   "execution_count": null,
   "metadata": {},
   "outputs": [],
   "source": []
  },
  {
   "cell_type": "code",
   "execution_count": 5,
   "metadata": {},
   "outputs": [
    {
     "data": {
      "text/plain": [
       "\"\\npromedio = set_train['age'].mean()\\nb = set_train['age'].values.tolist()\\nb = [promedio if x > 100 else x for x in b]\\nset_train['age'] = b\\n\""
      ]
     },
     "execution_count": 5,
     "metadata": {},
     "output_type": "execute_result"
    }
   ],
   "source": [
    "'''\n",
    "promedio = set_train['age'].mean()\n",
    "b = set_train['age'].values.tolist()\n",
    "b = [promedio if x > 100 else x for x in b]\n",
    "set_train['age'] = b\n",
    "'''"
   ]
  },
  {
   "cell_type": "code",
   "execution_count": 6,
   "metadata": {},
   "outputs": [
    {
     "data": {
      "text/plain": [
       "\"\\npromedio2 = set_train['count_floors_pre_eq'].mean()\\na = set_train['count_floors_pre_eq'].values.tolist()\\na = [promedio2 if x > 5 else x for x in a]\\nset_train['count_floors_pre_eq'] = a\\n\""
      ]
     },
     "execution_count": 6,
     "metadata": {},
     "output_type": "execute_result"
    }
   ],
   "source": [
    "'''\n",
    "promedio2 = set_train['count_floors_pre_eq'].mean()\n",
    "a = set_train['count_floors_pre_eq'].values.tolist()\n",
    "a = [promedio2 if x > 5 else x for x in a]\n",
    "set_train['count_floors_pre_eq'] = a\n",
    "'''"
   ]
  },
  {
   "cell_type": "code",
   "execution_count": 7,
   "metadata": {},
   "outputs": [
    {
     "data": {
      "image/png": "[encoded data removed]",
      "text/plain": [
       "<Figure size 432x288 with 1 Axes>"
      ]
     },
     "metadata": {
      "needs_background": "light"
     },
     "output_type": "display_data"
    }
   ],
   "source": [
    "plan_configuration = pd.DataFrame()\n",
    "plan_configuration[['d', 'u', 's', 'q', 'm', 'c', 'a', 'n', 'f', 'o']]= pd.get_dummies(set_train['plan_configuration'])\n",
    "\n",
    "plan_configuration['damage_grade'] = set_train['damage_grade']\n",
    "vector_names = ['d', 'u', 's', 'q', 'm', 'c', 'a', 'n', 'f', 'o']\n",
    "promedios = []\n",
    "for x in range(len(vector_names)):\n",
    "    aux = plan_configuration.loc[plan_configuration[vector_names[x]] == 1,:]\n",
    "    promedios.append(aux['damage_grade'].sum() / aux[vector_names[x]].sum())\n",
    "\n",
    "plt.bar(vector_names, promedios)\n",
    "plt.xticks(rotation=90)\n",
    "plt.show()\n",
    "\n",
    "#count_families = pd.DataFrame()\n",
    "#count_families[['0', '1', '2', '3', '4', '5', '6', '7', '8', '9']] = pd.get_dummies(set_train['count_families'])\n",
    "#count_families\n",
    "\n",
    "#count_families['damage_grade'] = set_train['damage_grade']\n",
    "#vector_names = ['0', '1', '2', '3', '4', '5', '6', '7', '8', '9']\n",
    "#promedios = []\n",
    "#for x in range(len(vector_names)):\n",
    "#    aux = count_families.loc[count_families[vector_names[x]] == 1,:]\n",
    "#    promedios.append(aux['damage_grade'].sum() / aux[vector_names[x]].sum())\n",
    "\n",
    "#plt.bar(vector_names, promedios)\n",
    "#plt.xticks(rotation=90)\n",
    "#plt.show()"
   ]
  },
  {
   "cell_type": "code",
   "execution_count": 8,
   "metadata": {},
   "outputs": [
    {
     "data": {
      "text/plain": [
       "d                  252\n",
       "u                  325\n",
       "s               250072\n",
       "q                   22\n",
       "m                   46\n",
       "c                   38\n",
       "a                  159\n",
       "n                 5692\n",
       "f                  346\n",
       "o                 3649\n",
       "damage_grade    583296\n",
       "dtype: int64"
      ]
     },
     "execution_count": 8,
     "metadata": {},
     "output_type": "execute_result"
    }
   ],
   "source": [
    "plan_configuration.sum()"
   ]
  },
  {
   "cell_type": "code",
   "execution_count": 9,
   "metadata": {},
   "outputs": [
    {
     "data": {
      "image/png": "[encoded data removed]",
      "text/plain": [
       "<Figure size 432x288 with 1 Axes>"
      ]
     },
     "metadata": {
      "needs_background": "light"
     },
     "output_type": "display_data"
    }
   ],
   "source": [
    "position = pd.DataFrame()\n",
    "position= pd.get_dummies(set_train['position'])\n",
    "\n",
    "position['damage_grade'] = set_train['damage_grade']\n",
    "vector_names = ['j', 'o', 's', 't']\n",
    "promedios = []\n",
    "for x in range(len(vector_names)):\n",
    "    aux = position.loc[position[vector_names[x]] == 1,:]\n",
    "    promedios.append(aux['damage_grade'].sum() / aux[vector_names[x]].sum())\n",
    "\n",
    "plt.bar(vector_names, promedios)\n",
    "plt.xticks(rotation=90)\n",
    "plt.show()"
   ]
  },
  {
   "cell_type": "code",
   "execution_count": 10,
   "metadata": {},
   "outputs": [
    {
     "data": {
      "image/png": "[encoded data removed]",
      "text/plain": [
       "<Figure size 432x288 with 1 Axes>"
      ]
     },
     "metadata": {
      "needs_background": "light"
     },
     "output_type": "display_data"
    }
   ],
   "source": [
    "secondary_use = set_train.iloc[:,27:38]\n",
    "secondary_use['damage_grade'] = set_train['damage_grade']\n",
    "vector_names = ['has_secondary_use','has_secondary_use_agriculture', 'has_secondary_use_hotel', 'has_secondary_use_rental',\n",
    "               'has_secondary_use_institution', 'has_secondary_use_school', 'has_secondary_use_industry', \n",
    "               'has_secondary_use_health_post', 'has_secondary_use_gov_office','has_secondary_use_use_police',\n",
    "               'has_secondary_use_other']\n",
    "promedios = []\n",
    "for x in range(len(vector_names)):\n",
    "    aux = secondary_use.loc[secondary_use[vector_names[x]] == 1,:]\n",
    "    promedios.append(aux['damage_grade'].sum() / aux[vector_names[x]].sum())\n",
    "\n",
    "plt.bar(vector_names, promedios, color='#B8243A')\n",
    "plt.xticks(rotation=90)\n",
    "plt.show()"
   ]
  },
  {
   "cell_type": "code",
   "execution_count": 11,
   "metadata": {},
   "outputs": [
    {
     "data": {
      "text/plain": [
       "<AxesSubplot:>"
      ]
     },
     "execution_count": 11,
     "metadata": {},
     "output_type": "execute_result"
    },
    {
     "data": {
      "image/png": "[encoded data removed]",
      "text/plain": [
       "<Figure size 432x288 with 1 Axes>"
      ]
     },
     "metadata": {
      "needs_background": "light"
     },
     "output_type": "display_data"
    }
   ],
   "source": [
    "set_train.iloc[:, 27:38].sum().plot.bar()"
   ]
  },
  {
   "cell_type": "code",
   "execution_count": 12,
   "metadata": {},
   "outputs": [],
   "source": [
    "drop_columns = set_train.columns.values[26:38]\n",
    "#set_train.drop(columns= drop_columns, inplace = True)"
   ]
  },
  {
   "cell_type": "code",
   "execution_count": 13,
   "metadata": {},
   "outputs": [
    {
     "data": {
      "image/png": "[encoded data removed]",
      "text/plain": [
       "<Figure size 432x288 with 1 Axes>"
      ]
     },
     "metadata": {
      "needs_background": "light"
     },
     "output_type": "display_data"
    }
   ],
   "source": [
    "materiales = set_train.iloc[:,14:25]\n",
    "materiales['damage_grade'] = set_train['damage_grade']\n",
    "#vector_names = ['has_superstructure_rc_engineered','has_superstructure_cement_mortar_brick', 'has_superstructure_rc_non_engineered',\n",
    " #              'has_superstructure_cement_mortar_stone','has_superstructure_other', 'has_superstructure_bamboo',\n",
    "  #              'has_superstructure_timber', \n",
    "   #             'has_superstructure_mud_mortar_brick', 'has_superstructure_mud_mortar_stone',\n",
    "    #            'has_superstructure_adobe_mud','has_superstructure_stone_flag']\n",
    "\n",
    "vector_names = ['has_superstructure_rc_engineered', 'has_superstructure_rc_non_engineered', 'has_superstructure_cement_mortar_brick',\n",
    "               'has_superstructure_cement_mortar_stone', 'has_superstructure_mud_mortar_brick', 'has_superstructure_mud_mortar_stone',\n",
    "               'has_superstructure_stone_flag', 'has_superstructure_timber', 'has_superstructure_adobe_mud', \n",
    "               'has_superstructure_bamboo', 'has_superstructure_other']\n",
    "promedios = []\n",
    "for x in range(len(vector_names)):\n",
    "    aux = materiales.loc[materiales[vector_names[x]] == 1,:]\n",
    "    promedios.append(aux['damage_grade'].sum() / aux[vector_names[x]].sum())\n",
    "\n",
    "plt.bar(vector_names,promedios )\n",
    "plt.xticks(rotation=90)\n",
    "plt.show()"
   ]
  },
  {
   "cell_type": "code",
   "execution_count": 14,
   "metadata": {},
   "outputs": [
    {
     "data": {
      "text/plain": [
       "<AxesSubplot:>"
      ]
     },
     "execution_count": 14,
     "metadata": {},
     "output_type": "execute_result"
    },
    {
     "data": {
      "image/png": "[encoded data removed]",
      "text/plain": [
       "<Figure size 432x288 with 1 Axes>"
      ]
     },
     "metadata": {
      "needs_background": "light"
     },
     "output_type": "display_data"
    }
   ],
   "source": [
    "set_train.iloc[:, 14:25].sum().plot.bar()"
   ]
  },
  {
   "cell_type": "code",
   "execution_count": 15,
   "metadata": {},
   "outputs": [],
   "source": [
    "#values = [1, 0.9, 0.85, 0.7, 0.6, 0.5, 0.4, 0.3, 0.2, 0.1, 0.05]\n",
    "values = [2.4526045159847976,\n",
    " 2.346841581157726,\n",
    " 2.337918078939549,\n",
    " 2.271334422351152,\n",
    " 2.165229430975063,\n",
    " 2.111717974180735,\n",
    " 2.088348271446863,\n",
    " 1.9675721204464098,\n",
    " 1.7791106701542347,\n",
    " 1.6929632086543858,\n",
    " 1.3746964545896065]\n",
    "for i in range(11):\n",
    "    set_train.loc[:, [vector_names[i]]] = set_train.loc[:, [vector_names[i]]]*values[i]"
   ]
  },
  {
   "cell_type": "code",
   "execution_count": 16,
   "metadata": {},
   "outputs": [
    {
     "data": {
      "text/plain": [
       "0    3.890829\n",
       "1    2.111718\n",
       "2    2.111718\n",
       "3    5.772253\n",
       "4    1.779111\n",
       "Name: resistance, dtype: float64"
      ]
     },
     "execution_count": 16,
     "metadata": {},
     "output_type": "execute_result"
    }
   ],
   "source": [
    "set_train['resistance'] = 0\n",
    "for x in range(11):\n",
    "    set_train['resistance'] += set_train[vector_names[x]]\n",
    "set_train['resistance'].head()"
   ]
  },
  {
   "cell_type": "code",
   "execution_count": 17,
   "metadata": {},
   "outputs": [],
   "source": [
    "set_train[['position_j', 'position_o', 'position_s', 'position_t']] = pd.get_dummies(set_train['position'])\n",
    "set_train[['owner_a', 'owner_r', 'owner_v', 'owner_w']]= pd.get_dummies(set_train['legal_ownership_status'])"
   ]
  },
  {
   "cell_type": "code",
   "execution_count": 18,
   "metadata": {},
   "outputs": [],
   "source": [
    "set_train['base_condition'] = encoding(['h', 'i', 'r', 'u', 'w'] , 'foundation_type', 'set_train') + encoding(['n', 'o', 't'] , 'land_surface_condition', 'set_train')"
   ]
  },
  {
   "cell_type": "code",
   "execution_count": 19,
   "metadata": {},
   "outputs": [],
   "source": [
    "set_train['roof_type'] = encoding(['n', 'q', 'x'] , 'roof_type', 'set_train')\n",
    "set_train['ground_floor_type'] = encoding(['f','m','v','x','z'] , 'ground_floor_type', 'set_train')\n",
    "set_train['other_floor_type'] = encoding(['j','q','s','x'] , 'other_floor_type', 'set_train')"
   ]
  },
  {
   "cell_type": "code",
   "execution_count": 20,
   "metadata": {},
   "outputs": [],
   "source": [
    "columnas_seleccionads = ['age',\n",
    "                         'geo_level_1_id',\n",
    "                         'area_percentage',\n",
    "                         'count_floors_pre_eq',\n",
    "                         'geo_level_2_id',\n",
    "                         'height_percentage',\n",
    "                         'resistance',\n",
    "                         'roof_type',\n",
    "                         'ground_floor_type',\n",
    "                         'other_floor_type',\n",
    "                         'position_j', 'position_o', \n",
    "                         'position_s', 'position_t',\n",
    "                          'uso_secundario',\n",
    "                          'prom_heigh_floor',\n",
    "                         'base_condition',\n",
    "                          'damage_grade'\n",
    "                         ]"
   ]
  },
  {
   "cell_type": "code",
   "execution_count": 21,
   "metadata": {},
   "outputs": [],
   "source": [
    "set_train['volume_percentage'] = set_train['height_percentage']*set_train['area_percentage']"
   ]
  },
  {
   "cell_type": "code",
   "execution_count": 22,
   "metadata": {},
   "outputs": [],
   "source": [
    "columnas_seleccionadas= ['age', 'geo_level_1_id', 'geo_level_2_id','geo_level_3_id',\n",
    "'count_floors_pre_eq', 'area_percentage', 'height_percentage','count_families',\n",
    "'has_secondary_use','has_secondary_use_agriculture', 'has_secondary_use_hotel', 'has_secondary_use_rental',\n",
    "'has_secondary_use_institution', 'has_secondary_use_school', 'has_secondary_use_industry', \n",
    "'has_secondary_use_health_post', 'has_secondary_use_gov_office','has_secondary_use_use_police',\n",
    "'has_secondary_use_other',\n",
    "'has_superstructure_rc_engineered', 'has_superstructure_rc_non_engineered', 'has_superstructure_cement_mortar_brick',\n",
    "'has_superstructure_cement_mortar_stone', 'has_superstructure_mud_mortar_brick', 'has_superstructure_mud_mortar_stone',\n",
    "'has_superstructure_stone_flag', 'has_superstructure_timber', 'has_superstructure_adobe_mud', \n",
    "'has_superstructure_bamboo', 'has_superstructure_other', \n",
    "'roof_type_n', 'roof_type_q', 'roof_type_x',\n",
    "'ground_floor_type_f','ground_floor_type_m',\n",
    "'ground_floor_type_v','ground_floor_type_x',\n",
    "'ground_floor_type_z',\n",
    "'other_floor_type_j','other_floor_type_q',\n",
    "'other_floor_type_s','other_floor_type_x',\n",
    "'foundation_type_h', 'foundation_type_i', \n",
    "'foundation_type_r', 'foundation_type_u', \n",
    "'foundation_type_w', 'land_surface_condition_n', \n",
    "'land_surface_condition_o', 'land_surface_condition_t',\n",
    "'position_j', 'position_o', \n",
    "'position_s', 'position_t',\n",
    "'plan_configuration_d', 'plan_configuration_u', \n",
    "'plan_configuration_s', 'plan_configuration_q', \n",
    "'plan_configuration_m', 'plan_configuration_c', \n",
    "'plan_configuration_a', 'plan_configuration_n', \n",
    "'plan_configuration_f', 'plan_configuration_o',\n",
    "#'base_condition',  #'uso_secundario'#, \n",
    "#'roof_type', 'ground_floor_type', 'other_floor_type','uso_secundario',\n",
    " #                       'resistance''prom_heigh_floor',}\n",
    "                         'damage_grade'\n",
    "]"
   ]
  },
  {
   "cell_type": "code",
   "execution_count": 23,
   "metadata": {},
   "outputs": [
    {
     "data": {
      "text/plain": [
       "'\\nplt.bar(use_secundary,promedios )\\nplt.xticks(rotation=90)\\nplt.show()\\n'"
      ]
     },
     "execution_count": 23,
     "metadata": {},
     "output_type": "execute_result"
    }
   ],
   "source": [
    "\n",
    "uso_secundario = set_train.iloc[:,27:38]\n",
    "uso_secundario['damage_grade'] = set_train['damage_grade']\n",
    "vector_secundario = [        'has_secondary_use_agriculture', \n",
    "                         'has_secondary_use_hotel', 'has_secondary_use_rental',\n",
    "                         'has_secondary_use_institution', 'has_secondary_use_school', \n",
    "                         'has_secondary_use_industry','has_secondary_use_health_post', \n",
    "                         'has_secondary_use_gov_office','has_secondary_use_use_police',\n",
    "                         'has_secondary_use_other']\n",
    "promedios = []\n",
    "for x in range(len(vector_secundario)):\n",
    "    aux = uso_secundario.loc[uso_secundario[vector_secundario[x]] == 1,:]\n",
    "    promedios.append(aux['damage_grade'].sum() / aux[vector_secundario[x]].sum())\n",
    "'''\n",
    "plt.bar(use_secundary,promedios )\n",
    "plt.xticks(rotation=90)\n",
    "plt.show()\n",
    "'''"
   ]
  },
  {
   "cell_type": "code",
   "execution_count": 24,
   "metadata": {},
   "outputs": [],
   "source": [
    "\n",
    "values2 = [1, 0.6, 0.2, 0.1, 0.5, 0.75, 0.4, 0.3, 0.9, 0.8]\n",
    "#values = [1, 0.9, 0.85, 0.7, 0.6, 0.5, 0.4, 0.3, 0.2, 0.1, 0.05]\n",
    "for m in range(10):\n",
    "    set_train.loc[:, [vector_secundario[m]]] = set_train.loc[:, [vector_secundario[m]]]*values2[m]\n",
    "    \n",
    "set_train['uso_secundario'] = 0\n",
    "for n in range(10):\n",
    "    set_train['uso_secundario'] += set_train[vector_secundario[n]]\n"
   ]
  },
  {
   "cell_type": "code",
   "execution_count": 25,
   "metadata": {},
   "outputs": [],
   "source": [
    "set_train['prom_heigh_floor'] = set_train['height_percentage'] / set_train['count_floors_pre_eq']"
   ]
  },
  {
   "cell_type": "code",
   "execution_count": 26,
   "metadata": {},
   "outputs": [
    {
     "data": {
      "text/plain": [
       "0    2.5\n",
       "1    3.5\n",
       "2    2.5\n",
       "3    2.5\n",
       "4    3.0\n",
       "Name: prom_heigh_floor, dtype: float64"
      ]
     },
     "execution_count": 26,
     "metadata": {},
     "output_type": "execute_result"
    }
   ],
   "source": [
    "set_train['prom_heigh_floor'].head()"
   ]
  },
  {
   "cell_type": "code",
   "execution_count": 27,
   "metadata": {},
   "outputs": [],
   "source": [
    "set_train['plan_configuration'] = encoding(['a','c','d','f','m','n','o','q','s','u'] , 'plan_configuration', 'set_train')"
   ]
  },
  {
   "cell_type": "code",
   "execution_count": 28,
   "metadata": {},
   "outputs": [],
   "source": [
    "data_test = test_values"
   ]
  },
  {
   "cell_type": "code",
   "execution_count": 29,
   "metadata": {},
   "outputs": [],
   "source": [
    "data_test['prom_heigh_floor'] = test_values['height_percentage'] / test_values['count_floors_pre_eq']"
   ]
  },
  {
   "cell_type": "code",
   "execution_count": 30,
   "metadata": {},
   "outputs": [],
   "source": [
    "#data_test['volume_percentage'] = test_values['height_percentage']*test_values['area_percentage']"
   ]
  },
  {
   "cell_type": "code",
   "execution_count": 31,
   "metadata": {},
   "outputs": [],
   "source": [
    "\n",
    "for m in range(10):\n",
    "    data_test.loc[:, [vector_secundario[m]]] = test_values.loc[:, [vector_secundario[m]]]*values2[m]\n",
    "    \n",
    "data_test['uso_secundario'] = 0\n",
    "for n in range(10):\n",
    "    data_test['uso_secundario'] += data_test[vector_secundario[n]]\n"
   ]
  },
  {
   "cell_type": "code",
   "execution_count": 32,
   "metadata": {},
   "outputs": [],
   "source": [
    "for i in range(11):\n",
    "    data_test.loc[:, [vector_names[i]]] = test_values.loc[:, [vector_names[i]]]*values[i]\n",
    "data_test['resistance'] = 0\n",
    "for x in range(11):\n",
    "    data_test['resistance'] += data_test[vector_names[x]]"
   ]
  },
  {
   "cell_type": "code",
   "execution_count": 33,
   "metadata": {},
   "outputs": [],
   "source": [
    "data_test['base_condition'] = encoding(['h', 'i', 'r', 'u', 'w'] , 'foundation_type', 'test_values') + encoding(['n', 'o', 't'] , 'land_surface_condition', 'test_values')"
   ]
  },
  {
   "cell_type": "code",
   "execution_count": 34,
   "metadata": {},
   "outputs": [],
   "source": [
    "data_test['plan_configuration'] = encoding(['a','c','d','f','m','n','o','q','s','u'] , 'plan_configuration', 'test_values')"
   ]
  },
  {
   "cell_type": "code",
   "execution_count": 35,
   "metadata": {},
   "outputs": [],
   "source": [
    "data_test['roof_type'] = encoding(['n', 'q', 'x'] , 'roof_type', 'test_values')\n",
    "data_test['ground_floor_type'] = encoding(['f','m','v','x','z'] , 'ground_floor_type', 'test_values')\n",
    "data_test['other_floor_type'] = encoding(['j','q','s','x'] , 'other_floor_type', 'test_values')"
   ]
  },
  {
   "cell_type": "code",
   "execution_count": 36,
   "metadata": {},
   "outputs": [],
   "source": [
    "set_train[['roof_type_n', 'roof_type_q', 'roof_type_x']] = pd.get_dummies(set_train['roof_type'])\n",
    "set_train[['ground_floor_type_f','ground_floor_type_m','ground_floor_type_v','ground_floor_type_x','ground_floor_type_z']] = pd.get_dummies(set_train['ground_floor_type'])\n",
    "set_train[['other_floor_type_j','other_floor_type_q','other_floor_type_s','other_floor_type_x']] = pd.get_dummies(set_train['other_floor_type'])\n",
    "set_train[['foundation_type_h', 'foundation_type_i', 'foundation_type_r', 'foundation_type_u', 'foundation_type_w']] = pd.get_dummies(set_train['foundation_type'])\n",
    "set_train[['land_surface_condition_n', 'land_surface_condition_o', 'land_surface_condition_t']] = pd.get_dummies(set_train['land_surface_condition'])\n",
    "set_train[['position_j', 'position_o', 'position_s', 'position_t']] = pd.get_dummies(set_train['position'])\n",
    "set_train[['plan_configuration_d', 'plan_configuration_u', 'plan_configuration_s', 'plan_configuration_q', 'plan_configuration_m', 'plan_configuration_c', 'plan_configuration_a', 'plan_configuration_n', 'plan_configuration_f', 'plan_configuration_o']] = pd.get_dummies(set_train['plan_configuration']) \n",
    "data_test[['roof_type_n', 'roof_type_q', 'roof_type_x']] = pd.get_dummies(test_values['roof_type'])\n",
    "data_test[['ground_floor_type_f','ground_floor_type_m','ground_floor_type_v','ground_floor_type_x','ground_floor_type_z']] = pd.get_dummies(test_values['ground_floor_type'])\n",
    "data_test[['other_floor_type_j','other_floor_type_q','other_floor_type_s','other_floor_type_x']] = pd.get_dummies(test_values['other_floor_type'])\n",
    "data_test[['foundation_type_h', 'foundation_type_i', 'foundation_type_r', 'foundation_type_u', 'foundation_type_w']] = pd.get_dummies(test_values['foundation_type'])\n",
    "data_test[['land_surface_condition_n', 'land_surface_condition_o', 'land_surface_condition_t']] = pd.get_dummies(test_values['land_surface_condition'])\n",
    "data_test[['position_j', 'position_o', 'position_s', 'position_t']] = pd.get_dummies(test_values['position'])\n",
    "data_test[['plan_configuration_d', 'plan_configuration_u', 'plan_configuration_s', 'plan_configuration_q', 'plan_configuration_m', 'plan_configuration_c', 'plan_configuration_a', 'plan_configuration_n', 'plan_configuration_f', 'plan_configuration_o']] = pd.get_dummies(test_values['plan_configuration']) \n"
   ]
  },
  {
   "cell_type": "code",
   "execution_count": 37,
   "metadata": {},
   "outputs": [],
   "source": [
    "set_train['plan_configuration'] = set_train['roof_type'] * set_train['plan_configuration']  + set_train['ground_floor_type'] * set_train['plan_configuration'] + set_train['other_floor_type'] * set_train['plan_configuration'] + encoding(['h', 'i', 'r', 'u', 'w'] , 'foundation_type', 'set_train') * set_train['plan_configuration']"
   ]
  },
  {
   "cell_type": "code",
   "execution_count": 38,
   "metadata": {},
   "outputs": [],
   "source": [
    "data_test['plan_configuration'] = data_test['roof_type'] * data_test['plan_configuration'] + data_test['ground_floor_type'] * data_test['plan_configuration'] + data_test['other_floor_type'] * data_test['plan_configuration'] + encoding(['h', 'i', 'r', 'u', 'w'] , 'foundation_type', 'test_values') * data_test['plan_configuration']"
   ]
  },
  {
   "cell_type": "code",
   "execution_count": 39,
   "metadata": {},
   "outputs": [],
   "source": [
    "data_test[['position_j', 'position_o', 'position_s', 'position_t']] = pd.get_dummies(test_values['position'])"
   ]
  },
  {
   "cell_type": "code",
   "execution_count": 40,
   "metadata": {},
   "outputs": [],
   "source": [
    "#data_test['volume_percentage'] = data_test['height_percentage']*data_test['area_percentage']"
   ]
  },
  {
   "cell_type": "code",
   "execution_count": 41,
   "metadata": {},
   "outputs": [],
   "source": [
    "set_train[columnas_seleccionadas].to_csv('data_set.csv', index=False)\n",
    "data_test.to_csv('data_test.csv')\n",
    "\n"
   ]
  }
 ],
 "metadata": {
  "kernelspec": {
   "display_name": "Python 3",
   "language": "python",
   "name": "python3"
  },
  "language_info": {
   "codemirror_mode": {
    "name": "ipython",
    "version": 3
   },
   "file_extension": ".py",
   "mimetype": "text/x-python",
   "name": "python",
   "nbconvert_exporter": "python",
   "pygments_lexer": "ipython3",
   "version": "3.8.5"
  }
 },
 "nbformat": 4,
 "nbformat_minor": 5
}
