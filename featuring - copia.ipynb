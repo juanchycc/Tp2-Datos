{
 "cells": [
  {
   "cell_type": "code",
   "execution_count": 222,
   "id": "a38f2b52",
   "metadata": {},
   "outputs": [],
   "source": [
    "from sklearn.ensemble import RandomForestClassifier\n",
    "from sklearn.metrics import f1_score\n",
    "import pandas as pd\n",
    "import numpy as np\n",
    "%matplotlib inline\n",
    "import matplotlib.pyplot as plt\n",
    "from sklearn import tree\n",
    "from sklearn.model_selection import train_test_split\n",
    "from xgboost import XGBClassifier\n",
    "import seaborn as sns\n",
    "from datetime import datetime\n",
    "from sklearn.model_selection import RandomizedSearchCV, GridSearchCV\n",
    "from sklearn.model_selection import cross_validate,KFold\n",
    "from sklearn.metrics import roc_auc_score\n",
    "from sklearn.model_selection import StratifiedKFold\n",
    "import warnings\n",
    "warnings.filterwarnings('ignore')"
   ]
  },
  {
   "cell_type": "code",
   "execution_count": 223,
   "id": "f3ab689d",
   "metadata": {},
   "outputs": [],
   "source": [
    "train_values = pd.read_csv('train_values.csv')\n",
    "train_labels = pd.read_csv('train_labels.csv')\n",
    "test_values = pd.read_csv('test_values.csv',index_col='building_id')"
   ]
  },
  {
   "cell_type": "code",
   "execution_count": 224,
   "id": "682d53f3",
   "metadata": {},
   "outputs": [],
   "source": [
    "set_train = train_values.merge(train_labels)\n",
    "set_train.drop( columns=[\"building_id\"], inplace=True)"
   ]
  },
  {
   "cell_type": "code",
   "execution_count": 225,
   "id": "8d60b89d",
   "metadata": {},
   "outputs": [],
   "source": [
    "promedio = set_train['age'].mean()\n",
    "b = set_train['age'].values.tolist()\n",
    "b = [promedio if x > 100 else x for x in b]\n",
    "set_train['age'] = b\n",
    "\n",
    "promedio2 = set_train['count_floors_pre_eq'].mean()\n",
    "a = set_train['count_floors_pre_eq'].values.tolist()\n",
    "a = [promedio2 if x > 5 else x for x in a]\n",
    "set_train['count_floors_pre_eq'] = a"
   ]
  },
  {
   "cell_type": "code",
   "execution_count": 226,
   "id": "31d427de",
   "metadata": {},
   "outputs": [],
   "source": [
    "def encoding(values, columnData, setDatos):\n",
    "    df = pd.DataFrame()\n",
    "    column = columnData\n",
    "    if(setDatos=='set_train'):\n",
    "        df[values] = pd.get_dummies(set_train[column])\n",
    "    else:\n",
    "        df[values] = pd.get_dummies(test_values[column])\n",
    "    df['sumatory'] = 0\n",
    "    for i in range(len(values)):\n",
    "        df['sumatory'] += df[values[i]] * df[values[i]].mean()\n",
    "    \n",
    "    return df['sumatory']"
   ]
  },
  {
   "cell_type": "code",
   "execution_count": 227,
   "id": "d9905495",
   "metadata": {},
   "outputs": [],
   "source": [
    "data_test = test_values"
   ]
  },
  {
   "cell_type": "code",
   "execution_count": 228,
   "id": "a58fadc8",
   "metadata": {},
   "outputs": [],
   "source": [
    "set_train[['roof_type_n', 'roof_type_q', 'roof_type_x']] = pd.get_dummies(set_train['roof_type'])\n",
    "set_train[['ground_floor_type_f','ground_floor_type_m','ground_floor_type_v','ground_floor_type_x','ground_floor_type_z']] = pd.get_dummies(set_train['ground_floor_type'])\n",
    "set_train[['other_floor_type_j','other_floor_type_q','other_floor_type_s','other_floor_type_x']] = pd.get_dummies(set_train['other_floor_type'])\n",
    "set_train[['foundation_type_h', 'foundation_type_i', 'foundation_type_r', 'foundation_type_u', 'foundation_type_w']] = pd.get_dummies(set_train['foundation_type'])\n",
    "set_train[['land_surface_condition_n', 'land_surface_condition_o', 'land_surface_condition_t']] = pd.get_dummies(set_train['land_surface_condition'])\n",
    "set_train[['position_j', 'position_o', 'position_s', 'position_t']] = pd.get_dummies(set_train['position'])\n",
    "set_train[['plan_configuration_d', 'plan_configuration_u', 'plan_configuration_s', 'plan_configuration_q', 'plan_configuration_m', 'plan_configuration_c', 'plan_configuration_a', 'plan_configuration_n', 'plan_configuration_f', 'plan_configuration_o']] = pd.get_dummies(set_train['plan_configuration']) \n"
   ]
  },
  {
   "cell_type": "code",
   "execution_count": 229,
   "id": "c787a831",
   "metadata": {},
   "outputs": [],
   "source": [
    "data_test[['roof_type_n', 'roof_type_q', 'roof_type_x']] = pd.get_dummies(test_values['roof_type'])\n",
    "data_test[['ground_floor_type_f','ground_floor_type_m','ground_floor_type_v','ground_floor_type_x','ground_floor_type_z']] = pd.get_dummies(test_values['ground_floor_type'])\n",
    "data_test[['other_floor_type_j','other_floor_type_q','other_floor_type_s','other_floor_type_x']] = pd.get_dummies(test_values['other_floor_type'])\n",
    "data_test[['foundation_type_h', 'foundation_type_i', 'foundation_type_r', 'foundation_type_u', 'foundation_type_w']] = pd.get_dummies(test_values['foundation_type'])\n",
    "data_test[['land_surface_condition_n', 'land_surface_condition_o', 'land_surface_condition_t']] = pd.get_dummies(test_values['land_surface_condition'])\n",
    "data_test[['position_j', 'position_o', 'position_s', 'position_t']] = pd.get_dummies(test_values['position'])\n",
    "data_test[['plan_configuration_d', 'plan_configuration_u', 'plan_configuration_s', 'plan_configuration_q', 'plan_configuration_m', 'plan_configuration_c', 'plan_configuration_a', 'plan_configuration_n', 'plan_configuration_f', 'plan_configuration_o']] = pd.get_dummies(test_values['plan_configuration']) \n"
   ]
  },
  {
   "cell_type": "code",
   "execution_count": 230,
   "id": "204188ea",
   "metadata": {},
   "outputs": [],
   "source": [
    "columnas_seleccionadas= ['age', 'geo_level_1_id', 'geo_level_2_id', 'geo_level_3_id',\n",
    "'count_floors_pre_eq', 'area_percentage', 'height_percentage', 'count_families',\n",
    "'has_secondary_use','has_secondary_use_agriculture', 'has_secondary_use_hotel', 'has_secondary_use_rental',\n",
    "'has_secondary_use_institution', 'has_secondary_use_school', 'has_secondary_use_industry', \n",
    "'has_secondary_use_health_post', 'has_secondary_use_gov_office','has_secondary_use_use_police',\n",
    "'has_secondary_use_other',\n",
    "'has_superstructure_rc_engineered', 'has_superstructure_rc_non_engineered', 'has_superstructure_cement_mortar_brick',\n",
    "'has_superstructure_cement_mortar_stone', 'has_superstructure_mud_mortar_brick', 'has_superstructure_mud_mortar_stone',\n",
    "'has_superstructure_stone_flag', 'has_superstructure_timber', 'has_superstructure_adobe_mud', \n",
    "'has_superstructure_bamboo', 'has_superstructure_other', \n",
    "'roof_type_n', 'roof_type_q', 'roof_type_x',\n",
    "'ground_floor_type_f','ground_floor_type_m',\n",
    "'ground_floor_type_v','ground_floor_type_x',\n",
    "'ground_floor_type_z',\n",
    "'other_floor_type_j','other_floor_type_q',\n",
    "'other_floor_type_s','other_floor_type_x',\n",
    "'foundation_type_h', 'foundation_type_i', \n",
    "'foundation_type_r', 'foundation_type_u', \n",
    "'foundation_type_w', 'land_surface_condition_n', \n",
    "'land_surface_condition_o', 'land_surface_condition_t',\n",
    "'position_j', 'position_o', \n",
    "'position_s', 'position_t',\n",
    "'plan_configuration_d', 'plan_configuration_u', \n",
    "'plan_configuration_s', 'plan_configuration_q', \n",
    "'plan_configuration_m', 'plan_configuration_c', \n",
    "'plan_configuration_a', 'plan_configuration_n', \n",
    "'plan_configuration_f', 'plan_configuration_o',\n",
    "                         'damage_grade'\n",
    "]"
   ]
  },
  {
   "cell_type": "code",
   "execution_count": 231,
   "id": "726c8f99",
   "metadata": {},
   "outputs": [],
   "source": [
    "#data_test[['position_j', 'position_o', 'position_s', 'position_t']] = pd.get_dummies(test_values['position'])"
   ]
  },
  {
   "cell_type": "code",
   "execution_count": 232,
   "id": "4184ac9a",
   "metadata": {},
   "outputs": [],
   "source": [
    "#data_test[['owner_a', 'owner_r', 'owner_v', 'owner_w']]= pd.get_dummies(test_values['legal_ownership_status'])"
   ]
  },
  {
   "cell_type": "code",
   "execution_count": 233,
   "id": "4d2b9660",
   "metadata": {},
   "outputs": [],
   "source": [
    "set_train[columnas_seleccionadas].to_csv('data_set.csv', index=False)\n",
    "data_test.to_csv('data_test.csv')"
   ]
  }
 ],
 "metadata": {
  "kernelspec": {
   "display_name": "Python 3",
   "language": "python",
   "name": "python3"
  },
  "language_info": {
   "codemirror_mode": {
    "name": "ipython",
    "version": 3
   },
   "file_extension": ".py",
   "mimetype": "text/x-python",
   "name": "python",
   "nbconvert_exporter": "python",
   "pygments_lexer": "ipython3",
   "version": "3.8.8"
  }
 },
 "nbformat": 4,
 "nbformat_minor": 5
}
