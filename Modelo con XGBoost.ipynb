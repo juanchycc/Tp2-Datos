{
 "cells": [
  {
   "cell_type": "code",
   "execution_count": 669,
   "id": "4163ac28",
   "metadata": {
    "id": "4163ac28"
   },
   "outputs": [],
   "source": [
    "from sklearn.ensemble import RandomForestClassifier\n",
    "from sklearn.metrics import f1_score\n",
    "import pandas as pd\n",
    "import numpy as np\n",
    "%matplotlib inline\n",
    "import matplotlib.pyplot as plt\n",
    "from sklearn import tree\n",
    "from sklearn.model_selection import train_test_split\n",
    "from xgboost import XGBClassifier\n",
    "import seaborn as sns\n",
    "from datetime import datetime\n",
    "from sklearn.model_selection import RandomizedSearchCV, GridSearchCV\n",
    "from sklearn.model_selection import cross_validate,KFold\n",
    "from sklearn.metrics import roc_auc_score\n",
    "from sklearn.model_selection import StratifiedKFold\n",
    "import warnings\n",
    "warnings.filterwarnings('ignore')"
   ]
  },
  {
   "cell_type": "code",
   "execution_count": 670,
   "id": "7be1bf98",
   "metadata": {},
   "outputs": [],
   "source": [
    "def timer(start_time=None):\n",
    "    if not start_time:\n",
    "        start_time = datetime.now()\n",
    "        return start_time\n",
    "    elif start_time:\n",
    "        thour, temp_sec = divmod((datetime.now() - start_time).total_seconds(), 3600)\n",
    "        tmin, tsec = divmod(temp_sec, 60)\n",
    "        print('\\n Time taken: %i hours %i minutes and %s seconds.' % (thour, tmin, round(tsec, 2)))"
   ]
  },
  {
   "cell_type": "code",
   "execution_count": 671,
   "id": "6e1b493c",
   "metadata": {
    "id": "6e1b493c"
   },
   "outputs": [],
   "source": [
    "set_train = pd.read_csv('data_set.csv')\n",
    "test_values = pd.read_csv('data_test.csv', index_col='building_id')"
   ]
  },
  {
   "cell_type": "code",
   "execution_count": 672,
   "id": "9f3d2f5e",
   "metadata": {},
   "outputs": [],
   "source": [
    "columnas_seleccionada = ['age',\n",
    "                         'geo_level_1_id',\n",
    "                         'area_percentage',\n",
    "                         'count_floors_pre_eq',\n",
    "                         'geo_level_2_id',\n",
    "                         'height_percentage',\n",
    "                         'resistance',\n",
    "                         'roof_type',\n",
    "                         'ground_floor_type',\n",
    "                         'other_floor_type',\n",
    "                         'position_j', 'position_o', \n",
    "                         'position_s', 'position_t',\n",
    "                          'base_condition',\n",
    "                         ]"
   ]
  },
  {
   "cell_type": "code",
   "execution_count": 673,
   "id": "715e141a",
   "metadata": {},
   "outputs": [],
   "source": [
    "columnas_seleccionads = ['age',\n",
    "                         'geo_level_1_id',\n",
    "                         'area_percentage',\n",
    "                         'count_floors_pre_eq',\n",
    "                         'geo_level_2_id',\n",
    "                         'height_percentage',\n",
    "                         'resistance',\n",
    "                         'roof_type',\n",
    "                         'ground_floor_type',\n",
    "                         'other_floor_type',\n",
    "                         'position_j', 'position_o', \n",
    "                         'position_s', 'position_t',\n",
    "                          'uso_secundario',\n",
    "                         'prom_heigh_floor',\n",
    "                         'base_condition',\n",
    "                         ]"
   ]
  },
  {
   "cell_type": "code",
   "execution_count": 674,
   "id": "306807ae",
   "metadata": {},
   "outputs": [],
   "source": [
    "columnas_seleccionadas= ['age', 'geo_level_1_id', 'geo_level_2_id', 'geo_level_3_id',\n",
    "'count_floors_pre_eq', 'area_percentage', 'height_percentage', 'count_families',\n",
    "'has_secondary_use','has_secondary_use_agriculture', 'has_secondary_use_hotel', 'has_secondary_use_rental',\n",
    "'has_secondary_use_institution', 'has_secondary_use_school', 'has_secondary_use_industry', \n",
    "'has_secondary_use_health_post', 'has_secondary_use_gov_office','has_secondary_use_use_police',\n",
    "'has_secondary_use_other',\n",
    "'has_superstructure_rc_engineered', 'has_superstructure_rc_non_engineered', 'has_superstructure_cement_mortar_brick',\n",
    "'has_superstructure_cement_mortar_stone', 'has_superstructure_mud_mortar_brick', 'has_superstructure_mud_mortar_stone',\n",
    "'has_superstructure_stone_flag', 'has_superstructure_timber', 'has_superstructure_adobe_mud', \n",
    "'has_superstructure_bamboo', 'has_superstructure_other', \n",
    "'roof_type_n', 'roof_type_q', 'roof_type_x',\n",
    "'ground_floor_type_f','ground_floor_type_m',\n",
    "'ground_floor_type_v','ground_floor_type_x',\n",
    "'ground_floor_type_z',\n",
    "'other_floor_type_j','other_floor_type_q',\n",
    "'other_floor_type_s','other_floor_type_x',\n",
    "'foundation_type_h', 'foundation_type_i', \n",
    "'foundation_type_r', 'foundation_type_u', \n",
    "'foundation_type_w', 'land_surface_condition_n', \n",
    "'land_surface_condition_o', 'land_surface_condition_t',\n",
    "'position_j', 'position_o', \n",
    "'position_s', 'position_t',\n",
    "'plan_configuration_d', 'plan_configuration_u', \n",
    "'plan_configuration_s', 'plan_configuration_q', \n",
    "'plan_configuration_m', 'plan_configuration_c', \n",
    "'plan_configuration_a', 'plan_configuration_n', \n",
    "'plan_configuration_f', 'plan_configuration_o',\n",
    "'base_condition', 'prom_heigh_floor', 'uso_secundario', \n",
    "'roof_type', 'ground_floor_type', 'other_floor_type', 'resistance'\n",
    "]"
   ]
  },
  {
   "cell_type": "code",
   "execution_count": 675,
   "id": "ec87f5cd",
   "metadata": {},
   "outputs": [],
   "source": [
    "train, test = train_test_split(set_train, test_size = 0.20, shuffle = False)"
   ]
  },
  {
   "cell_type": "code",
   "execution_count": 676,
   "id": "34569369",
   "metadata": {},
   "outputs": [],
   "source": [
    "train_values_subset = train.iloc[:, 0:-1]\n",
    "train_labels = train.loc[:, 'damage_grade']"
   ]
  },
  {
   "cell_type": "code",
   "execution_count": 677,
   "id": "dd02d6e9",
   "metadata": {},
   "outputs": [],
   "source": [
    "test_values_subset = test.iloc[:, 0:-1]\n",
    "test_labels = test.loc[:, 'damage_grade']"
   ]
  },
  {
   "cell_type": "code",
   "execution_count": 678,
   "id": "fad859e2",
   "metadata": {},
   "outputs": [],
   "source": [
    "# A parameter grid for XGBoost\n",
    "#n_jobs=[-1]\n",
    "#n_estimators=np.arange(100,1000,100)\n",
    "#learning_rate=[0.03,0.01,0.1]\n",
    "#max_depth=np.arange(10,100,15)\n",
    "# Param grid for Xgboost\n",
    "#param_grid={'n_jobs':n_jobs,\n",
    " #           'n_estimators':n_estimators,\n",
    "  #          'max_depth':max_depth,\n",
    "   #         'learning_rate':learning_rate\n",
    "    #       }"
   ]
  },
  {
   "cell_type": "code",
   "execution_count": 679,
   "id": "fdb5d7d4",
   "metadata": {},
   "outputs": [],
   "source": [
    "#rf=XGBClassifier()\n",
    "#kf=KFold(n_splits=2,shuffle=True)"
   ]
  },
  {
   "cell_type": "code",
   "execution_count": 680,
   "id": "ac127e32",
   "metadata": {},
   "outputs": [],
   "source": [
    "#rs=RandomizedSearchCV(rf,param_distributions=param_grid,cv=kf,scoring='f1_micro')"
   ]
  },
  {
   "cell_type": "code",
   "execution_count": 681,
   "id": "acb607b6",
   "metadata": {},
   "outputs": [],
   "source": [
    "#random_search = RandomizedSearchCV(rf_model, param_distributions=params, n_iter=500, scoring='accuracy', n_jobs=1, cv=skf.split(train_values_subset,train_labels.values.ravel()), random_state=1)"
   ]
  },
  {
   "cell_type": "code",
   "execution_count": 682,
   "id": "3a37c2a1",
   "metadata": {},
   "outputs": [],
   "source": [
    "rf_model = XGBClassifier(n_jobs=-1,n_estimators= 400, max_depth= 10,learning_rate= 0.1, eval_metric='mlogloss', colsample_bytree = 0.9)"
   ]
  },
  {
   "cell_type": "code",
   "execution_count": 683,
   "id": "e074dc70",
   "metadata": {
    "id": "e074dc70"
   },
   "outputs": [],
   "source": [
    "train_values_subset = pd.get_dummies(train_values_subset)"
   ]
  },
  {
   "cell_type": "code",
   "execution_count": 684,
   "id": "f1ebde08",
   "metadata": {},
   "outputs": [
    {
     "name": "stdout",
     "output_type": "stream",
     "text": [
      "\n",
      " Time taken: 0 hours 7 minutes and 3.81 seconds.\n"
     ]
    }
   ],
   "source": [
    "start_time = timer(None)\n",
    "rf_model.fit(train_values_subset, train_labels.values.ravel())\n",
    "timer(start_time)"
   ]
  },
  {
   "cell_type": "code",
   "execution_count": 685,
   "id": "66cefe3e",
   "metadata": {
    "id": "66cefe3e"
   },
   "outputs": [
    {
     "data": {
      "text/plain": [
       "0.7463540067546822"
      ]
     },
     "execution_count": 685,
     "metadata": {},
     "output_type": "execute_result"
    }
   ],
   "source": [
    "# *----- Submit actual 0.7257\n",
    "preds = rf_model.predict(test_values_subset)\n",
    "f1_score(test_labels, preds, average='micro')"
   ]
  },
  {
   "cell_type": "code",
   "execution_count": 686,
   "id": "54d7d97f",
   "metadata": {},
   "outputs": [],
   "source": [
    "# 0.7372965919557876      c/uso secundario submit: 0.7285\n",
    "# 0.7466472247270773 .......\n",
    "\n",
    "# 0.7462196806877495 -------- 0.740"
   ]
  },
  {
   "cell_type": "code",
   "execution_count": 687,
   "id": "5e565214",
   "metadata": {
    "id": "5e565214"
   },
   "outputs": [
    {
     "data": {
      "text/html": [
       "<div>\n",
       "<style scoped>\n",
       "    .dataframe tbody tr th:only-of-type {\n",
       "        vertical-align: middle;\n",
       "    }\n",
       "\n",
       "    .dataframe tbody tr th {\n",
       "        vertical-align: top;\n",
       "    }\n",
       "\n",
       "    .dataframe thead th {\n",
       "        text-align: right;\n",
       "    }\n",
       "</style>\n",
       "<table border=\"1\" class=\"dataframe\">\n",
       "  <thead>\n",
       "    <tr style=\"text-align: right;\">\n",
       "      <th></th>\n",
       "      <th>age</th>\n",
       "      <th>geo_level_1_id</th>\n",
       "      <th>geo_level_2_id</th>\n",
       "      <th>geo_level_3_id</th>\n",
       "      <th>count_floors_pre_eq</th>\n",
       "      <th>area_percentage</th>\n",
       "      <th>height_percentage</th>\n",
       "      <th>count_families</th>\n",
       "      <th>has_secondary_use</th>\n",
       "      <th>has_secondary_use_agriculture</th>\n",
       "      <th>...</th>\n",
       "      <th>plan_configuration_n</th>\n",
       "      <th>plan_configuration_f</th>\n",
       "      <th>plan_configuration_o</th>\n",
       "      <th>base_condition</th>\n",
       "      <th>prom_heigh_floor</th>\n",
       "      <th>uso_secundario</th>\n",
       "      <th>roof_type</th>\n",
       "      <th>ground_floor_type</th>\n",
       "      <th>other_floor_type</th>\n",
       "      <th>resistance</th>\n",
       "    </tr>\n",
       "    <tr>\n",
       "      <th>building_id</th>\n",
       "      <th></th>\n",
       "      <th></th>\n",
       "      <th></th>\n",
       "      <th></th>\n",
       "      <th></th>\n",
       "      <th></th>\n",
       "      <th></th>\n",
       "      <th></th>\n",
       "      <th></th>\n",
       "      <th></th>\n",
       "      <th></th>\n",
       "      <th></th>\n",
       "      <th></th>\n",
       "      <th></th>\n",
       "      <th></th>\n",
       "      <th></th>\n",
       "      <th></th>\n",
       "      <th></th>\n",
       "      <th></th>\n",
       "      <th></th>\n",
       "      <th></th>\n",
       "    </tr>\n",
       "  </thead>\n",
       "  <tbody>\n",
       "    <tr>\n",
       "      <th>300051</th>\n",
       "      <td>20</td>\n",
       "      <td>17</td>\n",
       "      <td>596</td>\n",
       "      <td>11307</td>\n",
       "      <td>3</td>\n",
       "      <td>7</td>\n",
       "      <td>6</td>\n",
       "      <td>1</td>\n",
       "      <td>0</td>\n",
       "      <td>0</td>\n",
       "      <td>...</td>\n",
       "      <td>0</td>\n",
       "      <td>0</td>\n",
       "      <td>1</td>\n",
       "      <td>1.673320</td>\n",
       "      <td>2.000000</td>\n",
       "      <td>0.0</td>\n",
       "      <td>0.703746</td>\n",
       "      <td>0.805498</td>\n",
       "      <td>0.633191</td>\n",
       "      <td>0.50</td>\n",
       "    </tr>\n",
       "    <tr>\n",
       "      <th>99355</th>\n",
       "      <td>25</td>\n",
       "      <td>6</td>\n",
       "      <td>141</td>\n",
       "      <td>11987</td>\n",
       "      <td>2</td>\n",
       "      <td>13</td>\n",
       "      <td>5</td>\n",
       "      <td>1</td>\n",
       "      <td>1</td>\n",
       "      <td>1</td>\n",
       "      <td>...</td>\n",
       "      <td>0</td>\n",
       "      <td>0</td>\n",
       "      <td>1</td>\n",
       "      <td>1.673320</td>\n",
       "      <td>2.500000</td>\n",
       "      <td>1.0</td>\n",
       "      <td>0.703746</td>\n",
       "      <td>0.805498</td>\n",
       "      <td>0.633191</td>\n",
       "      <td>0.50</td>\n",
       "    </tr>\n",
       "    <tr>\n",
       "      <th>890251</th>\n",
       "      <td>5</td>\n",
       "      <td>22</td>\n",
       "      <td>19</td>\n",
       "      <td>10044</td>\n",
       "      <td>2</td>\n",
       "      <td>4</td>\n",
       "      <td>5</td>\n",
       "      <td>1</td>\n",
       "      <td>0</td>\n",
       "      <td>0</td>\n",
       "      <td>...</td>\n",
       "      <td>0</td>\n",
       "      <td>0</td>\n",
       "      <td>1</td>\n",
       "      <td>1.673320</td>\n",
       "      <td>2.500000</td>\n",
       "      <td>0.0</td>\n",
       "      <td>0.703746</td>\n",
       "      <td>0.805498</td>\n",
       "      <td>0.633191</td>\n",
       "      <td>0.50</td>\n",
       "    </tr>\n",
       "    <tr>\n",
       "      <th>745817</th>\n",
       "      <td>0</td>\n",
       "      <td>26</td>\n",
       "      <td>39</td>\n",
       "      <td>633</td>\n",
       "      <td>1</td>\n",
       "      <td>19</td>\n",
       "      <td>3</td>\n",
       "      <td>2</td>\n",
       "      <td>1</td>\n",
       "      <td>0</td>\n",
       "      <td>...</td>\n",
       "      <td>0</td>\n",
       "      <td>0</td>\n",
       "      <td>1</td>\n",
       "      <td>1.673320</td>\n",
       "      <td>3.000000</td>\n",
       "      <td>0.2</td>\n",
       "      <td>0.062232</td>\n",
       "      <td>0.093682</td>\n",
       "      <td>0.150447</td>\n",
       "      <td>0.85</td>\n",
       "    </tr>\n",
       "    <tr>\n",
       "      <th>421793</th>\n",
       "      <td>15</td>\n",
       "      <td>17</td>\n",
       "      <td>289</td>\n",
       "      <td>7970</td>\n",
       "      <td>3</td>\n",
       "      <td>8</td>\n",
       "      <td>7</td>\n",
       "      <td>1</td>\n",
       "      <td>0</td>\n",
       "      <td>0</td>\n",
       "      <td>...</td>\n",
       "      <td>0</td>\n",
       "      <td>0</td>\n",
       "      <td>1</td>\n",
       "      <td>1.673320</td>\n",
       "      <td>2.333333</td>\n",
       "      <td>0.0</td>\n",
       "      <td>0.234022</td>\n",
       "      <td>0.805498</td>\n",
       "      <td>0.633191</td>\n",
       "      <td>0.50</td>\n",
       "    </tr>\n",
       "    <tr>\n",
       "      <th>...</th>\n",
       "      <td>...</td>\n",
       "      <td>...</td>\n",
       "      <td>...</td>\n",
       "      <td>...</td>\n",
       "      <td>...</td>\n",
       "      <td>...</td>\n",
       "      <td>...</td>\n",
       "      <td>...</td>\n",
       "      <td>...</td>\n",
       "      <td>...</td>\n",
       "      <td>...</td>\n",
       "      <td>...</td>\n",
       "      <td>...</td>\n",
       "      <td>...</td>\n",
       "      <td>...</td>\n",
       "      <td>...</td>\n",
       "      <td>...</td>\n",
       "      <td>...</td>\n",
       "      <td>...</td>\n",
       "      <td>...</td>\n",
       "      <td>...</td>\n",
       "    </tr>\n",
       "    <tr>\n",
       "      <th>310028</th>\n",
       "      <td>70</td>\n",
       "      <td>4</td>\n",
       "      <td>605</td>\n",
       "      <td>3623</td>\n",
       "      <td>3</td>\n",
       "      <td>20</td>\n",
       "      <td>6</td>\n",
       "      <td>1</td>\n",
       "      <td>1</td>\n",
       "      <td>1</td>\n",
       "      <td>...</td>\n",
       "      <td>0</td>\n",
       "      <td>0</td>\n",
       "      <td>1</td>\n",
       "      <td>1.673320</td>\n",
       "      <td>2.000000</td>\n",
       "      <td>1.0</td>\n",
       "      <td>0.234022</td>\n",
       "      <td>0.805498</td>\n",
       "      <td>0.633191</td>\n",
       "      <td>0.80</td>\n",
       "    </tr>\n",
       "    <tr>\n",
       "      <th>663567</th>\n",
       "      <td>25</td>\n",
       "      <td>10</td>\n",
       "      <td>1407</td>\n",
       "      <td>11907</td>\n",
       "      <td>3</td>\n",
       "      <td>6</td>\n",
       "      <td>7</td>\n",
       "      <td>1</td>\n",
       "      <td>0</td>\n",
       "      <td>0</td>\n",
       "      <td>...</td>\n",
       "      <td>0</td>\n",
       "      <td>0</td>\n",
       "      <td>1</td>\n",
       "      <td>0.979221</td>\n",
       "      <td>2.333333</td>\n",
       "      <td>0.0</td>\n",
       "      <td>0.703746</td>\n",
       "      <td>0.805498</td>\n",
       "      <td>0.633191</td>\n",
       "      <td>1.10</td>\n",
       "    </tr>\n",
       "    <tr>\n",
       "      <th>1049160</th>\n",
       "      <td>50</td>\n",
       "      <td>22</td>\n",
       "      <td>1136</td>\n",
       "      <td>7712</td>\n",
       "      <td>1</td>\n",
       "      <td>3</td>\n",
       "      <td>3</td>\n",
       "      <td>1</td>\n",
       "      <td>0</td>\n",
       "      <td>0</td>\n",
       "      <td>...</td>\n",
       "      <td>0</td>\n",
       "      <td>0</td>\n",
       "      <td>1</td>\n",
       "      <td>1.673320</td>\n",
       "      <td>3.000000</td>\n",
       "      <td>0.0</td>\n",
       "      <td>0.703746</td>\n",
       "      <td>0.805498</td>\n",
       "      <td>0.150447</td>\n",
       "      <td>0.80</td>\n",
       "    </tr>\n",
       "    <tr>\n",
       "      <th>442785</th>\n",
       "      <td>5</td>\n",
       "      <td>6</td>\n",
       "      <td>1041</td>\n",
       "      <td>912</td>\n",
       "      <td>2</td>\n",
       "      <td>9</td>\n",
       "      <td>5</td>\n",
       "      <td>1</td>\n",
       "      <td>0</td>\n",
       "      <td>0</td>\n",
       "      <td>...</td>\n",
       "      <td>0</td>\n",
       "      <td>0</td>\n",
       "      <td>1</td>\n",
       "      <td>1.673320</td>\n",
       "      <td>2.500000</td>\n",
       "      <td>0.0</td>\n",
       "      <td>0.703746</td>\n",
       "      <td>0.805498</td>\n",
       "      <td>0.633191</td>\n",
       "      <td>0.70</td>\n",
       "    </tr>\n",
       "    <tr>\n",
       "      <th>501372</th>\n",
       "      <td>10</td>\n",
       "      <td>26</td>\n",
       "      <td>36</td>\n",
       "      <td>6436</td>\n",
       "      <td>2</td>\n",
       "      <td>11</td>\n",
       "      <td>4</td>\n",
       "      <td>1</td>\n",
       "      <td>0</td>\n",
       "      <td>0</td>\n",
       "      <td>...</td>\n",
       "      <td>0</td>\n",
       "      <td>0</td>\n",
       "      <td>1</td>\n",
       "      <td>1.673320</td>\n",
       "      <td>2.000000</td>\n",
       "      <td>0.0</td>\n",
       "      <td>0.234022</td>\n",
       "      <td>0.093682</td>\n",
       "      <td>0.633191</td>\n",
       "      <td>0.85</td>\n",
       "    </tr>\n",
       "  </tbody>\n",
       "</table>\n",
       "<p>86868 rows × 71 columns</p>\n",
       "</div>"
      ],
      "text/plain": [
       "             age  geo_level_1_id  geo_level_2_id  geo_level_3_id  \\\n",
       "building_id                                                        \n",
       "300051        20              17             596           11307   \n",
       "99355         25               6             141           11987   \n",
       "890251         5              22              19           10044   \n",
       "745817         0              26              39             633   \n",
       "421793        15              17             289            7970   \n",
       "...          ...             ...             ...             ...   \n",
       "310028        70               4             605            3623   \n",
       "663567        25              10            1407           11907   \n",
       "1049160       50              22            1136            7712   \n",
       "442785         5               6            1041             912   \n",
       "501372        10              26              36            6436   \n",
       "\n",
       "             count_floors_pre_eq  area_percentage  height_percentage  \\\n",
       "building_id                                                            \n",
       "300051                         3                7                  6   \n",
       "99355                          2               13                  5   \n",
       "890251                         2                4                  5   \n",
       "745817                         1               19                  3   \n",
       "421793                         3                8                  7   \n",
       "...                          ...              ...                ...   \n",
       "310028                         3               20                  6   \n",
       "663567                         3                6                  7   \n",
       "1049160                        1                3                  3   \n",
       "442785                         2                9                  5   \n",
       "501372                         2               11                  4   \n",
       "\n",
       "             count_families  has_secondary_use  has_secondary_use_agriculture  \\\n",
       "building_id                                                                     \n",
       "300051                    1                  0                              0   \n",
       "99355                     1                  1                              1   \n",
       "890251                    1                  0                              0   \n",
       "745817                    2                  1                              0   \n",
       "421793                    1                  0                              0   \n",
       "...                     ...                ...                            ...   \n",
       "310028                    1                  1                              1   \n",
       "663567                    1                  0                              0   \n",
       "1049160                   1                  0                              0   \n",
       "442785                    1                  0                              0   \n",
       "501372                    1                  0                              0   \n",
       "\n",
       "             ...  plan_configuration_n  plan_configuration_f  \\\n",
       "building_id  ...                                               \n",
       "300051       ...                     0                     0   \n",
       "99355        ...                     0                     0   \n",
       "890251       ...                     0                     0   \n",
       "745817       ...                     0                     0   \n",
       "421793       ...                     0                     0   \n",
       "...          ...                   ...                   ...   \n",
       "310028       ...                     0                     0   \n",
       "663567       ...                     0                     0   \n",
       "1049160      ...                     0                     0   \n",
       "442785       ...                     0                     0   \n",
       "501372       ...                     0                     0   \n",
       "\n",
       "             plan_configuration_o  base_condition  prom_heigh_floor  \\\n",
       "building_id                                                           \n",
       "300051                          1        1.673320          2.000000   \n",
       "99355                           1        1.673320          2.500000   \n",
       "890251                          1        1.673320          2.500000   \n",
       "745817                          1        1.673320          3.000000   \n",
       "421793                          1        1.673320          2.333333   \n",
       "...                           ...             ...               ...   \n",
       "310028                          1        1.673320          2.000000   \n",
       "663567                          1        0.979221          2.333333   \n",
       "1049160                         1        1.673320          3.000000   \n",
       "442785                          1        1.673320          2.500000   \n",
       "501372                          1        1.673320          2.000000   \n",
       "\n",
       "             uso_secundario  roof_type  ground_floor_type  other_floor_type  \\\n",
       "building_id                                                                   \n",
       "300051                  0.0   0.703746           0.805498          0.633191   \n",
       "99355                   1.0   0.703746           0.805498          0.633191   \n",
       "890251                  0.0   0.703746           0.805498          0.633191   \n",
       "745817                  0.2   0.062232           0.093682          0.150447   \n",
       "421793                  0.0   0.234022           0.805498          0.633191   \n",
       "...                     ...        ...                ...               ...   \n",
       "310028                  1.0   0.234022           0.805498          0.633191   \n",
       "663567                  0.0   0.703746           0.805498          0.633191   \n",
       "1049160                 0.0   0.703746           0.805498          0.150447   \n",
       "442785                  0.0   0.703746           0.805498          0.633191   \n",
       "501372                  0.0   0.234022           0.093682          0.633191   \n",
       "\n",
       "             resistance  \n",
       "building_id              \n",
       "300051             0.50  \n",
       "99355              0.50  \n",
       "890251             0.50  \n",
       "745817             0.85  \n",
       "421793             0.50  \n",
       "...                 ...  \n",
       "310028             0.80  \n",
       "663567             1.10  \n",
       "1049160            0.80  \n",
       "442785             0.70  \n",
       "501372             0.85  \n",
       "\n",
       "[86868 rows x 71 columns]"
      ]
     },
     "execution_count": 687,
     "metadata": {},
     "output_type": "execute_result"
    }
   ],
   "source": [
    "test_values_subset = test_values[columnas_seleccionadas]\n",
    "test_values_subset = pd.get_dummies(test_values_subset)\n",
    "test_values_subset"
   ]
  },
  {
   "cell_type": "code",
   "execution_count": 688,
   "id": "128e8df6",
   "metadata": {
    "id": "128e8df6"
   },
   "outputs": [],
   "source": [
    "predictions = rf_model.predict(test_values_subset)"
   ]
  },
  {
   "cell_type": "code",
   "execution_count": 689,
   "id": "46750398",
   "metadata": {},
   "outputs": [],
   "source": [
    "submission_format = pd.read_csv('submission_format.csv',index_col='building_id')"
   ]
  },
  {
   "cell_type": "code",
   "execution_count": 690,
   "id": "fb3610f2",
   "metadata": {
    "id": "fb3610f2"
   },
   "outputs": [],
   "source": [
    "my_submission = pd.DataFrame(data=predictions, columns=submission_format.columns,\n",
    "                            index=submission_format.index)"
   ]
  },
  {
   "cell_type": "code",
   "execution_count": 691,
   "id": "d466bc4d",
   "metadata": {
    "colab": {
     "base_uri": "https://localhost:8080/",
     "height": 235
    },
    "id": "d466bc4d",
    "outputId": "9d081e16-6830-4c7c-b454-59fd08af74b1"
   },
   "outputs": [
    {
     "data": {
      "text/html": [
       "<div>\n",
       "<style scoped>\n",
       "    .dataframe tbody tr th:only-of-type {\n",
       "        vertical-align: middle;\n",
       "    }\n",
       "\n",
       "    .dataframe tbody tr th {\n",
       "        vertical-align: top;\n",
       "    }\n",
       "\n",
       "    .dataframe thead th {\n",
       "        text-align: right;\n",
       "    }\n",
       "</style>\n",
       "<table border=\"1\" class=\"dataframe\">\n",
       "  <thead>\n",
       "    <tr style=\"text-align: right;\">\n",
       "      <th></th>\n",
       "      <th>damage_grade</th>\n",
       "    </tr>\n",
       "    <tr>\n",
       "      <th>building_id</th>\n",
       "      <th></th>\n",
       "    </tr>\n",
       "  </thead>\n",
       "  <tbody>\n",
       "    <tr>\n",
       "      <th>300051</th>\n",
       "      <td>3</td>\n",
       "    </tr>\n",
       "    <tr>\n",
       "      <th>99355</th>\n",
       "      <td>2</td>\n",
       "    </tr>\n",
       "    <tr>\n",
       "      <th>890251</th>\n",
       "      <td>2</td>\n",
       "    </tr>\n",
       "    <tr>\n",
       "      <th>745817</th>\n",
       "      <td>1</td>\n",
       "    </tr>\n",
       "    <tr>\n",
       "      <th>421793</th>\n",
       "      <td>3</td>\n",
       "    </tr>\n",
       "  </tbody>\n",
       "</table>\n",
       "</div>"
      ],
      "text/plain": [
       "             damage_grade\n",
       "building_id              \n",
       "300051                  3\n",
       "99355                   2\n",
       "890251                  2\n",
       "745817                  1\n",
       "421793                  3"
      ]
     },
     "execution_count": 691,
     "metadata": {},
     "output_type": "execute_result"
    }
   ],
   "source": [
    "my_submission.head()"
   ]
  },
  {
   "cell_type": "code",
   "execution_count": 692,
   "id": "0226f186",
   "metadata": {
    "id": "0226f186"
   },
   "outputs": [],
   "source": [
    "my_submission.to_csv('submision.csv')"
   ]
  },
  {
   "cell_type": "code",
   "execution_count": 693,
   "id": "8cfbce5f",
   "metadata": {
    "colab": {
     "base_uri": "https://localhost:8080/"
    },
    "id": "8cfbce5f",
    "outputId": "2e0e950e-01ba-482e-8389-024eba2c5d46"
   },
   "outputs": [
    {
     "name": "stderr",
     "output_type": "stream",
     "text": [
      "\"head\" no se reconoce como un comando interno o externo,\n",
      "programa o archivo por lotes ejecutable.\n"
     ]
    }
   ],
   "source": [
    "!head submision.csv"
   ]
  },
  {
   "cell_type": "code",
   "execution_count": 694,
   "id": "5487ed61",
   "metadata": {},
   "outputs": [
    {
     "data": {
      "text/plain": [
       "array([0.0062024 , 0.0529337 , 0.01450146, 0.00801221, 0.00793865,\n",
       "       0.00499511, 0.00583225, 0.00654283, 0.00615647, 0.00596899,\n",
       "       0.00484369, 0.00553492, 0.00343749, 0.00344171, 0.00432981,\n",
       "       0.00203742, 0.0023073 , 0.0014869 , 0.00771675, 0.00979008,\n",
       "       0.00723955, 0.02572631, 0.00870499, 0.01141652, 0.03700049,\n",
       "       0.01755229, 0.00752853, 0.00939998, 0.00713798, 0.00904109,\n",
       "       0.01249554, 0.00737518, 0.00905052, 0.00566611, 0.00713941,\n",
       "       0.06069171, 0.00794013, 0.00723467, 0.00594246, 0.00846995,\n",
       "       0.00670043, 0.01086317, 0.01354675, 0.044889  , 0.28629112,\n",
       "       0.0064139 , 0.01604963, 0.00553087, 0.00848428, 0.00737652,\n",
       "       0.00494775, 0.00555815, 0.00548307, 0.00467394, 0.00079616,\n",
       "       0.00321028, 0.00300396, 0.00374499, 0.00739058, 0.00493674,\n",
       "       0.0050833 , 0.00816099, 0.00696255, 0.00543657, 0.0113363 ,\n",
       "       0.0065325 , 0.00956149, 0.00705381, 0.0216163 , 0.02261113,\n",
       "       0.00899028], dtype=float32)"
      ]
     },
     "execution_count": 694,
     "metadata": {},
     "output_type": "execute_result"
    }
   ],
   "source": [
    "rf_model.feature_importances_"
   ]
  },
  {
   "cell_type": "code",
   "execution_count": 695,
   "id": "bb45161b",
   "metadata": {
    "id": "bb45161b"
   },
   "outputs": [],
   "source": [
    "# Gini importance\n",
    "rf_model.feature_importances_\n",
    "columnas_seleccionadas = ['age',\n",
    "                         'geo_level_1_id',\n",
    "                         'area_percentage',\n",
    "                         'count_floors_pre_eq',\n",
    "                         'geo_level_2_id',\n",
    "                         'height_percentage',\n",
    "                         'resistance',\n",
    "                         'roof_type',\n",
    "                         'ground_floor_type',\n",
    "                         'other_floor_type',\n",
    "                    #     'position_j', 'position_o', \n",
    "                     #    'position_s', 'position_t',\n",
    "                         'owner_a', 'owner_r',\n",
    "                         'owner_v', 'owner_w',\n",
    "                         'base_condition']"
   ]
  },
  {
   "cell_type": "code",
   "execution_count": 696,
   "id": "-81DVf7YxCvy",
   "metadata": {
    "id": "-81DVf7YxCvy"
   },
   "outputs": [
    {
     "data": {
      "image/png": "[encoded data removed]",
      "text/plain": [
       "<Figure size 432x288 with 1 Axes>"
      ]
     },
     "metadata": {
      "needs_background": "light"
     },
     "output_type": "display_data"
    }
   ],
   "source": [
    "plt.bar(test_values_subset.columns, rf_model.feature_importances_)\n",
    "plt.xlabel('Features')\n",
    "plt.ylabel('Importancia')\n",
    "plt.title('Importancia Features con RF')\n",
    "plt.show()"
   ]
  },
  {
   "cell_type": "code",
   "execution_count": null,
   "id": "a2f63423",
   "metadata": {},
   "outputs": [],
   "source": []
  },
  {
   "cell_type": "code",
   "execution_count": null,
   "id": "655d0a15",
   "metadata": {},
   "outputs": [],
   "source": []
  }
 ],
 "metadata": {
  "colab": {
   "name": "Modelo con GS.ipynb",
   "provenance": []
  },
  "kernelspec": {
   "display_name": "Python 3",
   "language": "python",
   "name": "python3"
  },
  "language_info": {
   "codemirror_mode": {
    "name": "ipython",
    "version": 3
   },
   "file_extension": ".py",
   "mimetype": "text/x-python",
   "name": "python",
   "nbconvert_exporter": "python",
   "pygments_lexer": "ipython3",
   "version": "3.8.8"
  }
 },
 "nbformat": 4,
 "nbformat_minor": 5
}
