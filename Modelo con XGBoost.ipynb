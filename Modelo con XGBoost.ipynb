{
 "cells": [
  {
   "cell_type": "code",
   "execution_count": 191,
   "id": "4163ac28",
   "metadata": {
    "id": "4163ac28"
   },
   "outputs": [],
   "source": [
    "from sklearn.ensemble import RandomForestClassifier\n",
    "from sklearn.metrics import f1_score\n",
    "import pandas as pd\n",
    "import numpy as np\n",
    "%matplotlib inline\n",
    "import matplotlib.pyplot as plt\n",
    "from sklearn import tree\n",
    "from sklearn.model_selection import train_test_split\n",
    "from xgboost import XGBClassifier\n",
    "import seaborn as sns\n",
    "from datetime import datetime\n",
    "from sklearn.model_selection import RandomizedSearchCV, GridSearchCV\n",
    "from sklearn.model_selection import cross_validate,KFold\n",
    "from sklearn.metrics import roc_auc_score\n",
    "from sklearn.model_selection import StratifiedKFold\n",
    "import warnings\n",
    "warnings.filterwarnings('ignore')"
   ]
  },
  {
   "cell_type": "code",
   "execution_count": 192,
   "id": "7be1bf98",
   "metadata": {},
   "outputs": [],
   "source": [
    "def timer(start_time=None):\n",
    "    if not start_time:\n",
    "        start_time = datetime.now()\n",
    "        return start_time\n",
    "    elif start_time:\n",
    "        thour, temp_sec = divmod((datetime.now() - start_time).total_seconds(), 3600)\n",
    "        tmin, tsec = divmod(temp_sec, 60)\n",
    "        print('\\n Time taken: %i hours %i minutes and %s seconds.' % (thour, tmin, round(tsec, 2)))"
   ]
  },
  {
   "cell_type": "code",
   "execution_count": 193,
   "id": "6e1b493c",
   "metadata": {
    "id": "6e1b493c"
   },
   "outputs": [],
   "source": [
    "set_train = pd.read_csv('data_set.csv')\n",
    "test_values = pd.read_csv('data_test.csv', index_col='building_id')"
   ]
  },
  {
   "cell_type": "code",
   "execution_count": 194,
   "id": "9f3d2f5e",
   "metadata": {},
   "outputs": [],
   "source": [
    "columnas_seleccionadas = ['age',\n",
    "                         'geo_level_1_id',\n",
    "                         'area_percentage',\n",
    "                         'count_floors_pre_eq',\n",
    "                         'geo_level_2_id',\n",
    "                         'height_percentage',\n",
    "                         'resistance',\n",
    "                         'roof_type',\n",
    "                         'ground_floor_type',\n",
    "                         'other_floor_type',\n",
    "                         'position_j', 'position_o', \n",
    "                         'position_s', 'position_t',\n",
    "                         'base_condition']"
   ]
  },
  {
   "cell_type": "code",
   "execution_count": 195,
   "id": "ec87f5cd",
   "metadata": {},
   "outputs": [],
   "source": [
    "train, test = train_test_split(set_train, test_size = 0.20, shuffle = False)"
   ]
  },
  {
   "cell_type": "code",
   "execution_count": 196,
   "id": "34569369",
   "metadata": {},
   "outputs": [],
   "source": [
    "train_values_subset = train.iloc[:, 0:-1]\n",
    "train_labels = train.loc[:, 'damage_grade']"
   ]
  },
  {
   "cell_type": "code",
   "execution_count": 197,
   "id": "dd02d6e9",
   "metadata": {},
   "outputs": [],
   "source": [
    "test_values_subset = test.iloc[:, 0:-1]\n",
    "test_labels = test.loc[:, 'damage_grade']"
   ]
  },
  {
   "cell_type": "code",
   "execution_count": 198,
   "id": "fad859e2",
   "metadata": {},
   "outputs": [],
   "source": [
    "# A parameter grid for XGBoost\n",
    "#n_jobs=[-1]\n",
    "#n_estimators=np.arange(100,1000,100)\n",
    "#learning_rate=[0.03,0.01,0.1]\n",
    "#max_depth=np.arange(10,100,15)\n",
    "# Param grid for Xgboost\n",
    "#param_grid={'n_jobs':n_jobs,\n",
    " #           'n_estimators':n_estimators,\n",
    "  #          'max_depth':max_depth,\n",
    "   #         'learning_rate':learning_rate\n",
    "    #       }"
   ]
  },
  {
   "cell_type": "code",
   "execution_count": 199,
   "id": "fdb5d7d4",
   "metadata": {},
   "outputs": [],
   "source": [
    "#rf=XGBClassifier()\n",
    "#kf=KFold(n_splits=2,shuffle=True)"
   ]
  },
  {
   "cell_type": "code",
   "execution_count": 200,
   "id": "ac127e32",
   "metadata": {},
   "outputs": [],
   "source": [
    "#rs=RandomizedSearchCV(rf,param_distributions=param_grid,cv=kf,scoring='f1_micro')"
   ]
  },
  {
   "cell_type": "code",
   "execution_count": 201,
   "id": "acb607b6",
   "metadata": {},
   "outputs": [],
   "source": [
    "#random_search = RandomizedSearchCV(rf_model, param_distributions=params, n_iter=500, scoring='accuracy', n_jobs=1, cv=skf.split(train_values_subset,train_labels.values.ravel()), random_state=1)"
   ]
  },
  {
   "cell_type": "code",
   "execution_count": 202,
   "id": "e074dc70",
   "metadata": {
    "id": "e074dc70"
   },
   "outputs": [],
   "source": [
    "train_values_subset = pd.get_dummies(train_values_subset)"
   ]
  },
  {
   "cell_type": "code",
   "execution_count": 203,
   "id": "940ef9b3",
   "metadata": {},
   "outputs": [],
   "source": [
    "# *----- Submit 0.7257\n",
    "rf_model = XGBClassifier(n_jobs=-1,n_estimators= 600, max_depth= 10,learning_rate= 0.1, eval_metric='mlogloss')"
   ]
  },
  {
   "cell_type": "code",
   "execution_count": 204,
   "id": "f1ebde08",
   "metadata": {},
   "outputs": [
    {
     "name": "stdout",
     "output_type": "stream",
     "text": [
      "\n",
      " Time taken: 0 hours 5 minutes and 14.72 seconds.\n"
     ]
    }
   ],
   "source": [
    "start_time = timer(None)\n",
    "rf_model.fit(train_values_subset, train_labels.values.ravel())\n",
    "timer(start_time) "
   ]
  },
  {
   "cell_type": "code",
   "execution_count": 205,
   "id": "66cefe3e",
   "metadata": {
    "id": "66cefe3e"
   },
   "outputs": [
    {
     "data": {
      "text/plain": [
       "0.7332284310715382"
      ]
     },
     "execution_count": 205,
     "metadata": {},
     "output_type": "execute_result"
    }
   ],
   "source": [
    "# *----- Submit actual 0.7257\n",
    "preds = rf_model.predict(test_values_subset)\n",
    "f1_score(test_labels, preds, average='micro')"
   ]
  },
  {
   "cell_type": "code",
   "execution_count": 206,
   "id": "54d7d97f",
   "metadata": {},
   "outputs": [],
   "source": [
    "#rs.best_params_ 0.7332284310715382\n",
    "#rs.best_params_ "
   ]
  },
  {
   "cell_type": "code",
   "execution_count": 207,
   "id": "5e565214",
   "metadata": {
    "id": "5e565214"
   },
   "outputs": [
    {
     "data": {
      "text/html": [
       "<div>\n",
       "<style scoped>\n",
       "    .dataframe tbody tr th:only-of-type {\n",
       "        vertical-align: middle;\n",
       "    }\n",
       "\n",
       "    .dataframe tbody tr th {\n",
       "        vertical-align: top;\n",
       "    }\n",
       "\n",
       "    .dataframe thead th {\n",
       "        text-align: right;\n",
       "    }\n",
       "</style>\n",
       "<table border=\"1\" class=\"dataframe\">\n",
       "  <thead>\n",
       "    <tr style=\"text-align: right;\">\n",
       "      <th></th>\n",
       "      <th>age</th>\n",
       "      <th>geo_level_1_id</th>\n",
       "      <th>area_percentage</th>\n",
       "      <th>count_floors_pre_eq</th>\n",
       "      <th>geo_level_2_id</th>\n",
       "      <th>height_percentage</th>\n",
       "      <th>resistance</th>\n",
       "      <th>roof_type</th>\n",
       "      <th>ground_floor_type</th>\n",
       "      <th>other_floor_type</th>\n",
       "      <th>position_j</th>\n",
       "      <th>position_o</th>\n",
       "      <th>position_s</th>\n",
       "      <th>position_t</th>\n",
       "      <th>base_condition</th>\n",
       "    </tr>\n",
       "    <tr>\n",
       "      <th>building_id</th>\n",
       "      <th></th>\n",
       "      <th></th>\n",
       "      <th></th>\n",
       "      <th></th>\n",
       "      <th></th>\n",
       "      <th></th>\n",
       "      <th></th>\n",
       "      <th></th>\n",
       "      <th></th>\n",
       "      <th></th>\n",
       "      <th></th>\n",
       "      <th></th>\n",
       "      <th></th>\n",
       "      <th></th>\n",
       "      <th></th>\n",
       "    </tr>\n",
       "  </thead>\n",
       "  <tbody>\n",
       "    <tr>\n",
       "      <th>300051</th>\n",
       "      <td>20</td>\n",
       "      <td>17</td>\n",
       "      <td>7</td>\n",
       "      <td>3</td>\n",
       "      <td>596</td>\n",
       "      <td>6</td>\n",
       "      <td>0.50</td>\n",
       "      <td>0.703746</td>\n",
       "      <td>0.805498</td>\n",
       "      <td>0.633191</td>\n",
       "      <td>0</td>\n",
       "      <td>0</td>\n",
       "      <td>1</td>\n",
       "      <td>0</td>\n",
       "      <td>1.673320</td>\n",
       "    </tr>\n",
       "    <tr>\n",
       "      <th>99355</th>\n",
       "      <td>25</td>\n",
       "      <td>6</td>\n",
       "      <td>13</td>\n",
       "      <td>2</td>\n",
       "      <td>141</td>\n",
       "      <td>5</td>\n",
       "      <td>0.50</td>\n",
       "      <td>0.703746</td>\n",
       "      <td>0.805498</td>\n",
       "      <td>0.633191</td>\n",
       "      <td>0</td>\n",
       "      <td>0</td>\n",
       "      <td>1</td>\n",
       "      <td>0</td>\n",
       "      <td>1.673320</td>\n",
       "    </tr>\n",
       "    <tr>\n",
       "      <th>890251</th>\n",
       "      <td>5</td>\n",
       "      <td>22</td>\n",
       "      <td>4</td>\n",
       "      <td>2</td>\n",
       "      <td>19</td>\n",
       "      <td>5</td>\n",
       "      <td>0.50</td>\n",
       "      <td>0.703746</td>\n",
       "      <td>0.805498</td>\n",
       "      <td>0.633191</td>\n",
       "      <td>0</td>\n",
       "      <td>0</td>\n",
       "      <td>1</td>\n",
       "      <td>0</td>\n",
       "      <td>1.673320</td>\n",
       "    </tr>\n",
       "    <tr>\n",
       "      <th>745817</th>\n",
       "      <td>0</td>\n",
       "      <td>26</td>\n",
       "      <td>19</td>\n",
       "      <td>1</td>\n",
       "      <td>39</td>\n",
       "      <td>3</td>\n",
       "      <td>0.85</td>\n",
       "      <td>0.062232</td>\n",
       "      <td>0.093682</td>\n",
       "      <td>0.150447</td>\n",
       "      <td>0</td>\n",
       "      <td>0</td>\n",
       "      <td>0</td>\n",
       "      <td>1</td>\n",
       "      <td>1.673320</td>\n",
       "    </tr>\n",
       "    <tr>\n",
       "      <th>421793</th>\n",
       "      <td>15</td>\n",
       "      <td>17</td>\n",
       "      <td>8</td>\n",
       "      <td>3</td>\n",
       "      <td>289</td>\n",
       "      <td>7</td>\n",
       "      <td>0.50</td>\n",
       "      <td>0.234022</td>\n",
       "      <td>0.805498</td>\n",
       "      <td>0.633191</td>\n",
       "      <td>0</td>\n",
       "      <td>0</td>\n",
       "      <td>0</td>\n",
       "      <td>1</td>\n",
       "      <td>1.673320</td>\n",
       "    </tr>\n",
       "    <tr>\n",
       "      <th>...</th>\n",
       "      <td>...</td>\n",
       "      <td>...</td>\n",
       "      <td>...</td>\n",
       "      <td>...</td>\n",
       "      <td>...</td>\n",
       "      <td>...</td>\n",
       "      <td>...</td>\n",
       "      <td>...</td>\n",
       "      <td>...</td>\n",
       "      <td>...</td>\n",
       "      <td>...</td>\n",
       "      <td>...</td>\n",
       "      <td>...</td>\n",
       "      <td>...</td>\n",
       "      <td>...</td>\n",
       "    </tr>\n",
       "    <tr>\n",
       "      <th>310028</th>\n",
       "      <td>70</td>\n",
       "      <td>4</td>\n",
       "      <td>20</td>\n",
       "      <td>3</td>\n",
       "      <td>605</td>\n",
       "      <td>6</td>\n",
       "      <td>0.80</td>\n",
       "      <td>0.234022</td>\n",
       "      <td>0.805498</td>\n",
       "      <td>0.633191</td>\n",
       "      <td>0</td>\n",
       "      <td>0</td>\n",
       "      <td>0</td>\n",
       "      <td>1</td>\n",
       "      <td>1.673320</td>\n",
       "    </tr>\n",
       "    <tr>\n",
       "      <th>663567</th>\n",
       "      <td>25</td>\n",
       "      <td>10</td>\n",
       "      <td>6</td>\n",
       "      <td>3</td>\n",
       "      <td>1407</td>\n",
       "      <td>7</td>\n",
       "      <td>1.10</td>\n",
       "      <td>0.703746</td>\n",
       "      <td>0.805498</td>\n",
       "      <td>0.633191</td>\n",
       "      <td>0</td>\n",
       "      <td>0</td>\n",
       "      <td>1</td>\n",
       "      <td>0</td>\n",
       "      <td>0.979221</td>\n",
       "    </tr>\n",
       "    <tr>\n",
       "      <th>1049160</th>\n",
       "      <td>50</td>\n",
       "      <td>22</td>\n",
       "      <td>3</td>\n",
       "      <td>1</td>\n",
       "      <td>1136</td>\n",
       "      <td>3</td>\n",
       "      <td>0.80</td>\n",
       "      <td>0.703746</td>\n",
       "      <td>0.805498</td>\n",
       "      <td>0.150447</td>\n",
       "      <td>0</td>\n",
       "      <td>0</td>\n",
       "      <td>1</td>\n",
       "      <td>0</td>\n",
       "      <td>1.673320</td>\n",
       "    </tr>\n",
       "    <tr>\n",
       "      <th>442785</th>\n",
       "      <td>5</td>\n",
       "      <td>6</td>\n",
       "      <td>9</td>\n",
       "      <td>2</td>\n",
       "      <td>1041</td>\n",
       "      <td>5</td>\n",
       "      <td>0.70</td>\n",
       "      <td>0.703746</td>\n",
       "      <td>0.805498</td>\n",
       "      <td>0.633191</td>\n",
       "      <td>0</td>\n",
       "      <td>0</td>\n",
       "      <td>1</td>\n",
       "      <td>0</td>\n",
       "      <td>1.673320</td>\n",
       "    </tr>\n",
       "    <tr>\n",
       "      <th>501372</th>\n",
       "      <td>10</td>\n",
       "      <td>26</td>\n",
       "      <td>11</td>\n",
       "      <td>2</td>\n",
       "      <td>36</td>\n",
       "      <td>4</td>\n",
       "      <td>0.85</td>\n",
       "      <td>0.234022</td>\n",
       "      <td>0.093682</td>\n",
       "      <td>0.633191</td>\n",
       "      <td>0</td>\n",
       "      <td>0</td>\n",
       "      <td>1</td>\n",
       "      <td>0</td>\n",
       "      <td>1.673320</td>\n",
       "    </tr>\n",
       "  </tbody>\n",
       "</table>\n",
       "<p>86868 rows × 15 columns</p>\n",
       "</div>"
      ],
      "text/plain": [
       "             age  geo_level_1_id  area_percentage  count_floors_pre_eq  \\\n",
       "building_id                                                              \n",
       "300051        20              17                7                    3   \n",
       "99355         25               6               13                    2   \n",
       "890251         5              22                4                    2   \n",
       "745817         0              26               19                    1   \n",
       "421793        15              17                8                    3   \n",
       "...          ...             ...              ...                  ...   \n",
       "310028        70               4               20                    3   \n",
       "663567        25              10                6                    3   \n",
       "1049160       50              22                3                    1   \n",
       "442785         5               6                9                    2   \n",
       "501372        10              26               11                    2   \n",
       "\n",
       "             geo_level_2_id  height_percentage  resistance  roof_type  \\\n",
       "building_id                                                             \n",
       "300051                  596                  6        0.50   0.703746   \n",
       "99355                   141                  5        0.50   0.703746   \n",
       "890251                   19                  5        0.50   0.703746   \n",
       "745817                   39                  3        0.85   0.062232   \n",
       "421793                  289                  7        0.50   0.234022   \n",
       "...                     ...                ...         ...        ...   \n",
       "310028                  605                  6        0.80   0.234022   \n",
       "663567                 1407                  7        1.10   0.703746   \n",
       "1049160                1136                  3        0.80   0.703746   \n",
       "442785                 1041                  5        0.70   0.703746   \n",
       "501372                   36                  4        0.85   0.234022   \n",
       "\n",
       "             ground_floor_type  other_floor_type  position_j  position_o  \\\n",
       "building_id                                                                \n",
       "300051                0.805498          0.633191           0           0   \n",
       "99355                 0.805498          0.633191           0           0   \n",
       "890251                0.805498          0.633191           0           0   \n",
       "745817                0.093682          0.150447           0           0   \n",
       "421793                0.805498          0.633191           0           0   \n",
       "...                        ...               ...         ...         ...   \n",
       "310028                0.805498          0.633191           0           0   \n",
       "663567                0.805498          0.633191           0           0   \n",
       "1049160               0.805498          0.150447           0           0   \n",
       "442785                0.805498          0.633191           0           0   \n",
       "501372                0.093682          0.633191           0           0   \n",
       "\n",
       "             position_s  position_t  base_condition  \n",
       "building_id                                          \n",
       "300051                1           0        1.673320  \n",
       "99355                 1           0        1.673320  \n",
       "890251                1           0        1.673320  \n",
       "745817                0           1        1.673320  \n",
       "421793                0           1        1.673320  \n",
       "...                 ...         ...             ...  \n",
       "310028                0           1        1.673320  \n",
       "663567                1           0        0.979221  \n",
       "1049160               1           0        1.673320  \n",
       "442785                1           0        1.673320  \n",
       "501372                1           0        1.673320  \n",
       "\n",
       "[86868 rows x 15 columns]"
      ]
     },
     "execution_count": 207,
     "metadata": {},
     "output_type": "execute_result"
    }
   ],
   "source": [
    "test_values_subset = test_values[columnas_seleccionadas]\n",
    "test_values_subset = pd.get_dummies(test_values_subset)\n",
    "test_values_subset"
   ]
  },
  {
   "cell_type": "code",
   "execution_count": 208,
   "id": "128e8df6",
   "metadata": {
    "id": "128e8df6"
   },
   "outputs": [],
   "source": [
    "predictions = rf_model.predict(test_values_subset)"
   ]
  },
  {
   "cell_type": "code",
   "execution_count": 209,
   "id": "46750398",
   "metadata": {},
   "outputs": [],
   "source": [
    "submission_format = pd.read_csv('submission_format.csv',index_col='building_id')"
   ]
  },
  {
   "cell_type": "code",
   "execution_count": 210,
   "id": "fb3610f2",
   "metadata": {
    "id": "fb3610f2"
   },
   "outputs": [],
   "source": [
    "my_submission = pd.DataFrame(data=predictions, columns=submission_format.columns,\n",
    "                            index=submission_format.index)"
   ]
  },
  {
   "cell_type": "code",
   "execution_count": 211,
   "id": "d466bc4d",
   "metadata": {
    "colab": {
     "base_uri": "https://localhost:8080/",
     "height": 235
    },
    "id": "d466bc4d",
    "outputId": "9d081e16-6830-4c7c-b454-59fd08af74b1"
   },
   "outputs": [
    {
     "data": {
      "text/html": [
       "<div>\n",
       "<style scoped>\n",
       "    .dataframe tbody tr th:only-of-type {\n",
       "        vertical-align: middle;\n",
       "    }\n",
       "\n",
       "    .dataframe tbody tr th {\n",
       "        vertical-align: top;\n",
       "    }\n",
       "\n",
       "    .dataframe thead th {\n",
       "        text-align: right;\n",
       "    }\n",
       "</style>\n",
       "<table border=\"1\" class=\"dataframe\">\n",
       "  <thead>\n",
       "    <tr style=\"text-align: right;\">\n",
       "      <th></th>\n",
       "      <th>damage_grade</th>\n",
       "    </tr>\n",
       "    <tr>\n",
       "      <th>building_id</th>\n",
       "      <th></th>\n",
       "    </tr>\n",
       "  </thead>\n",
       "  <tbody>\n",
       "    <tr>\n",
       "      <th>300051</th>\n",
       "      <td>3</td>\n",
       "    </tr>\n",
       "    <tr>\n",
       "      <th>99355</th>\n",
       "      <td>2</td>\n",
       "    </tr>\n",
       "    <tr>\n",
       "      <th>890251</th>\n",
       "      <td>2</td>\n",
       "    </tr>\n",
       "    <tr>\n",
       "      <th>745817</th>\n",
       "      <td>2</td>\n",
       "    </tr>\n",
       "    <tr>\n",
       "      <th>421793</th>\n",
       "      <td>3</td>\n",
       "    </tr>\n",
       "  </tbody>\n",
       "</table>\n",
       "</div>"
      ],
      "text/plain": [
       "             damage_grade\n",
       "building_id              \n",
       "300051                  3\n",
       "99355                   2\n",
       "890251                  2\n",
       "745817                  2\n",
       "421793                  3"
      ]
     },
     "execution_count": 211,
     "metadata": {},
     "output_type": "execute_result"
    }
   ],
   "source": [
    "my_submission.head()"
   ]
  },
  {
   "cell_type": "code",
   "execution_count": 212,
   "id": "0226f186",
   "metadata": {
    "id": "0226f186"
   },
   "outputs": [],
   "source": [
    "my_submission.to_csv('submision.csv')"
   ]
  },
  {
   "cell_type": "code",
   "execution_count": 213,
   "id": "8cfbce5f",
   "metadata": {
    "colab": {
     "base_uri": "https://localhost:8080/"
    },
    "id": "8cfbce5f",
    "outputId": "2e0e950e-01ba-482e-8389-024eba2c5d46"
   },
   "outputs": [
    {
     "name": "stderr",
     "output_type": "stream",
     "text": [
      "\"head\" no se reconoce como un comando interno o externo,\n",
      "programa o archivo por lotes ejecutable.\n"
     ]
    }
   ],
   "source": [
    "!head submision.csv"
   ]
  },
  {
   "cell_type": "code",
   "execution_count": 214,
   "id": "bb45161b",
   "metadata": {
    "id": "bb45161b"
   },
   "outputs": [],
   "source": [
    "# Gini importance\n",
    "rf_model.feature_importances_\n",
    "columnas_seleccionadas = ['age',\n",
    "                         'geo_level_1_id',\n",
    "                         'area_percentage',\n",
    "                         'count_floors_pre_eq',\n",
    "                         'geo_level_2_id',\n",
    "                         'height_percentage',\n",
    "                         'resistance',\n",
    "                         'roof_type',\n",
    "                         'ground_floor_type',\n",
    "                         'other_floor_type',\n",
    "                         'position_j', 'position_o', \n",
    "                         'position_s', 'position_t',\n",
    "                         'base_condition']"
   ]
  },
  {
   "cell_type": "code",
   "execution_count": 215,
   "id": "-81DVf7YxCvy",
   "metadata": {
    "id": "-81DVf7YxCvy"
   },
   "outputs": [
    {
     "data": {
      "image/png": "[encoded data removed]",
      "text/plain": [
       "<Figure size 432x288 with 1 Axes>"
      ]
     },
     "metadata": {
      "needs_background": "light"
     },
     "output_type": "display_data"
    }
   ],
   "source": [
    "plt.bar(test_values_subset.columns, rf_model.feature_importances_)\n",
    "plt.xlabel('Features')\n",
    "plt.ylabel('Importancia')\n",
    "plt.title('Importancia Features con RF')\n",
    "plt.show()"
   ]
  }
 ],
 "metadata": {
  "colab": {
   "name": "Modelo con GS.ipynb",
   "provenance": []
  },
  "kernelspec": {
   "display_name": "Python 3",
   "language": "python",
   "name": "python3"
  },
  "language_info": {
   "codemirror_mode": {
    "name": "ipython",
    "version": 3
   },
   "file_extension": ".py",
   "mimetype": "text/x-python",
   "name": "python",
   "nbconvert_exporter": "python",
   "pygments_lexer": "ipython3",
   "version": "3.8.8"
  }
 },
 "nbformat": 4,
 "nbformat_minor": 5
}
