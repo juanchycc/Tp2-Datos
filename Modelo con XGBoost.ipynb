{
 "cells": [
  {
   "cell_type": "code",
   "execution_count": 326,
   "id": "4163ac28",
   "metadata": {
    "id": "4163ac28"
   },
   "outputs": [],
   "source": [
    "from sklearn.ensemble import RandomForestClassifier\n",
    "from sklearn.metrics import f1_score\n",
    "import pandas as pd\n",
    "import numpy as np\n",
    "%matplotlib inline\n",
    "import matplotlib.pyplot as plt\n",
    "from sklearn import tree\n",
    "from sklearn.model_selection import train_test_split\n",
    "from xgboost import XGBClassifier\n",
    "import seaborn as sns\n",
    "from datetime import datetime\n",
    "from sklearn.model_selection import RandomizedSearchCV, GridSearchCV\n",
    "from sklearn.model_selection import cross_validate,KFold\n",
    "from sklearn.metrics import roc_auc_score\n",
    "from sklearn.model_selection import StratifiedKFold\n",
    "import warnings\n",
    "warnings.filterwarnings('ignore')"
   ]
  },
  {
   "cell_type": "code",
   "execution_count": 327,
   "id": "7be1bf98",
   "metadata": {},
   "outputs": [],
   "source": [
    "def timer(start_time=None):\n",
    "    if not start_time:\n",
    "        start_time = datetime.now()\n",
    "        return start_time\n",
    "    elif start_time:\n",
    "        thour, temp_sec = divmod((datetime.now() - start_time).total_seconds(), 3600)\n",
    "        tmin, tsec = divmod(temp_sec, 60)\n",
    "        print('\\n Time taken: %i hours %i minutes and %s seconds.' % (thour, tmin, round(tsec, 2)))"
   ]
  },
  {
   "cell_type": "code",
   "execution_count": 328,
   "id": "6e1b493c",
   "metadata": {
    "id": "6e1b493c"
   },
   "outputs": [],
   "source": [
    "set_train = pd.read_csv('data_set.csv')\n",
    "test_values = pd.read_csv('data_test.csv', index_col='building_id')"
   ]
  },
  {
   "cell_type": "code",
   "execution_count": 329,
   "id": "9f3d2f5e",
   "metadata": {},
   "outputs": [],
   "source": [
    "columnas_seleccionada = ['age',\n",
    "                         'geo_level_1_id',\n",
    "                         'area_percentage',\n",
    "                         'count_floors_pre_eq',\n",
    "                         'geo_level_2_id',\n",
    "                         'height_percentage',\n",
    "                         'resistance',\n",
    "                         'roof_type',\n",
    "                         'ground_floor_type',\n",
    "                         'other_floor_type',\n",
    "                         'position_j', 'position_o', \n",
    "                         'position_s', 'position_t',\n",
    "                         'base_condition']"
   ]
  },
  {
   "cell_type": "code",
   "execution_count": 330,
   "id": "d1c20b62",
   "metadata": {},
   "outputs": [],
   "source": [
    "columnas_seleccionadas = ['age',\n",
    "                         'geo_level_1_id',\n",
    "                         'area_percentage',\n",
    "                         'count_floors_pre_eq',\n",
    "                         'geo_level_2_id',\n",
    "                         'height_percentage',\n",
    "                         'resistance',\n",
    "                         'roof_type',\n",
    "                         'ground_floor_type',\n",
    "                         'other_floor_type',\n",
    "                         'position_j', 'position_o', \n",
    "                         'position_s', 'position_t',\n",
    "                        #'owner_a', 'owner_r',\n",
    "                         #'owner_v', 'owner_w',\n",
    "                         'base_condition']"
   ]
  },
  {
   "cell_type": "code",
   "execution_count": 331,
   "id": "ec87f5cd",
   "metadata": {},
   "outputs": [],
   "source": [
    "train, test = train_test_split(set_train, test_size = 0.20, shuffle = False)"
   ]
  },
  {
   "cell_type": "code",
   "execution_count": 332,
   "id": "34569369",
   "metadata": {},
   "outputs": [],
   "source": [
    "train_values_subset = train.iloc[:, 0:-1]\n",
    "train_labels = train.loc[:, 'damage_grade']"
   ]
  },
  {
   "cell_type": "code",
   "execution_count": 333,
   "id": "dd02d6e9",
   "metadata": {},
   "outputs": [],
   "source": [
    "test_values_subset = test.iloc[:, 0:-1]\n",
    "test_labels = test.loc[:, 'damage_grade']"
   ]
  },
  {
   "cell_type": "code",
   "execution_count": 334,
   "id": "fad859e2",
   "metadata": {},
   "outputs": [],
   "source": [
    "# A parameter grid for XGBoost\n",
    "#n_jobs=[-1]\n",
    "#n_estimators=np.arange(100,1000,100)\n",
    "#learning_rate=[0.03,0.01,0.1]\n",
    "#max_depth=np.arange(10,100,15)\n",
    "# Param grid for Xgboost\n",
    "#param_grid={'n_jobs':n_jobs,\n",
    " #           'n_estimators':n_estimators,\n",
    "  #          'max_depth':max_depth,\n",
    "   #         'learning_rate':learning_rate\n",
    "    #       }"
   ]
  },
  {
   "cell_type": "code",
   "execution_count": 335,
   "id": "fdb5d7d4",
   "metadata": {},
   "outputs": [],
   "source": [
    "#rf=XGBClassifier()\n",
    "#kf=KFold(n_splits=2,shuffle=True)"
   ]
  },
  {
   "cell_type": "code",
   "execution_count": 336,
   "id": "ac127e32",
   "metadata": {},
   "outputs": [],
   "source": [
    "#rs=RandomizedSearchCV(rf,param_distributions=param_grid,cv=kf,scoring='f1_micro')"
   ]
  },
  {
   "cell_type": "code",
   "execution_count": 337,
   "id": "acb607b6",
   "metadata": {},
   "outputs": [],
   "source": [
    "#random_search = RandomizedSearchCV(rf_model, param_distributions=params, n_iter=500, scoring='accuracy', n_jobs=1, cv=skf.split(train_values_subset,train_labels.values.ravel()), random_state=1)"
   ]
  },
  {
   "cell_type": "code",
   "execution_count": 338,
   "id": "113e37d8",
   "metadata": {},
   "outputs": [],
   "source": [
    "rf_model = XGBClassifier(n_jobs=-1,n_estimators= 400, max_depth= 10,learning_rate= 0.1, eval_metric='mlogloss', colsample_bytree = 0.9)\n",
    "# n_estimators 400 -> 0.7264 SUBMIT - 0.7336697881486031\n",
    "# n_estimators 400, colsample_bytree = 0.9 -> 0.7358381946576604\n",
    "# n_estimators 400, colsample_bytree = 0.8 -> 0.7353968375805956\n",
    "# n_estimators 400, colsample_bytree = 0.7 -> 0.7354544058949954\n"
   ]
  },
  {
   "cell_type": "code",
   "execution_count": 339,
   "id": "e074dc70",
   "metadata": {
    "id": "e074dc70"
   },
   "outputs": [],
   "source": [
    "train_values_subset = pd.get_dummies(train_values_subset)"
   ]
  },
  {
   "cell_type": "code",
   "execution_count": null,
   "id": "f1ebde08",
   "metadata": {},
   "outputs": [],
   "source": [
    "start_time = timer(None)\n",
    "rf_model.fit(train_values_subset, train_labels.values.ravel())\n",
    "timer(start_time) "
   ]
  },
  {
   "cell_type": "code",
   "execution_count": null,
   "id": "66cefe3e",
   "metadata": {
    "id": "66cefe3e"
   },
   "outputs": [],
   "source": [
    "# *----- Submit actual 0.7257\n",
    "preds = rf_model.predict(test_values_subset)\n",
    "f1_score(test_labels, preds, average='micro')"
   ]
  },
  {
   "cell_type": "code",
   "execution_count": null,
   "id": "54d7d97f",
   "metadata": {},
   "outputs": [],
   "source": [
    "#rs.best_params_ 0.7332284310715382\n",
    "#rs.best_params_ "
   ]
  },
  {
   "cell_type": "code",
   "execution_count": null,
   "id": "5e565214",
   "metadata": {
    "id": "5e565214"
   },
   "outputs": [],
   "source": [
    "test_values_subset = test_values[columnas_seleccionadas]\n",
    "test_values_subset = pd.get_dummies(test_values_subset)\n",
    "test_values_subset"
   ]
  },
  {
   "cell_type": "code",
   "execution_count": null,
   "id": "128e8df6",
   "metadata": {
    "id": "128e8df6"
   },
   "outputs": [],
   "source": [
    "predictions = rf_model.predict(test_values_subset)"
   ]
  },
  {
   "cell_type": "code",
   "execution_count": null,
   "id": "46750398",
   "metadata": {},
   "outputs": [],
   "source": [
    "submission_format = pd.read_csv('submission_format.csv',index_col='building_id')"
   ]
  },
  {
   "cell_type": "code",
   "execution_count": null,
   "id": "fb3610f2",
   "metadata": {
    "id": "fb3610f2"
   },
   "outputs": [],
   "source": [
    "my_submission = pd.DataFrame(data=predictions, columns=submission_format.columns,\n",
    "                            index=submission_format.index)"
   ]
  },
  {
   "cell_type": "code",
   "execution_count": null,
   "id": "d466bc4d",
   "metadata": {
    "colab": {
     "base_uri": "https://localhost:8080/",
     "height": 235
    },
    "id": "d466bc4d",
    "outputId": "9d081e16-6830-4c7c-b454-59fd08af74b1"
   },
   "outputs": [],
   "source": [
    "my_submission.head()"
   ]
  },
  {
   "cell_type": "code",
   "execution_count": null,
   "id": "0226f186",
   "metadata": {
    "id": "0226f186"
   },
   "outputs": [],
   "source": [
    "my_submission.to_csv('submision.csv')"
   ]
  },
  {
   "cell_type": "code",
   "execution_count": null,
   "id": "8cfbce5f",
   "metadata": {
    "colab": {
     "base_uri": "https://localhost:8080/"
    },
    "id": "8cfbce5f",
    "outputId": "2e0e950e-01ba-482e-8389-024eba2c5d46"
   },
   "outputs": [],
   "source": [
    "!head submision.csv"
   ]
  },
  {
   "cell_type": "code",
   "execution_count": null,
   "id": "d1174a81",
   "metadata": {},
   "outputs": [],
   "source": [
    "rf_model.feature_importances_"
   ]
  },
  {
   "cell_type": "code",
   "execution_count": null,
   "id": "bb45161b",
   "metadata": {
    "id": "bb45161b"
   },
   "outputs": [],
   "source": [
    "# Gini importance\n",
    "rf_model.feature_importances_\n",
    "columnas_seleccionadas = ['age',\n",
    "                         'geo_level_1_id',\n",
    "                         'area_percentage',\n",
    "                         'count_floors_pre_eq',\n",
    "                         'geo_level_2_id',\n",
    "                         'height_percentage',\n",
    "                         'resistance',\n",
    "                         'roof_type',\n",
    "                         'ground_floor_type',\n",
    "                         'other_floor_type',\n",
    "                    #     'position_j', 'position_o', \n",
    "                     #    'position_s', 'position_t',\n",
    "                         'owner_a', 'owner_r',\n",
    "                         'owner_v', 'owner_w',\n",
    "                         'base_condition']"
   ]
  },
  {
   "cell_type": "code",
   "execution_count": null,
   "id": "-81DVf7YxCvy",
   "metadata": {
    "id": "-81DVf7YxCvy"
   },
   "outputs": [],
   "source": [
    "plt.bar(test_values_subset.columns, rf_model.feature_importances_)\n",
    "plt.xlabel('Features')\n",
    "plt.ylabel('Importancia')\n",
    "plt.title('Importancia Features con RF')\n",
    "plt.show()"
   ]
  },
  {
   "cell_type": "code",
   "execution_count": null,
   "id": "500bb160",
   "metadata": {},
   "outputs": [],
   "source": []
  }
 ],
 "metadata": {
  "colab": {
   "name": "Modelo con GS.ipynb",
   "provenance": []
  },
  "kernelspec": {
   "display_name": "Python 3",
   "language": "python",
   "name": "python3"
  },
  "language_info": {
   "codemirror_mode": {
    "name": "ipython",
    "version": 3
   },
   "file_extension": ".py",
   "mimetype": "text/x-python",
   "name": "python",
   "nbconvert_exporter": "python",
   "pygments_lexer": "ipython3",
   "version": "3.8.8"
  }
 },
 "nbformat": 4,
 "nbformat_minor": 5
}
