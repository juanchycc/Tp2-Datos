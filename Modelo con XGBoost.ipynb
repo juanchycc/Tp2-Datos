{
 "cells": [
  {
   "cell_type": "code",
   "execution_count": 36,
   "id": "4163ac28",
   "metadata": {
    "id": "4163ac28"
   },
   "outputs": [],
   "source": [
    "from sklearn.ensemble import RandomForestClassifier\n",
    "from sklearn.metrics import f1_score\n",
    "import pandas as pd\n",
    "import numpy as np\n",
    "%matplotlib inline\n",
    "import matplotlib.pyplot as plt\n",
    "from sklearn import tree\n",
    "from sklearn.model_selection import train_test_split\n",
    "from xgboost import XGBClassifier\n",
    "import seaborn as sns\n",
    "from datetime import datetime\n",
    "from sklearn.model_selection import RandomizedSearchCV, GridSearchCV\n",
    "from sklearn.model_selection import cross_validate,KFold\n",
    "from sklearn.metrics import roc_auc_score\n",
    "from sklearn.model_selection import StratifiedKFold\n",
    "import warnings\n",
    "warnings.filterwarnings('ignore')"
   ]
  },
  {
   "cell_type": "code",
   "execution_count": 37,
   "id": "7be1bf98",
   "metadata": {},
   "outputs": [],
   "source": [
    "def timer(start_time=None):\n",
    "    if not start_time:\n",
    "        start_time = datetime.now()\n",
    "        return start_time\n",
    "    elif start_time:\n",
    "        thour, temp_sec = divmod((datetime.now() - start_time).total_seconds(), 3600)\n",
    "        tmin, tsec = divmod(temp_sec, 60)\n",
    "        print('\\n Time taken: %i hours %i minutes and %s seconds.' % (thour, tmin, round(tsec, 2)))"
   ]
  },
  {
   "cell_type": "code",
   "execution_count": 38,
   "id": "6e1b493c",
   "metadata": {
    "id": "6e1b493c"
   },
   "outputs": [],
   "source": [
    "train_values = pd.read_csv('train_values.csv')\n",
    "train_labels = pd.read_csv('train_labels.csv')\n",
    "test_values = pd.read_csv('test_values.csv',index_col='building_id')\n",
    "data_set = pd.read_csv('data_set.csv')"
   ]
  },
  {
   "cell_type": "code",
   "execution_count": 39,
   "id": "ec87f5cd",
   "metadata": {},
   "outputs": [],
   "source": [
    "train, test = train_test_split(data_set, test_size = 0.20, shuffle = False)"
   ]
  },
  {
   "cell_type": "code",
   "execution_count": 40,
   "id": "34569369",
   "metadata": {},
   "outputs": [],
   "source": [
    "train_values_subset = train.iloc[:,0:-1]\n",
    "train_labels = train.loc[:, 'damage_grade']"
   ]
  },
  {
   "cell_type": "code",
   "execution_count": 41,
   "id": "dd02d6e9",
   "metadata": {},
   "outputs": [],
   "source": [
    "test_values_subset = test.iloc[:,0:-1]\n",
    "test_labels = test.loc[:, 'damage_grade']"
   ]
  },
  {
   "cell_type": "code",
   "execution_count": 42,
   "id": "fad859e2",
   "metadata": {},
   "outputs": [],
   "source": [
    "# A parameter grid for XGBoost\n",
    "n_jobs=[-1]\n",
    "n_estimators=np.arange(100,1000,100)\n",
    "learning_rate=[0.03,0.01,0.1]\n",
    "max_depth=np.arange(10,100,15)\n",
    "# Param grid for Xgboost\n",
    "param_grid={'n_jobs':n_jobs,\n",
    "            'n_estimators':n_estimators,\n",
    "            'max_depth':max_depth,\n",
    "            'learning_rate':learning_rate\n",
    "           }"
   ]
  },
  {
   "cell_type": "code",
   "execution_count": 43,
   "id": "fdb5d7d4",
   "metadata": {},
   "outputs": [],
   "source": [
    "rf=XGBClassifier()\n",
    "kf=KFold(n_splits=2,shuffle=True)"
   ]
  },
  {
   "cell_type": "code",
   "execution_count": 44,
   "id": "ac127e32",
   "metadata": {},
   "outputs": [],
   "source": [
    "#rs=RandomizedSearchCV(rf,param_distributions=param_grid,cv=kf,scoring='f1_micro')"
   ]
  },
  {
   "cell_type": "code",
   "execution_count": 45,
   "id": "acb607b6",
   "metadata": {},
   "outputs": [],
   "source": [
    "#random_search = RandomizedSearchCV(rf_model, param_distributions=params, n_iter=500, scoring='accuracy', n_jobs=1, cv=skf.split(train_values_subset,train_labels.values.ravel()), random_state=1)"
   ]
  },
  {
   "cell_type": "code",
   "execution_count": 46,
   "id": "e074dc70",
   "metadata": {
    "id": "e074dc70"
   },
   "outputs": [],
   "source": [
    "train_values_subset = pd.get_dummies(train_values_subset)"
   ]
  },
  {
   "cell_type": "code",
   "execution_count": 47,
   "id": "940ef9b3",
   "metadata": {},
   "outputs": [],
   "source": [
    "# *----- Submit 0.7233\n",
    "rf_model = XGBClassifier(n_jobs=-1,n_estimators= 600, max_depth= 10,learning_rate= 0.1)"
   ]
  },
  {
   "cell_type": "code",
   "execution_count": null,
   "id": "f1ebde08",
   "metadata": {},
   "outputs": [
    {
     "name": "stdout",
     "output_type": "stream",
     "text": [
      "[14:19:01] WARNING: ../src/learner.cc:1095: Starting in XGBoost 1.3.0, the default evaluation metric used with the objective 'multi:softprob' was changed from 'merror' to 'mlogloss'. Explicitly set eval_metric if you'd like to restore the old behavior.\n"
     ]
    }
   ],
   "source": [
    "start_time = timer(None) # timing starts from this point for \"start_time\" variable\n",
    "rf_model.fit(train_values_subset, train_labels.values.ravel())\n",
    "timer(start_time) # timing ends here for \"start_time\" variable"
   ]
  },
  {
   "cell_type": "code",
   "execution_count": null,
   "id": "66cefe3e",
   "metadata": {
    "id": "66cefe3e"
   },
   "outputs": [],
   "source": [
    "preds = rf_model.predict(test_values_subset)\n",
    "f1_score(test_labels, preds, average='micro')"
   ]
  },
  {
   "cell_type": "code",
   "execution_count": null,
   "id": "54d7d97f",
   "metadata": {},
   "outputs": [],
   "source": [
    "#rs.best_params_"
   ]
  },
  {
   "cell_type": "code",
   "execution_count": null,
   "id": "8b2ae455",
   "metadata": {},
   "outputs": [],
   "source": [
    "for i in range(11):\n",
    "    test_values.loc[:, [vector_names[i]]] = test_values.loc[:, [vector_names[i]]]*values[i]\n",
    "test_values['sum_columns'] = 0\n",
    "for x in range(11):\n",
    "    test_values['sum_columns'] += test_values[vector_names[x]]"
   ]
  },
  {
   "cell_type": "code",
   "execution_count": null,
   "id": "20671c30",
   "metadata": {},
   "outputs": [],
   "source": [
    "foundation = pd.DataFrame()\n",
    "\n",
    "\n",
    "land_surface = pd.DataFrame()\n",
    "land_surface[['n', 'o', 't']]= pd.get_dummies(test_values['land_surface_condition'])\n",
    "foundation[['h', 'i', 'r', 'u', 'w']]= pd.get_dummies(test_values['foundation_type'])\n",
    "foundation['h'] = foundation['h'] * foundation['h'].mean()\n",
    "foundation['i'] = foundation['i'] * foundation['i'].mean()\n",
    "foundation['r'] = foundation['r'] * foundation['r'].mean()\n",
    "foundation['u'] = foundation['u'] * foundation['u'].mean()\n",
    "foundation['w'] = foundation['w'] * foundation['w'].mean()\n",
    "\n",
    "land_surface['n']  = land_surface['n'] * land_surface['n'].mean()\n",
    "land_surface['o']  = land_surface['o'] * land_surface['o'].mean()\n",
    "land_surface['t']  = land_surface['t'] * land_surface['t'].mean()\n",
    "\n",
    "test_values['base_condition'] = land_surface['n'] + land_surface['o'] + land_surface['t'] + foundation['h'] + foundation['i'] + foundation['r'] + foundation['u'] + foundation['w']"
   ]
  },
  {
   "cell_type": "code",
   "execution_count": null,
   "id": "5e565214",
   "metadata": {
    "id": "5e565214"
   },
   "outputs": [],
   "source": [
    "test_values_subset = test_values[columnas_seleccionadas]\n",
    "test_values_subset = pd.get_dummies(test_values_subset)"
   ]
  },
  {
   "cell_type": "code",
   "execution_count": null,
   "id": "128e8df6",
   "metadata": {
    "id": "128e8df6"
   },
   "outputs": [],
   "source": [
    "predictions = rf_model.predict(test_values_subset)"
   ]
  },
  {
   "cell_type": "code",
   "execution_count": null,
   "id": "46750398",
   "metadata": {},
   "outputs": [],
   "source": [
    "submission_format = pd.read_csv('submission_format.csv',index_col='building_id')"
   ]
  },
  {
   "cell_type": "code",
   "execution_count": null,
   "id": "fb3610f2",
   "metadata": {
    "id": "fb3610f2"
   },
   "outputs": [],
   "source": [
    "my_submission = pd.DataFrame(data=predictions, columns=submission_format.columns,\n",
    "                            index=submission_format.index)"
   ]
  },
  {
   "cell_type": "code",
   "execution_count": null,
   "id": "d466bc4d",
   "metadata": {
    "colab": {
     "base_uri": "https://localhost:8080/",
     "height": 235
    },
    "id": "d466bc4d",
    "outputId": "9d081e16-6830-4c7c-b454-59fd08af74b1"
   },
   "outputs": [],
   "source": [
    "my_submission.head()"
   ]
  },
  {
   "cell_type": "code",
   "execution_count": null,
   "id": "0226f186",
   "metadata": {
    "id": "0226f186"
   },
   "outputs": [],
   "source": [
    "my_submission.to_csv('submision.csv')"
   ]
  },
  {
   "cell_type": "code",
   "execution_count": null,
   "id": "8cfbce5f",
   "metadata": {
    "colab": {
     "base_uri": "https://localhost:8080/"
    },
    "id": "8cfbce5f",
    "outputId": "2e0e950e-01ba-482e-8389-024eba2c5d46"
   },
   "outputs": [],
   "source": [
    "!head submision.csv"
   ]
  },
  {
   "cell_type": "code",
   "execution_count": null,
   "id": "bb45161b",
   "metadata": {
    "id": "bb45161b"
   },
   "outputs": [],
   "source": [
    "# Gini importance\n",
    "rf_model.feature_importances_"
   ]
  },
  {
   "cell_type": "code",
   "execution_count": null,
   "id": "-81DVf7YxCvy",
   "metadata": {
    "id": "-81DVf7YxCvy"
   },
   "outputs": [],
   "source": [
    "plt.bar(test_values_subset.columns, rf_model.feature_importances_)\n",
    "plt.xlabel('Features')\n",
    "plt.ylabel('Importancia')\n",
    "plt.title('Importancia Features con RF')\n",
    "plt.show()"
   ]
  }
 ],
 "metadata": {
  "colab": {
   "name": "Modelo con GS.ipynb",
   "provenance": []
  },
  "kernelspec": {
   "display_name": "Python 3",
   "language": "python",
   "name": "python3"
  },
  "language_info": {
   "codemirror_mode": {
    "name": "ipython",
    "version": 3
   },
   "file_extension": ".py",
   "mimetype": "text/x-python",
   "name": "python",
   "nbconvert_exporter": "python",
   "pygments_lexer": "ipython3",
   "version": "3.8.5"
  }
 },
 "nbformat": 4,
 "nbformat_minor": 5
}
