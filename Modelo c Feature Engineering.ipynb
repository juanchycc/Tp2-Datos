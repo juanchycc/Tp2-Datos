{
 "cells": [
  {
   "cell_type": "code",
   "execution_count": 716,
   "id": "4163ac28",
   "metadata": {
    "id": "4163ac28"
   },
   "outputs": [],
   "source": [
    "from sklearn.ensemble import RandomForestClassifier\n",
    "from sklearn.metrics import f1_score\n",
    "import pandas as pd\n",
    "import numpy as np\n",
    "%matplotlib inline\n",
    "import matplotlib.pyplot as plt\n",
    "from sklearn import tree\n",
    "from sklearn.model_selection import GridSearchCV\n",
    "from sklearn.pipeline import make_pipeline\n",
    "from sklearn.preprocessing import StandardScaler\n",
    "import seaborn as sns"
   ]
  },
  {
   "cell_type": "code",
   "execution_count": 717,
   "id": "6e1b493c",
   "metadata": {
    "id": "6e1b493c"
   },
   "outputs": [],
   "source": [
    "train_values = pd.read_csv('train_values.csv')\n",
    "train_labels = pd.read_csv('train_labels.csv')"
   ]
  },
  {
   "cell_type": "code",
   "execution_count": 718,
   "id": "0ed18b22",
   "metadata": {
    "colab": {
     "base_uri": "https://localhost:8080/",
     "height": 224
    },
    "id": "0ed18b22",
    "outputId": "f3195efc-c784-4bb0-eec6-9ca8eafa91c7"
   },
   "outputs": [
    {
     "data": {
      "text/html": [
       "<div>\n",
       "<style scoped>\n",
       "    .dataframe tbody tr th:only-of-type {\n",
       "        vertical-align: middle;\n",
       "    }\n",
       "\n",
       "    .dataframe tbody tr th {\n",
       "        vertical-align: top;\n",
       "    }\n",
       "\n",
       "    .dataframe thead th {\n",
       "        text-align: right;\n",
       "    }\n",
       "</style>\n",
       "<table border=\"1\" class=\"dataframe\">\n",
       "  <thead>\n",
       "    <tr style=\"text-align: right;\">\n",
       "      <th></th>\n",
       "      <th>geo_level_1_id</th>\n",
       "      <th>geo_level_2_id</th>\n",
       "      <th>geo_level_3_id</th>\n",
       "      <th>count_floors_pre_eq</th>\n",
       "      <th>age</th>\n",
       "      <th>area_percentage</th>\n",
       "      <th>height_percentage</th>\n",
       "      <th>land_surface_condition</th>\n",
       "      <th>foundation_type</th>\n",
       "      <th>roof_type</th>\n",
       "      <th>...</th>\n",
       "      <th>has_secondary_use_hotel</th>\n",
       "      <th>has_secondary_use_rental</th>\n",
       "      <th>has_secondary_use_institution</th>\n",
       "      <th>has_secondary_use_school</th>\n",
       "      <th>has_secondary_use_industry</th>\n",
       "      <th>has_secondary_use_health_post</th>\n",
       "      <th>has_secondary_use_gov_office</th>\n",
       "      <th>has_secondary_use_use_police</th>\n",
       "      <th>has_secondary_use_other</th>\n",
       "      <th>damage_grade</th>\n",
       "    </tr>\n",
       "  </thead>\n",
       "  <tbody>\n",
       "    <tr>\n",
       "      <th>0</th>\n",
       "      <td>6</td>\n",
       "      <td>487</td>\n",
       "      <td>12198</td>\n",
       "      <td>2</td>\n",
       "      <td>30</td>\n",
       "      <td>6</td>\n",
       "      <td>5</td>\n",
       "      <td>t</td>\n",
       "      <td>r</td>\n",
       "      <td>n</td>\n",
       "      <td>...</td>\n",
       "      <td>0</td>\n",
       "      <td>0</td>\n",
       "      <td>0</td>\n",
       "      <td>0</td>\n",
       "      <td>0</td>\n",
       "      <td>0</td>\n",
       "      <td>0</td>\n",
       "      <td>0</td>\n",
       "      <td>0</td>\n",
       "      <td>3</td>\n",
       "    </tr>\n",
       "    <tr>\n",
       "      <th>1</th>\n",
       "      <td>8</td>\n",
       "      <td>900</td>\n",
       "      <td>2812</td>\n",
       "      <td>2</td>\n",
       "      <td>10</td>\n",
       "      <td>8</td>\n",
       "      <td>7</td>\n",
       "      <td>o</td>\n",
       "      <td>r</td>\n",
       "      <td>n</td>\n",
       "      <td>...</td>\n",
       "      <td>0</td>\n",
       "      <td>0</td>\n",
       "      <td>0</td>\n",
       "      <td>0</td>\n",
       "      <td>0</td>\n",
       "      <td>0</td>\n",
       "      <td>0</td>\n",
       "      <td>0</td>\n",
       "      <td>0</td>\n",
       "      <td>2</td>\n",
       "    </tr>\n",
       "    <tr>\n",
       "      <th>2</th>\n",
       "      <td>21</td>\n",
       "      <td>363</td>\n",
       "      <td>8973</td>\n",
       "      <td>2</td>\n",
       "      <td>10</td>\n",
       "      <td>5</td>\n",
       "      <td>5</td>\n",
       "      <td>t</td>\n",
       "      <td>r</td>\n",
       "      <td>n</td>\n",
       "      <td>...</td>\n",
       "      <td>0</td>\n",
       "      <td>0</td>\n",
       "      <td>0</td>\n",
       "      <td>0</td>\n",
       "      <td>0</td>\n",
       "      <td>0</td>\n",
       "      <td>0</td>\n",
       "      <td>0</td>\n",
       "      <td>0</td>\n",
       "      <td>3</td>\n",
       "    </tr>\n",
       "    <tr>\n",
       "      <th>3</th>\n",
       "      <td>22</td>\n",
       "      <td>418</td>\n",
       "      <td>10694</td>\n",
       "      <td>2</td>\n",
       "      <td>10</td>\n",
       "      <td>6</td>\n",
       "      <td>5</td>\n",
       "      <td>t</td>\n",
       "      <td>r</td>\n",
       "      <td>n</td>\n",
       "      <td>...</td>\n",
       "      <td>0</td>\n",
       "      <td>0</td>\n",
       "      <td>0</td>\n",
       "      <td>0</td>\n",
       "      <td>0</td>\n",
       "      <td>0</td>\n",
       "      <td>0</td>\n",
       "      <td>0</td>\n",
       "      <td>0</td>\n",
       "      <td>2</td>\n",
       "    </tr>\n",
       "    <tr>\n",
       "      <th>4</th>\n",
       "      <td>11</td>\n",
       "      <td>131</td>\n",
       "      <td>1488</td>\n",
       "      <td>3</td>\n",
       "      <td>30</td>\n",
       "      <td>8</td>\n",
       "      <td>9</td>\n",
       "      <td>t</td>\n",
       "      <td>r</td>\n",
       "      <td>n</td>\n",
       "      <td>...</td>\n",
       "      <td>0</td>\n",
       "      <td>0</td>\n",
       "      <td>0</td>\n",
       "      <td>0</td>\n",
       "      <td>0</td>\n",
       "      <td>0</td>\n",
       "      <td>0</td>\n",
       "      <td>0</td>\n",
       "      <td>0</td>\n",
       "      <td>3</td>\n",
       "    </tr>\n",
       "  </tbody>\n",
       "</table>\n",
       "<p>5 rows × 39 columns</p>\n",
       "</div>"
      ],
      "text/plain": [
       "   geo_level_1_id  geo_level_2_id  geo_level_3_id  count_floors_pre_eq  age  \\\n",
       "0               6             487           12198                    2   30   \n",
       "1               8             900            2812                    2   10   \n",
       "2              21             363            8973                    2   10   \n",
       "3              22             418           10694                    2   10   \n",
       "4              11             131            1488                    3   30   \n",
       "\n",
       "   area_percentage  height_percentage land_surface_condition foundation_type  \\\n",
       "0                6                  5                      t               r   \n",
       "1                8                  7                      o               r   \n",
       "2                5                  5                      t               r   \n",
       "3                6                  5                      t               r   \n",
       "4                8                  9                      t               r   \n",
       "\n",
       "  roof_type  ... has_secondary_use_hotel has_secondary_use_rental  \\\n",
       "0         n  ...                       0                        0   \n",
       "1         n  ...                       0                        0   \n",
       "2         n  ...                       0                        0   \n",
       "3         n  ...                       0                        0   \n",
       "4         n  ...                       0                        0   \n",
       "\n",
       "  has_secondary_use_institution has_secondary_use_school  \\\n",
       "0                             0                        0   \n",
       "1                             0                        0   \n",
       "2                             0                        0   \n",
       "3                             0                        0   \n",
       "4                             0                        0   \n",
       "\n",
       "   has_secondary_use_industry  has_secondary_use_health_post  \\\n",
       "0                           0                              0   \n",
       "1                           0                              0   \n",
       "2                           0                              0   \n",
       "3                           0                              0   \n",
       "4                           0                              0   \n",
       "\n",
       "   has_secondary_use_gov_office  has_secondary_use_use_police  \\\n",
       "0                             0                             0   \n",
       "1                             0                             0   \n",
       "2                             0                             0   \n",
       "3                             0                             0   \n",
       "4                             0                             0   \n",
       "\n",
       "   has_secondary_use_other  damage_grade  \n",
       "0                        0             3  \n",
       "1                        0             2  \n",
       "2                        0             3  \n",
       "3                        0             2  \n",
       "4                        0             3  \n",
       "\n",
       "[5 rows x 39 columns]"
      ]
     },
     "execution_count": 718,
     "metadata": {},
     "output_type": "execute_result"
    }
   ],
   "source": [
    "set_train = train_values.merge(train_labels)\n",
    "set_train.drop( columns=[\"building_id\"], inplace=True)\n",
    "set_train = set_train[set_train['count_floors_pre_eq'] <= 6]\n",
    "set_train.head()"
   ]
  },
  {
   "cell_type": "code",
   "execution_count": 719,
   "id": "367b1450",
   "metadata": {},
   "outputs": [],
   "source": [
    "drop_columns = set_train.columns.values[26:38]\n",
    "set_train.drop(columns= drop_columns, inplace = True)"
   ]
  },
  {
   "cell_type": "code",
   "execution_count": 720,
   "id": "8777758d",
   "metadata": {},
   "outputs": [],
   "source": [
    "land_surface_condition = pd.DataFrame()"
   ]
  },
  {
   "cell_type": "code",
   "execution_count": 721,
   "id": "ffd0da91",
   "metadata": {},
   "outputs": [],
   "source": [
    "foundation_type = pd.DataFrame()"
   ]
  },
  {
   "cell_type": "code",
   "execution_count": 722,
   "id": "f50a9698",
   "metadata": {},
   "outputs": [],
   "source": [
    "land_surface_condition[['n', 'o', 't']]= pd.get_dummies(set_train['land_surface_condition'])\n",
    "foundation_type[['h', 'i', 'r', 'u', 'w']]= pd.get_dummies(set_train['foundation_type'])"
   ]
  },
  {
   "cell_type": "code",
   "execution_count": 723,
   "id": "5e7308d2",
   "metadata": {},
   "outputs": [],
   "source": [
    "land_surface_condition['n']  = land_surface_condition['n'] * land_surface_condition['n'].mean()\n",
    "land_surface_condition['o']  = land_surface_condition['o'] * land_surface_condition['o'].mean()\n",
    "land_surface_condition['t']  = land_surface_condition['t'] * land_surface_condition['t'].mean()"
   ]
  },
  {
   "cell_type": "code",
   "execution_count": 724,
   "id": "ae8fd50a",
   "metadata": {},
   "outputs": [],
   "source": [
    "foundation_type['h'] = foundation_type['h'] * foundation_type['h'].mean()\n",
    "foundation_type['i'] = foundation_type['i'] * foundation_type['i'].mean()\n",
    "foundation_type['r'] = foundation_type['r'] * foundation_type['r'].mean()\n",
    "foundation_type['u'] = foundation_type['u'] * foundation_type['u'].mean()\n",
    "foundation_type['w'] = foundation_type['w'] * foundation_type['w'].mean()"
   ]
  },
  {
   "cell_type": "code",
   "execution_count": 725,
   "id": "b8f1d436",
   "metadata": {},
   "outputs": [],
   "source": [
    "set_train['land_surface_condition'] = land_surface_condition['n'] + land_surface_condition['o'] + land_surface_condition['t']\n",
    "set_train['foundation_type'] = foundation_type['h'] + foundation_type['i'] + foundation_type['r'] + foundation_type['u'] + foundation_type['w']\n",
    "\n",
    "set_train['base_condition'] = set_train['land_surface_condition'] + set_train['foundation_type']"
   ]
  },
  {
   "cell_type": "code",
   "execution_count": 726,
   "id": "f8e97098",
   "metadata": {},
   "outputs": [],
   "source": [
    "#set_train['base_condition'] = land_surface_condition['n'] + land_surface_condition['o'] + land_surface_condition['t']\n",
    "#set_train['base_condition'] += (foundation_type['h'] + foundation_type['i'] + foundation_type['r'] + foundation_type['u'] + foundation_type['w'])"
   ]
  },
  {
   "cell_type": "code",
   "execution_count": 727,
   "id": "430ccdc6",
   "metadata": {},
   "outputs": [
    {
     "data": {
      "text/plain": [
       "<AxesSubplot:>"
      ]
     },
     "execution_count": 727,
     "metadata": {},
     "output_type": "execute_result"
    },
    {
     "data": {
      "image/png": "[encoded data removed]",
      "text/plain": [
       "<Figure size 432x288 with 1 Axes>"
      ]
     },
     "metadata": {
      "needs_background": "light"
     },
     "output_type": "display_data"
    }
   ],
   "source": [
    "set_train.iloc[:, 14:25].sum().plot.bar()"
   ]
  },
  {
   "cell_type": "code",
   "execution_count": 728,
   "id": "e71e6f2e",
   "metadata": {},
   "outputs": [],
   "source": [
    "values = [1, 0.9, 0.8, 0.7, 0.6, 0.5, 0.4, 0.3, 0.2, 0.1, 0.05]\n",
    "vector_names = ['has_superstructure_rc_engineered', 'has_superstructure_rc_non_engineered', 'has_superstructure_cement_mortar_brick',\n",
    "               'has_superstructure_cement_mortar_stone', 'has_superstructure_mud_mortar_brick', 'has_superstructure_mud_mortar_stone',\n",
    "               'has_superstructure_stone_flag', 'has_superstructure_timber', 'has_superstructure_adobe_mud', \n",
    "               'has_superstructure_bamboo', 'has_superstructure_other']"
   ]
  },
  {
   "cell_type": "code",
   "execution_count": 729,
   "id": "2b5d377a",
   "metadata": {},
   "outputs": [
    {
     "data": {
      "text/html": [
       "<div>\n",
       "<style scoped>\n",
       "    .dataframe tbody tr th:only-of-type {\n",
       "        vertical-align: middle;\n",
       "    }\n",
       "\n",
       "    .dataframe tbody tr th {\n",
       "        vertical-align: top;\n",
       "    }\n",
       "\n",
       "    .dataframe thead th {\n",
       "        text-align: right;\n",
       "    }\n",
       "</style>\n",
       "<table border=\"1\" class=\"dataframe\">\n",
       "  <thead>\n",
       "    <tr style=\"text-align: right;\">\n",
       "      <th></th>\n",
       "      <th>has_superstructure_adobe_mud</th>\n",
       "      <th>has_superstructure_mud_mortar_stone</th>\n",
       "      <th>has_superstructure_stone_flag</th>\n",
       "      <th>has_superstructure_cement_mortar_stone</th>\n",
       "      <th>has_superstructure_mud_mortar_brick</th>\n",
       "      <th>has_superstructure_cement_mortar_brick</th>\n",
       "      <th>has_superstructure_timber</th>\n",
       "      <th>has_superstructure_bamboo</th>\n",
       "      <th>has_superstructure_rc_non_engineered</th>\n",
       "      <th>has_superstructure_rc_engineered</th>\n",
       "      <th>has_superstructure_other</th>\n",
       "      <th>legal_ownership_status</th>\n",
       "    </tr>\n",
       "  </thead>\n",
       "  <tbody>\n",
       "    <tr>\n",
       "      <th>0</th>\n",
       "      <td>0.2</td>\n",
       "      <td>0.5</td>\n",
       "      <td>0.0</td>\n",
       "      <td>0.0</td>\n",
       "      <td>0.0</td>\n",
       "      <td>0.0</td>\n",
       "      <td>0.0</td>\n",
       "      <td>0.0</td>\n",
       "      <td>0.0</td>\n",
       "      <td>0</td>\n",
       "      <td>0.0</td>\n",
       "      <td>v</td>\n",
       "    </tr>\n",
       "    <tr>\n",
       "      <th>1</th>\n",
       "      <td>0.0</td>\n",
       "      <td>0.5</td>\n",
       "      <td>0.0</td>\n",
       "      <td>0.0</td>\n",
       "      <td>0.0</td>\n",
       "      <td>0.0</td>\n",
       "      <td>0.0</td>\n",
       "      <td>0.0</td>\n",
       "      <td>0.0</td>\n",
       "      <td>0</td>\n",
       "      <td>0.0</td>\n",
       "      <td>v</td>\n",
       "    </tr>\n",
       "    <tr>\n",
       "      <th>2</th>\n",
       "      <td>0.0</td>\n",
       "      <td>0.5</td>\n",
       "      <td>0.0</td>\n",
       "      <td>0.0</td>\n",
       "      <td>0.0</td>\n",
       "      <td>0.0</td>\n",
       "      <td>0.0</td>\n",
       "      <td>0.0</td>\n",
       "      <td>0.0</td>\n",
       "      <td>0</td>\n",
       "      <td>0.0</td>\n",
       "      <td>v</td>\n",
       "    </tr>\n",
       "    <tr>\n",
       "      <th>3</th>\n",
       "      <td>0.0</td>\n",
       "      <td>0.5</td>\n",
       "      <td>0.0</td>\n",
       "      <td>0.0</td>\n",
       "      <td>0.0</td>\n",
       "      <td>0.0</td>\n",
       "      <td>0.3</td>\n",
       "      <td>0.1</td>\n",
       "      <td>0.0</td>\n",
       "      <td>0</td>\n",
       "      <td>0.0</td>\n",
       "      <td>v</td>\n",
       "    </tr>\n",
       "    <tr>\n",
       "      <th>4</th>\n",
       "      <td>0.2</td>\n",
       "      <td>0.0</td>\n",
       "      <td>0.0</td>\n",
       "      <td>0.0</td>\n",
       "      <td>0.0</td>\n",
       "      <td>0.0</td>\n",
       "      <td>0.0</td>\n",
       "      <td>0.0</td>\n",
       "      <td>0.0</td>\n",
       "      <td>0</td>\n",
       "      <td>0.0</td>\n",
       "      <td>v</td>\n",
       "    </tr>\n",
       "  </tbody>\n",
       "</table>\n",
       "</div>"
      ],
      "text/plain": [
       "   has_superstructure_adobe_mud  has_superstructure_mud_mortar_stone  \\\n",
       "0                           0.2                                  0.5   \n",
       "1                           0.0                                  0.5   \n",
       "2                           0.0                                  0.5   \n",
       "3                           0.0                                  0.5   \n",
       "4                           0.2                                  0.0   \n",
       "\n",
       "   has_superstructure_stone_flag  has_superstructure_cement_mortar_stone  \\\n",
       "0                            0.0                                     0.0   \n",
       "1                            0.0                                     0.0   \n",
       "2                            0.0                                     0.0   \n",
       "3                            0.0                                     0.0   \n",
       "4                            0.0                                     0.0   \n",
       "\n",
       "   has_superstructure_mud_mortar_brick  \\\n",
       "0                                  0.0   \n",
       "1                                  0.0   \n",
       "2                                  0.0   \n",
       "3                                  0.0   \n",
       "4                                  0.0   \n",
       "\n",
       "   has_superstructure_cement_mortar_brick  has_superstructure_timber  \\\n",
       "0                                     0.0                        0.0   \n",
       "1                                     0.0                        0.0   \n",
       "2                                     0.0                        0.0   \n",
       "3                                     0.0                        0.3   \n",
       "4                                     0.0                        0.0   \n",
       "\n",
       "   has_superstructure_bamboo  has_superstructure_rc_non_engineered  \\\n",
       "0                        0.0                                   0.0   \n",
       "1                        0.0                                   0.0   \n",
       "2                        0.0                                   0.0   \n",
       "3                        0.1                                   0.0   \n",
       "4                        0.0                                   0.0   \n",
       "\n",
       "   has_superstructure_rc_engineered  has_superstructure_other  \\\n",
       "0                                 0                       0.0   \n",
       "1                                 0                       0.0   \n",
       "2                                 0                       0.0   \n",
       "3                                 0                       0.0   \n",
       "4                                 0                       0.0   \n",
       "\n",
       "  legal_ownership_status  \n",
       "0                      v  \n",
       "1                      v  \n",
       "2                      v  \n",
       "3                      v  \n",
       "4                      v  "
      ]
     },
     "execution_count": 729,
     "metadata": {},
     "output_type": "execute_result"
    }
   ],
   "source": [
    "for i in range(11):\n",
    "    set_train.loc[:, [vector_names[i]]] = set_train.loc[:, [vector_names[i]]]*values[i]\n",
    "set_train.iloc[:, 14:26].head()"
   ]
  },
  {
   "cell_type": "code",
   "execution_count": 730,
   "id": "9ac8d79f",
   "metadata": {},
   "outputs": [
    {
     "data": {
      "text/plain": [
       "0    0.7\n",
       "1    0.5\n",
       "2    0.5\n",
       "3    0.9\n",
       "4    0.2\n",
       "Name: sum_columns, dtype: float64"
      ]
     },
     "execution_count": 730,
     "metadata": {},
     "output_type": "execute_result"
    }
   ],
   "source": [
    "set_train['sum_columns'] = 0\n",
    "for x in range(11):\n",
    "    set_train['sum_columns'] += set_train[vector_names[x]]\n",
    "\n",
    "set_train['sum_columns'].head()"
   ]
  },
  {
   "cell_type": "code",
   "execution_count": 731,
   "id": "54b15fc8",
   "metadata": {
    "id": "54b15fc8"
   },
   "outputs": [],
   "source": [
    "columnas_seleccionadas = ['age',\n",
    "                         'geo_level_1_id',\n",
    "                         'area_percentage',\n",
    "                         'count_floors_pre_eq',\n",
    "                         'geo_level_2_id',\n",
    "                         'height_percentage',\n",
    "                         'sum_columns',\n",
    "                         'base_condition']\n",
    "train_values_subset = set_train[columnas_seleccionadas]\n",
    "train_labels = set_train.loc[:, 'damage_grade']"
   ]
  },
  {
   "cell_type": "code",
   "execution_count": 732,
   "id": "e074dc70",
   "metadata": {
    "id": "e074dc70"
   },
   "outputs": [],
   "source": [
    "train_values_subset = pd.get_dummies(train_values_subset)"
   ]
  },
  {
   "cell_type": "code",
   "execution_count": 733,
   "id": "WF-MxnF8u3ov",
   "metadata": {
    "id": "WF-MxnF8u3ov"
   },
   "outputs": [],
   "source": [
    "#param_grid = {'randomforestclassifier__n_estimators': [15, 20, 2],\n",
    "       #       'randomforestclassifier__max_depth': [30, 35, 2],\n",
    "        #      'randomforestclassifier__max_features': [1, 6]\n",
    "         #    }"
   ]
  },
  {
   "cell_type": "code",
   "execution_count": 734,
   "id": "R-M2vs9Cu5ju",
   "metadata": {
    "id": "R-M2vs9Cu5ju"
   },
   "outputs": [],
   "source": [
    "#pipe = make_pipeline(StandardScaler(), \n",
    "#                     RandomForestClassifier(random_state=1))"
   ]
  },
  {
   "cell_type": "code",
   "execution_count": 735,
   "id": "iDEE9O6Mu6-r",
   "metadata": {
    "id": "iDEE9O6Mu6-r"
   },
   "outputs": [],
   "source": [
    "#rf_model = GridSearchCV(pipe, param_grid, cv=5)"
   ]
  },
  {
   "cell_type": "code",
   "execution_count": 736,
   "id": "QEMbAC4mu9gI",
   "metadata": {
    "colab": {
     "base_uri": "https://localhost:8080/"
    },
    "id": "QEMbAC4mu9gI",
    "outputId": "64a85784-7998-4f90-a8a7-f7c95a928021"
   },
   "outputs": [],
   "source": [
    "#rf_model.best_params_"
   ]
  },
  {
   "cell_type": "code",
   "execution_count": 737,
   "id": "80cde8a8",
   "metadata": {},
   "outputs": [],
   "source": [
    "rf_model = RandomForestClassifier(random_state=1, n_estimators=20, max_features=4, max_depth=30)"
   ]
  },
  {
   "cell_type": "code",
   "execution_count": 738,
   "id": "1dcee3e4",
   "metadata": {},
   "outputs": [
    {
     "data": {
      "text/plain": [
       "RandomForestClassifier(max_depth=30, max_features=4, n_estimators=20,\n",
       "                       random_state=1)"
      ]
     },
     "execution_count": 738,
     "metadata": {},
     "output_type": "execute_result"
    }
   ],
   "source": [
    "rf_model.fit(train_values_subset, train_labels.values.ravel())"
   ]
  },
  {
   "cell_type": "code",
   "execution_count": 739,
   "id": "0a2452ff",
   "metadata": {
    "colab": {
     "base_uri": "https://localhost:8080/"
    },
    "id": "0a2452ff",
    "outputId": "b557eec9-60ab-4f17-dd66-ec080d5dbd29"
   },
   "outputs": [
    {
     "data": {
      "text/plain": [
       "0.9241786920478968"
      ]
     },
     "execution_count": 739,
     "metadata": {},
     "output_type": "execute_result"
    }
   ],
   "source": [
    "preds = rf_model.predict(train_values_subset)\n",
    "f1_score(train_labels, preds, average='micro')"
   ]
  },
  {
   "cell_type": "code",
   "execution_count": 740,
   "id": "7a5cef74",
   "metadata": {
    "id": "7a5cef74"
   },
   "outputs": [],
   "source": [
    "test_values = pd.read_csv('test_values.csv',index_col='building_id')"
   ]
  },
  {
   "cell_type": "code",
   "execution_count": 741,
   "id": "66a2d971",
   "metadata": {},
   "outputs": [],
   "source": [
    "for i in range(11):\n",
    "    test_values.loc[:, [vector_names[i]]] = test_values.loc[:, [vector_names[i]]]*values[i]\n",
    "test_values['sum_columns'] = 0\n",
    "for x in range(11):\n",
    "    test_values['sum_columns'] += test_values[vector_names[x]]"
   ]
  },
  {
   "cell_type": "code",
   "execution_count": 742,
   "id": "474ed79c",
   "metadata": {},
   "outputs": [],
   "source": [
    "foundation = pd.DataFrame()\n",
    "\n",
    "\n",
    "land_surface = pd.DataFrame()\n",
    "land_surface[['n', 'o', 't']]= pd.get_dummies(test_values['land_surface_condition'])\n",
    "foundation[['h', 'i', 'r', 'u', 'w']]= pd.get_dummies(test_values['foundation_type'])\n",
    "foundation['h'] = foundation['h'] * foundation['h'].mean()\n",
    "foundation['i'] = foundation['i'] * foundation['i'].mean()\n",
    "foundation['r'] = foundation['r'] * foundation['r'].mean()\n",
    "foundation['u'] = foundation['u'] * foundation['u'].mean()\n",
    "foundation['w'] = foundation['w'] * foundation['w'].mean()\n",
    "\n",
    "land_surface['n']  = land_surface['n'] * land_surface['n'].mean()\n",
    "land_surface['o']  = land_surface['o'] * land_surface['o'].mean()\n",
    "land_surface['t']  = land_surface['t'] * land_surface['t'].mean()\n",
    "\n",
    "test_values['base_condition'] = land_surface['n'] + land_surface['o'] + land_surface['t'] + foundation['h'] + foundation['i'] + foundation['r'] + foundation['u'] + foundation['w']"
   ]
  },
  {
   "cell_type": "code",
   "execution_count": 743,
   "id": "5e565214",
   "metadata": {
    "id": "5e565214"
   },
   "outputs": [],
   "source": [
    "test_values_subset = test_values[columnas_seleccionadas]\n",
    "test_values_subset = pd.get_dummies(test_values_subset)"
   ]
  },
  {
   "cell_type": "code",
   "execution_count": 744,
   "id": "66cefe3e",
   "metadata": {
    "id": "66cefe3e"
   },
   "outputs": [],
   "source": [
    "predictions = rf_model.predict(test_values_subset)"
   ]
  },
  {
   "cell_type": "code",
   "execution_count": 745,
   "id": "128e8df6",
   "metadata": {
    "id": "128e8df6"
   },
   "outputs": [],
   "source": [
    "submission_format = pd.read_csv('submission_format.csv',index_col='building_id')"
   ]
  },
  {
   "cell_type": "code",
   "execution_count": 746,
   "id": "fb3610f2",
   "metadata": {
    "id": "fb3610f2"
   },
   "outputs": [],
   "source": [
    "my_submission = pd.DataFrame(data=predictions, columns=submission_format.columns,\n",
    "                            index=submission_format.index)"
   ]
  },
  {
   "cell_type": "code",
   "execution_count": 747,
   "id": "d466bc4d",
   "metadata": {
    "colab": {
     "base_uri": "https://localhost:8080/",
     "height": 235
    },
    "id": "d466bc4d",
    "outputId": "9d081e16-6830-4c7c-b454-59fd08af74b1"
   },
   "outputs": [
    {
     "data": {
      "text/html": [
       "<div>\n",
       "<style scoped>\n",
       "    .dataframe tbody tr th:only-of-type {\n",
       "        vertical-align: middle;\n",
       "    }\n",
       "\n",
       "    .dataframe tbody tr th {\n",
       "        vertical-align: top;\n",
       "    }\n",
       "\n",
       "    .dataframe thead th {\n",
       "        text-align: right;\n",
       "    }\n",
       "</style>\n",
       "<table border=\"1\" class=\"dataframe\">\n",
       "  <thead>\n",
       "    <tr style=\"text-align: right;\">\n",
       "      <th></th>\n",
       "      <th>damage_grade</th>\n",
       "    </tr>\n",
       "    <tr>\n",
       "      <th>building_id</th>\n",
       "      <th></th>\n",
       "    </tr>\n",
       "  </thead>\n",
       "  <tbody>\n",
       "    <tr>\n",
       "      <th>300051</th>\n",
       "      <td>3</td>\n",
       "    </tr>\n",
       "    <tr>\n",
       "      <th>99355</th>\n",
       "      <td>3</td>\n",
       "    </tr>\n",
       "    <tr>\n",
       "      <th>890251</th>\n",
       "      <td>3</td>\n",
       "    </tr>\n",
       "    <tr>\n",
       "      <th>745817</th>\n",
       "      <td>1</td>\n",
       "    </tr>\n",
       "    <tr>\n",
       "      <th>421793</th>\n",
       "      <td>3</td>\n",
       "    </tr>\n",
       "  </tbody>\n",
       "</table>\n",
       "</div>"
      ],
      "text/plain": [
       "             damage_grade\n",
       "building_id              \n",
       "300051                  3\n",
       "99355                   3\n",
       "890251                  3\n",
       "745817                  1\n",
       "421793                  3"
      ]
     },
     "execution_count": 747,
     "metadata": {},
     "output_type": "execute_result"
    }
   ],
   "source": [
    "my_submission.head()"
   ]
  },
  {
   "cell_type": "code",
   "execution_count": 748,
   "id": "0226f186",
   "metadata": {
    "id": "0226f186"
   },
   "outputs": [],
   "source": [
    "my_submission.to_csv('submision.csv')"
   ]
  },
  {
   "cell_type": "code",
   "execution_count": 749,
   "id": "8cfbce5f",
   "metadata": {
    "colab": {
     "base_uri": "https://localhost:8080/"
    },
    "id": "8cfbce5f",
    "outputId": "2e0e950e-01ba-482e-8389-024eba2c5d46"
   },
   "outputs": [
    {
     "name": "stderr",
     "output_type": "stream",
     "text": [
      "\"head\" no se reconoce como un comando interno o externo,\n",
      "programa o archivo por lotes ejecutable.\n"
     ]
    }
   ],
   "source": [
    "!head submision.csv"
   ]
  },
  {
   "cell_type": "code",
   "execution_count": 750,
   "id": "bb45161b",
   "metadata": {
    "id": "bb45161b"
   },
   "outputs": [
    {
     "data": {
      "text/plain": [
       "array([0.17183546, 0.17070871, 0.17911462, 0.02928252, 0.21449954,\n",
       "       0.08604515, 0.07608533, 0.07242866])"
      ]
     },
     "execution_count": 750,
     "metadata": {},
     "output_type": "execute_result"
    }
   ],
   "source": [
    "# Gini importance\n",
    "rf_model.feature_importances_"
   ]
  },
  {
   "cell_type": "code",
   "execution_count": 751,
   "id": "-81DVf7YxCvy",
   "metadata": {
    "id": "-81DVf7YxCvy"
   },
   "outputs": [
    {
     "data": {
      "image/png": "[encoded data removed]",
      "text/plain": [
       "<Figure size 432x288 with 1 Axes>"
      ]
     },
     "metadata": {
      "needs_background": "light"
     },
     "output_type": "display_data"
    }
   ],
   "source": [
    "plt.bar(test_values_subset.columns, rf_model.feature_importances_)\n",
    "plt.xlabel('Features')\n",
    "plt.ylabel('Importancia')\n",
    "plt.title('Importancia Features con RF')\n",
    "plt.show()"
   ]
  }
 ],
 "metadata": {
  "colab": {
   "name": "Modelo con GS.ipynb",
   "provenance": []
  },
  "kernelspec": {
   "display_name": "Python 3",
   "language": "python",
   "name": "python3"
  },
  "language_info": {
   "codemirror_mode": {
    "name": "ipython",
    "version": 3
   },
   "file_extension": ".py",
   "mimetype": "text/x-python",
   "name": "python",
   "nbconvert_exporter": "python",
   "pygments_lexer": "ipython3",
   "version": "3.8.8"
  }
 },
 "nbformat": 4,
 "nbformat_minor": 5
}
