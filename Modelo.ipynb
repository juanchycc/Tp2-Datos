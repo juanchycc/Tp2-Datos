{
 "cells": [
  {
   "cell_type": "code",
   "execution_count": 267,
   "id": "b810311d",
   "metadata": {},
   "outputs": [],
   "source": [
    "import pandas as pd\n",
    "import seaborn as sns\n",
    "import matplotlib.pyplot as plot"
   ]
  },
  {
   "cell_type": "code",
   "execution_count": 268,
   "id": "87755314",
   "metadata": {},
   "outputs": [],
   "source": [
    "train_values = pd.read_csv('train_values.csv')\n",
    "train_labels = pd.read_csv('train_labels.csv')"
   ]
  },
  {
   "cell_type": "code",
   "execution_count": 269,
   "id": "3b2e9945",
   "metadata": {},
   "outputs": [
    {
     "data": {
      "text/html": [
       "<div>\n",
       "<style scoped>\n",
       "    .dataframe tbody tr th:only-of-type {\n",
       "        vertical-align: middle;\n",
       "    }\n",
       "\n",
       "    .dataframe tbody tr th {\n",
       "        vertical-align: top;\n",
       "    }\n",
       "\n",
       "    .dataframe thead th {\n",
       "        text-align: right;\n",
       "    }\n",
       "</style>\n",
       "<table border=\"1\" class=\"dataframe\">\n",
       "  <thead>\n",
       "    <tr style=\"text-align: right;\">\n",
       "      <th></th>\n",
       "      <th>geo_level_1_id</th>\n",
       "      <th>geo_level_2_id</th>\n",
       "      <th>geo_level_3_id</th>\n",
       "      <th>count_floors_pre_eq</th>\n",
       "      <th>age</th>\n",
       "      <th>area_percentage</th>\n",
       "      <th>height_percentage</th>\n",
       "      <th>land_surface_condition</th>\n",
       "      <th>foundation_type</th>\n",
       "      <th>roof_type</th>\n",
       "      <th>...</th>\n",
       "      <th>has_secondary_use_hotel</th>\n",
       "      <th>has_secondary_use_rental</th>\n",
       "      <th>has_secondary_use_institution</th>\n",
       "      <th>has_secondary_use_school</th>\n",
       "      <th>has_secondary_use_industry</th>\n",
       "      <th>has_secondary_use_health_post</th>\n",
       "      <th>has_secondary_use_gov_office</th>\n",
       "      <th>has_secondary_use_use_police</th>\n",
       "      <th>has_secondary_use_other</th>\n",
       "      <th>damage_grade</th>\n",
       "    </tr>\n",
       "  </thead>\n",
       "  <tbody>\n",
       "    <tr>\n",
       "      <th>0</th>\n",
       "      <td>6</td>\n",
       "      <td>487</td>\n",
       "      <td>12198</td>\n",
       "      <td>2</td>\n",
       "      <td>30</td>\n",
       "      <td>6</td>\n",
       "      <td>5</td>\n",
       "      <td>t</td>\n",
       "      <td>r</td>\n",
       "      <td>n</td>\n",
       "      <td>...</td>\n",
       "      <td>0</td>\n",
       "      <td>0</td>\n",
       "      <td>0</td>\n",
       "      <td>0</td>\n",
       "      <td>0</td>\n",
       "      <td>0</td>\n",
       "      <td>0</td>\n",
       "      <td>0</td>\n",
       "      <td>0</td>\n",
       "      <td>3</td>\n",
       "    </tr>\n",
       "    <tr>\n",
       "      <th>1</th>\n",
       "      <td>8</td>\n",
       "      <td>900</td>\n",
       "      <td>2812</td>\n",
       "      <td>2</td>\n",
       "      <td>10</td>\n",
       "      <td>8</td>\n",
       "      <td>7</td>\n",
       "      <td>o</td>\n",
       "      <td>r</td>\n",
       "      <td>n</td>\n",
       "      <td>...</td>\n",
       "      <td>0</td>\n",
       "      <td>0</td>\n",
       "      <td>0</td>\n",
       "      <td>0</td>\n",
       "      <td>0</td>\n",
       "      <td>0</td>\n",
       "      <td>0</td>\n",
       "      <td>0</td>\n",
       "      <td>0</td>\n",
       "      <td>2</td>\n",
       "    </tr>\n",
       "    <tr>\n",
       "      <th>2</th>\n",
       "      <td>21</td>\n",
       "      <td>363</td>\n",
       "      <td>8973</td>\n",
       "      <td>2</td>\n",
       "      <td>10</td>\n",
       "      <td>5</td>\n",
       "      <td>5</td>\n",
       "      <td>t</td>\n",
       "      <td>r</td>\n",
       "      <td>n</td>\n",
       "      <td>...</td>\n",
       "      <td>0</td>\n",
       "      <td>0</td>\n",
       "      <td>0</td>\n",
       "      <td>0</td>\n",
       "      <td>0</td>\n",
       "      <td>0</td>\n",
       "      <td>0</td>\n",
       "      <td>0</td>\n",
       "      <td>0</td>\n",
       "      <td>3</td>\n",
       "    </tr>\n",
       "    <tr>\n",
       "      <th>3</th>\n",
       "      <td>22</td>\n",
       "      <td>418</td>\n",
       "      <td>10694</td>\n",
       "      <td>2</td>\n",
       "      <td>10</td>\n",
       "      <td>6</td>\n",
       "      <td>5</td>\n",
       "      <td>t</td>\n",
       "      <td>r</td>\n",
       "      <td>n</td>\n",
       "      <td>...</td>\n",
       "      <td>0</td>\n",
       "      <td>0</td>\n",
       "      <td>0</td>\n",
       "      <td>0</td>\n",
       "      <td>0</td>\n",
       "      <td>0</td>\n",
       "      <td>0</td>\n",
       "      <td>0</td>\n",
       "      <td>0</td>\n",
       "      <td>2</td>\n",
       "    </tr>\n",
       "    <tr>\n",
       "      <th>4</th>\n",
       "      <td>11</td>\n",
       "      <td>131</td>\n",
       "      <td>1488</td>\n",
       "      <td>3</td>\n",
       "      <td>30</td>\n",
       "      <td>8</td>\n",
       "      <td>9</td>\n",
       "      <td>t</td>\n",
       "      <td>r</td>\n",
       "      <td>n</td>\n",
       "      <td>...</td>\n",
       "      <td>0</td>\n",
       "      <td>0</td>\n",
       "      <td>0</td>\n",
       "      <td>0</td>\n",
       "      <td>0</td>\n",
       "      <td>0</td>\n",
       "      <td>0</td>\n",
       "      <td>0</td>\n",
       "      <td>0</td>\n",
       "      <td>3</td>\n",
       "    </tr>\n",
       "  </tbody>\n",
       "</table>\n",
       "<p>5 rows × 39 columns</p>\n",
       "</div>"
      ],
      "text/plain": [
       "   geo_level_1_id  geo_level_2_id  geo_level_3_id  count_floors_pre_eq  age  \\\n",
       "0               6             487           12198                    2   30   \n",
       "1               8             900            2812                    2   10   \n",
       "2              21             363            8973                    2   10   \n",
       "3              22             418           10694                    2   10   \n",
       "4              11             131            1488                    3   30   \n",
       "\n",
       "   area_percentage  height_percentage land_surface_condition foundation_type  \\\n",
       "0                6                  5                      t               r   \n",
       "1                8                  7                      o               r   \n",
       "2                5                  5                      t               r   \n",
       "3                6                  5                      t               r   \n",
       "4                8                  9                      t               r   \n",
       "\n",
       "  roof_type  ... has_secondary_use_hotel has_secondary_use_rental  \\\n",
       "0         n  ...                       0                        0   \n",
       "1         n  ...                       0                        0   \n",
       "2         n  ...                       0                        0   \n",
       "3         n  ...                       0                        0   \n",
       "4         n  ...                       0                        0   \n",
       "\n",
       "  has_secondary_use_institution has_secondary_use_school  \\\n",
       "0                             0                        0   \n",
       "1                             0                        0   \n",
       "2                             0                        0   \n",
       "3                             0                        0   \n",
       "4                             0                        0   \n",
       "\n",
       "   has_secondary_use_industry  has_secondary_use_health_post  \\\n",
       "0                           0                              0   \n",
       "1                           0                              0   \n",
       "2                           0                              0   \n",
       "3                           0                              0   \n",
       "4                           0                              0   \n",
       "\n",
       "   has_secondary_use_gov_office  has_secondary_use_use_police  \\\n",
       "0                             0                             0   \n",
       "1                             0                             0   \n",
       "2                             0                             0   \n",
       "3                             0                             0   \n",
       "4                             0                             0   \n",
       "\n",
       "   has_secondary_use_other  damage_grade  \n",
       "0                        0             3  \n",
       "1                        0             2  \n",
       "2                        0             3  \n",
       "3                        0             2  \n",
       "4                        0             3  \n",
       "\n",
       "[5 rows x 39 columns]"
      ]
     },
     "execution_count": 269,
     "metadata": {},
     "output_type": "execute_result"
    }
   ],
   "source": [
    "set_train = train_values.merge(train_labels)\n",
    "set_train.drop( columns=[\"building_id\"], inplace=True)\n",
    "set_train.head()"
   ]
  },
  {
   "cell_type": "code",
   "execution_count": 270,
   "id": "e64175e4",
   "metadata": {},
   "outputs": [
    {
     "data": {
      "text/plain": [
       "geo_level_1_id                            False\n",
       "geo_level_2_id                            False\n",
       "geo_level_3_id                            False\n",
       "count_floors_pre_eq                       False\n",
       "age                                       False\n",
       "area_percentage                           False\n",
       "height_percentage                         False\n",
       "land_surface_condition                    False\n",
       "foundation_type                           False\n",
       "roof_type                                 False\n",
       "ground_floor_type                         False\n",
       "other_floor_type                          False\n",
       "position                                  False\n",
       "plan_configuration                        False\n",
       "has_superstructure_adobe_mud              False\n",
       "has_superstructure_mud_mortar_stone       False\n",
       "has_superstructure_stone_flag             False\n",
       "has_superstructure_cement_mortar_stone    False\n",
       "has_superstructure_mud_mortar_brick       False\n",
       "has_superstructure_cement_mortar_brick    False\n",
       "has_superstructure_timber                 False\n",
       "has_superstructure_bamboo                 False\n",
       "has_superstructure_rc_non_engineered      False\n",
       "has_superstructure_rc_engineered          False\n",
       "has_superstructure_other                  False\n",
       "legal_ownership_status                    False\n",
       "count_families                            False\n",
       "has_secondary_use                         False\n",
       "has_secondary_use_agriculture             False\n",
       "has_secondary_use_hotel                   False\n",
       "has_secondary_use_rental                  False\n",
       "has_secondary_use_institution             False\n",
       "has_secondary_use_school                  False\n",
       "has_secondary_use_industry                False\n",
       "has_secondary_use_health_post             False\n",
       "has_secondary_use_gov_office              False\n",
       "has_secondary_use_use_police              False\n",
       "has_secondary_use_other                   False\n",
       "damage_grade                              False\n",
       "dtype: bool"
      ]
     },
     "execution_count": 270,
     "metadata": {},
     "output_type": "execute_result"
    }
   ],
   "source": [
    "#verificamos si tenemos algun valor nulo\n",
    "set_train.isnull().any()"
   ]
  },
  {
   "cell_type": "code",
   "execution_count": 271,
   "id": "8c2310fc",
   "metadata": {},
   "outputs": [],
   "source": [
    "#ELIMINO LAS FILAS DUPLICADAS, CHEQUEAR SI ES CORRECTO HACER ESTO\n",
    "len_inicial=len(set_train)\n",
    "set_train=set_train.drop_duplicates(keep=False)\n",
    "len_final = len(set_train)"
   ]
  },
  {
   "cell_type": "code",
   "execution_count": 272,
   "id": "eea57d05",
   "metadata": {},
   "outputs": [
    {
     "data": {
      "text/plain": [
       "22068"
      ]
     },
     "execution_count": 272,
     "metadata": {},
     "output_type": "execute_result"
    }
   ],
   "source": [
    "#CANTIDAD DE FILAS DUPLICADAS ELIMINADAS\n",
    "len_inicial-len_final"
   ]
  },
  {
   "cell_type": "markdown",
   "id": "1c456603",
   "metadata": {},
   "source": [
    "#Evaluamos como varian las categoricas numericas, para buscar datos que puedan\n",
    "#perturbar el analisis. (por lo tanto binario no se evalua, categorico tampoco)\n"
   ]
  },
  {
   "cell_type": "code",
   "execution_count": 273,
   "id": "e49fd665",
   "metadata": {},
   "outputs": [
    {
     "data": {
      "text/plain": [
       "<AxesSubplot:ylabel='Frequency'>"
      ]
     },
     "execution_count": 273,
     "metadata": {},
     "output_type": "execute_result"
    },
    {
     "data": {
      "image/png": "[encoded data removed]",
      "text/plain": [
       "<Figure size 432x288 with 1 Axes>"
      ]
     },
     "metadata": {
      "needs_background": "light"
     },
     "output_type": "display_data"
    }
   ],
   "source": [
    "set_train['geo_level_1_id'].plot.hist(bins=30,color='#F2AB6D')"
   ]
  },
  {
   "cell_type": "code",
   "execution_count": 274,
   "id": "9b276a35",
   "metadata": {},
   "outputs": [
    {
     "data": {
      "text/plain": [
       "<AxesSubplot:ylabel='Frequency'>"
      ]
     },
     "execution_count": 274,
     "metadata": {},
     "output_type": "execute_result"
    },
    {
     "data": {
      "image/png": "[encoded data removed]",
      "text/plain": [
       "<Figure size 432x288 with 1 Axes>"
      ]
     },
     "metadata": {
      "needs_background": "light"
     },
     "output_type": "display_data"
    }
   ],
   "source": [
    "set_train['geo_level_2_id'].plot.hist(bins=30,color='#F2AB6D')"
   ]
  },
  {
   "cell_type": "code",
   "execution_count": 275,
   "id": "d6e77c5f",
   "metadata": {},
   "outputs": [
    {
     "data": {
      "text/plain": [
       "<AxesSubplot:ylabel='Frequency'>"
      ]
     },
     "execution_count": 275,
     "metadata": {},
     "output_type": "execute_result"
    },
    {
     "data": {
      "image/png": "[encoded data removed]",
      "text/plain": [
       "<Figure size 432x288 with 1 Axes>"
      ]
     },
     "metadata": {
      "needs_background": "light"
     },
     "output_type": "display_data"
    }
   ],
   "source": [
    "set_train['geo_level_3_id'].plot.hist(bins=30,color='#F2AB6D')"
   ]
  },
  {
   "cell_type": "code",
   "execution_count": 276,
   "id": "23b89687",
   "metadata": {},
   "outputs": [
    {
     "name": "stderr",
     "output_type": "stream",
     "text": [
      "/home/juanfiuba/.local/lib/python3.8/site-packages/seaborn/_decorators.py:36: FutureWarning: Pass the following variable as a keyword arg: x. From version 0.12, the only valid positional argument will be `data`, and passing other arguments without an explicit keyword will result in an error or misinterpretation.\n",
      "  warnings.warn(\n"
     ]
    },
    {
     "data": {
      "text/plain": [
       "<AxesSubplot:xlabel='damage_grade', ylabel='count'>"
      ]
     },
     "execution_count": 276,
     "metadata": {},
     "output_type": "execute_result"
    },
    {
     "data": {
      "image/png": "[encoded data removed]",
      "text/plain": [
       "<Figure size 432x288 with 1 Axes>"
      ]
     },
     "metadata": {
      "needs_background": "light"
     },
     "output_type": "display_data"
    }
   ],
   "source": [
    "#set_train['damage_grade'].plot.hist(bins=3,color='#F2AB6D',rwidth=0.1,figsize=(10,4))\n",
    "sns.countplot(set_train['damage_grade'],color='#F2AB6D')"
   ]
  },
  {
   "cell_type": "code",
   "execution_count": 277,
   "id": "7753a62f",
   "metadata": {},
   "outputs": [
    {
     "data": {
      "text/plain": [
       "<AxesSubplot:ylabel='Frequency'>"
      ]
     },
     "execution_count": 277,
     "metadata": {},
     "output_type": "execute_result"
    },
    {
     "data": {
      "image/png": "[encoded data removed]",
      "text/plain": [
       "<Figure size 720x288 with 1 Axes>"
      ]
     },
     "metadata": {
      "needs_background": "light"
     },
     "output_type": "display_data"
    }
   ],
   "source": [
    "set_train['age'].plot.hist(bins=50,color='#F2AB6D',figsize=(10,4))"
   ]
  },
  {
   "cell_type": "code",
   "execution_count": 278,
   "id": "8934deed",
   "metadata": {},
   "outputs": [
    {
     "data": {
      "text/plain": [
       "238533"
      ]
     },
     "execution_count": 278,
     "metadata": {},
     "output_type": "execute_result"
    }
   ],
   "source": [
    "len(set_train)"
   ]
  },
  {
   "cell_type": "code",
   "execution_count": 279,
   "id": "5f16df54",
   "metadata": {},
   "outputs": [
    {
     "data": {
      "text/plain": [
       "<AxesSubplot:ylabel='Frequency'>"
      ]
     },
     "execution_count": 279,
     "metadata": {},
     "output_type": "execute_result"
    },
    {
     "data": {
      "image/png": "[encoded data removed]",
      "text/plain": [
       "<Figure size 720x288 with 1 Axes>"
      ]
     },
     "metadata": {
      "needs_background": "light"
     },
     "output_type": "display_data"
    }
   ],
   "source": [
    "#REVISAR, ES CORRECTO ELIMINAR LAS FILAS? O ES MEJOR CAMBIAR LA EDAD\n",
    "#se podria cambiar la edad de los mayores a 200 por 200\n",
    "set_train = set_train[set_train['age'] <= 200]\n",
    "set_train['age'].plot.hist(bins=50,color='#F2AB6D',figsize=(10,4))"
   ]
  },
  {
   "cell_type": "code",
   "execution_count": 280,
   "id": "ae6c73ad",
   "metadata": {},
   "outputs": [
    {
     "data": {
      "text/plain": [
       "237320"
      ]
     },
     "execution_count": 280,
     "metadata": {},
     "output_type": "execute_result"
    }
   ],
   "source": [
    "#PERDIDA DE UNAS 1000 FILAS...\n",
    "len(set_train)"
   ]
  },
  {
   "cell_type": "code",
   "execution_count": 281,
   "id": "9c3351db",
   "metadata": {},
   "outputs": [
    {
     "name": "stderr",
     "output_type": "stream",
     "text": [
      "/home/juanfiuba/.local/lib/python3.8/site-packages/seaborn/_decorators.py:36: FutureWarning: Pass the following variable as a keyword arg: x. From version 0.12, the only valid positional argument will be `data`, and passing other arguments without an explicit keyword will result in an error or misinterpretation.\n",
      "  warnings.warn(\n"
     ]
    },
    {
     "data": {
      "text/plain": [
       "<AxesSubplot:xlabel='count_floors_pre_eq', ylabel='count'>"
      ]
     },
     "execution_count": 281,
     "metadata": {},
     "output_type": "execute_result"
    },
    {
     "data": {
      "image/png": "[encoded data removed]",
      "text/plain": [
       "<Figure size 432x288 with 1 Axes>"
      ]
     },
     "metadata": {
      "needs_background": "light"
     },
     "output_type": "display_data"
    }
   ],
   "source": [
    "sns.countplot(set_train['count_floors_pre_eq'],color='#F2AB6D')"
   ]
  },
  {
   "cell_type": "code",
   "execution_count": 282,
   "id": "b6aafe46",
   "metadata": {},
   "outputs": [
    {
     "data": {
      "text/plain": [
       "2    141035\n",
       "3     50596\n",
       "1     38117\n",
       "4      5187\n",
       "5      2142\n",
       "6       202\n",
       "7        39\n",
       "8         1\n",
       "9         1\n",
       "Name: count_floors_pre_eq, dtype: int64"
      ]
     },
     "execution_count": 282,
     "metadata": {},
     "output_type": "execute_result"
    }
   ],
   "source": [
    "#Notamos la desproporcionalidad, decidimos eliminar el 8 y 9\n",
    "#ACA LO MISMO SE PUEDE REEMPLAZAR EN VEZ DE ELIMINAR E INCLUSO TOMAR \n",
    "#TAMBIEN EL 6 Y 7 QUE ESTAN BASTANTE DESPROPORCIONADOS\n",
    "set_train['count_floors_pre_eq'].value_counts()"
   ]
  },
  {
   "cell_type": "code",
   "execution_count": 283,
   "id": "bb07e0bf",
   "metadata": {},
   "outputs": [],
   "source": [
    "set_train = set_train[set_train['count_floors_pre_eq'] <= 7]"
   ]
  },
  {
   "cell_type": "code",
   "execution_count": 284,
   "id": "efa9fd29",
   "metadata": {},
   "outputs": [
    {
     "data": {
      "text/plain": [
       "<AxesSubplot:ylabel='Frequency'>"
      ]
     },
     "execution_count": 284,
     "metadata": {},
     "output_type": "execute_result"
    },
    {
     "data": {
      "image/png": "[encoded data removed]",
      "text/plain": [
       "<Figure size 432x288 with 1 Axes>"
      ]
     },
     "metadata": {
      "needs_background": "light"
     },
     "output_type": "display_data"
    }
   ],
   "source": [
    "set_train['area_percentage'].plot.hist(bins=24,color='#F2AB6D')"
   ]
  },
  {
   "cell_type": "code",
   "execution_count": 285,
   "id": "ddd24931",
   "metadata": {},
   "outputs": [
    {
     "data": {
      "text/plain": [
       "<AxesSubplot:ylabel='Frequency'>"
      ]
     },
     "execution_count": 285,
     "metadata": {},
     "output_type": "execute_result"
    },
    {
     "data": {
      "image/png": "[encoded data removed]",
      "text/plain": [
       "<Figure size 720x288 with 1 Axes>"
      ]
     },
     "metadata": {
      "needs_background": "light"
     },
     "output_type": "display_data"
    }
   ],
   "source": [
    "set_train['count_families'].plot.hist(bins=30,color='#F2AB6D',figsize=(10,4))"
   ]
  },
  {
   "cell_type": "code",
   "execution_count": 286,
   "id": "c1f23f2e",
   "metadata": {},
   "outputs": [
    {
     "data": {
      "text/plain": [
       "<AxesSubplot:ylabel='Frequency'>"
      ]
     },
     "execution_count": 286,
     "metadata": {},
     "output_type": "execute_result"
    },
    {
     "data": {
      "image/png": "[encoded data removed]",
      "text/plain": [
       "<Figure size 432x288 with 1 Axes>"
      ]
     },
     "metadata": {
      "needs_background": "light"
     },
     "output_type": "display_data"
    }
   ],
   "source": [
    "set_train['height_percentage'].plot.hist(bins=30,color='#F2AB6D')"
   ]
  }
 ],
 "metadata": {
  "kernelspec": {
   "display_name": "Python 3",
   "language": "python",
   "name": "python3"
  },
  "language_info": {
   "codemirror_mode": {
    "name": "ipython",
    "version": 3
   },
   "file_extension": ".py",
   "mimetype": "text/x-python",
   "name": "python",
   "nbconvert_exporter": "python",
   "pygments_lexer": "ipython3",
   "version": "3.8.5"
  }
 },
 "nbformat": 4,
 "nbformat_minor": 5
}
